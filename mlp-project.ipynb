{
 "cells": [
  {
   "cell_type": "markdown",
   "id": "3e5681ed",
   "metadata": {
    "papermill": {
     "duration": 0.02438,
     "end_time": "2022-12-18T22:28:24.875500",
     "exception": false,
     "start_time": "2022-12-18T22:28:24.851120",
     "status": "completed"
    },
    "tags": []
   },
   "source": [
    "## Data Loading"
   ]
  },
  {
   "cell_type": "code",
   "execution_count": 1,
   "id": "1515da7f",
   "metadata": {
    "execution": {
     "iopub.execute_input": "2022-12-18T22:28:24.920295Z",
     "iopub.status.busy": "2022-12-18T22:28:24.919793Z",
     "iopub.status.idle": "2022-12-18T22:28:25.981983Z",
     "shell.execute_reply": "2022-12-18T22:28:25.981106Z"
    },
    "papermill": {
     "duration": 1.086859,
     "end_time": "2022-12-18T22:28:25.984179",
     "exception": false,
     "start_time": "2022-12-18T22:28:24.897320",
     "status": "completed"
    },
    "tags": []
   },
   "outputs": [
    {
     "name": "stdout",
     "output_type": "stream",
     "text": [
      "(12379, 31)\n"
     ]
    }
   ],
   "source": [
    "import numpy as np \n",
    "import pandas as pd\n",
    "import seaborn as sns\n",
    "pd.options.display.max_columns = None\n",
    "df=pd.read_csv('/kaggle/input/marketing-strategy-personalised-offer/train_data.csv')\n",
    "print(df.shape)\n",
    "df2=pd.read_csv('/kaggle/input/marketing-strategy-personalised-offer/test_data.csv')"
   ]
  },
  {
   "cell_type": "markdown",
   "id": "ca1f0981",
   "metadata": {
    "papermill": {
     "duration": 0.02056,
     "end_time": "2022-12-18T22:28:26.025944",
     "exception": false,
     "start_time": "2022-12-18T22:28:26.005384",
     "status": "completed"
    },
    "tags": []
   },
   "source": [
    "## Data Cleaning "
   ]
  },
  {
   "cell_type": "code",
   "execution_count": 2,
   "id": "d415cf1e",
   "metadata": {
    "execution": {
     "iopub.execute_input": "2022-12-18T22:28:26.068880Z",
     "iopub.status.busy": "2022-12-18T22:28:26.068534Z",
     "iopub.status.idle": "2022-12-18T22:28:26.098471Z",
     "shell.execute_reply": "2022-12-18T22:28:26.097088Z"
    },
    "papermill": {
     "duration": 0.054315,
     "end_time": "2022-12-18T22:28:26.100852",
     "exception": false,
     "start_time": "2022-12-18T22:28:26.046537",
     "status": "completed"
    },
    "tags": []
   },
   "outputs": [
    {
     "data": {
      "text/html": [
       "<div>\n",
       "<style scoped>\n",
       "    .dataframe tbody tr th:only-of-type {\n",
       "        vertical-align: middle;\n",
       "    }\n",
       "\n",
       "    .dataframe tbody tr th {\n",
       "        vertical-align: top;\n",
       "    }\n",
       "\n",
       "    .dataframe thead th {\n",
       "        text-align: right;\n",
       "    }\n",
       "</style>\n",
       "<table border=\"1\" class=\"dataframe\">\n",
       "  <thead>\n",
       "    <tr style=\"text-align: right;\">\n",
       "      <th></th>\n",
       "      <th>offer expiration</th>\n",
       "      <th>income_range</th>\n",
       "      <th>no_visited_Cold drinks</th>\n",
       "      <th>travelled_more_than_15mins_for_offer</th>\n",
       "      <th>Restaur_spend_less_than20</th>\n",
       "      <th>Marital Status</th>\n",
       "      <th>restaurant type</th>\n",
       "      <th>age</th>\n",
       "      <th>Prefer western over chinese</th>\n",
       "      <th>travelled_more_than_25mins_for_offer</th>\n",
       "      <th>travelled_more_than_5mins_for_offer</th>\n",
       "      <th>no_visited_bars</th>\n",
       "      <th>gender</th>\n",
       "      <th>car</th>\n",
       "      <th>restuarant_same_direction_house</th>\n",
       "      <th>Cooks regularly</th>\n",
       "      <th>Customer type</th>\n",
       "      <th>Qualification</th>\n",
       "      <th>is foodie</th>\n",
       "      <th>no_Take-aways</th>\n",
       "      <th>Job/Job Industry</th>\n",
       "      <th>restuarant_opposite_direction_house</th>\n",
       "      <th>has Children</th>\n",
       "      <th>visit restaurant with rating (avg)</th>\n",
       "      <th>temperature</th>\n",
       "      <th>Restaur_spend_greater_than20</th>\n",
       "      <th>Travel Time</th>\n",
       "      <th>Climate</th>\n",
       "      <th>drop location</th>\n",
       "      <th>Prefer home food</th>\n",
       "      <th>Offer Accepted</th>\n",
       "    </tr>\n",
       "  </thead>\n",
       "  <tbody>\n",
       "    <tr>\n",
       "      <th>0</th>\n",
       "      <td>2days</td>\n",
       "      <td>₹100000 or More</td>\n",
       "      <td>4~8</td>\n",
       "      <td>1</td>\n",
       "      <td>less1</td>\n",
       "      <td>Married partner</td>\n",
       "      <td>4 star restaurant</td>\n",
       "      <td>36</td>\n",
       "      <td>0</td>\n",
       "      <td>0</td>\n",
       "      <td>1</td>\n",
       "      <td>less1</td>\n",
       "      <td>Female</td>\n",
       "      <td>NaN</td>\n",
       "      <td>0</td>\n",
       "      <td>1</td>\n",
       "      <td>Individual</td>\n",
       "      <td>Bachelors degree</td>\n",
       "      <td>0</td>\n",
       "      <td>1~3</td>\n",
       "      <td>Unemployed</td>\n",
       "      <td>0</td>\n",
       "      <td>0</td>\n",
       "      <td>4</td>\n",
       "      <td>67</td>\n",
       "      <td>less1</td>\n",
       "      <td>22</td>\n",
       "      <td>Spring</td>\n",
       "      <td>Location B</td>\n",
       "      <td>0</td>\n",
       "      <td>No</td>\n",
       "    </tr>\n",
       "    <tr>\n",
       "      <th>1</th>\n",
       "      <td>2days</td>\n",
       "      <td>₹87500 - ₹99999</td>\n",
       "      <td>4~8</td>\n",
       "      <td>0</td>\n",
       "      <td>4~8</td>\n",
       "      <td>Married partner</td>\n",
       "      <td>Take-away restaurant</td>\n",
       "      <td>50plus</td>\n",
       "      <td>0</td>\n",
       "      <td>0</td>\n",
       "      <td>1</td>\n",
       "      <td>never</td>\n",
       "      <td>Female</td>\n",
       "      <td>NaN</td>\n",
       "      <td>1</td>\n",
       "      <td>1</td>\n",
       "      <td>Individual</td>\n",
       "      <td>Bachelors degree</td>\n",
       "      <td>0</td>\n",
       "      <td>1~3</td>\n",
       "      <td>Unemployed</td>\n",
       "      <td>0</td>\n",
       "      <td>1</td>\n",
       "      <td>3</td>\n",
       "      <td>89</td>\n",
       "      <td>1~3</td>\n",
       "      <td>18</td>\n",
       "      <td>Summer</td>\n",
       "      <td>Location B</td>\n",
       "      <td>0</td>\n",
       "      <td>Yes</td>\n",
       "    </tr>\n",
       "    <tr>\n",
       "      <th>2</th>\n",
       "      <td>2days</td>\n",
       "      <td>₹87500 - ₹99999</td>\n",
       "      <td>less1</td>\n",
       "      <td>1</td>\n",
       "      <td>1~3</td>\n",
       "      <td>Single</td>\n",
       "      <td>Cold drinks</td>\n",
       "      <td>26</td>\n",
       "      <td>1</td>\n",
       "      <td>0</td>\n",
       "      <td>1</td>\n",
       "      <td>never</td>\n",
       "      <td>Female</td>\n",
       "      <td>Mazda5</td>\n",
       "      <td>1</td>\n",
       "      <td>0</td>\n",
       "      <td>Individual</td>\n",
       "      <td>Bachelors degree</td>\n",
       "      <td>1</td>\n",
       "      <td>1~3</td>\n",
       "      <td>Arts Design Entertainment Sports &amp; Media</td>\n",
       "      <td>1</td>\n",
       "      <td>1</td>\n",
       "      <td>4</td>\n",
       "      <td>67</td>\n",
       "      <td>less1</td>\n",
       "      <td>7</td>\n",
       "      <td>Winter</td>\n",
       "      <td>Location A</td>\n",
       "      <td>1</td>\n",
       "      <td>Yes</td>\n",
       "    </tr>\n",
       "    <tr>\n",
       "      <th>3</th>\n",
       "      <td>10hours</td>\n",
       "      <td>₹37500 - ₹49999</td>\n",
       "      <td>less1</td>\n",
       "      <td>0</td>\n",
       "      <td>1~3</td>\n",
       "      <td>Single</td>\n",
       "      <td>Take-away restaurant</td>\n",
       "      <td>46</td>\n",
       "      <td>1</td>\n",
       "      <td>0</td>\n",
       "      <td>1</td>\n",
       "      <td>never</td>\n",
       "      <td>Male</td>\n",
       "      <td>NaN</td>\n",
       "      <td>1</td>\n",
       "      <td>0</td>\n",
       "      <td>Individual</td>\n",
       "      <td>Some college - no degree</td>\n",
       "      <td>1</td>\n",
       "      <td>1~3</td>\n",
       "      <td>Sales &amp; Related</td>\n",
       "      <td>0</td>\n",
       "      <td>1</td>\n",
       "      <td>3</td>\n",
       "      <td>89</td>\n",
       "      <td>1~3</td>\n",
       "      <td>7</td>\n",
       "      <td>Summer</td>\n",
       "      <td>Location C</td>\n",
       "      <td>0</td>\n",
       "      <td>No</td>\n",
       "    </tr>\n",
       "    <tr>\n",
       "      <th>4</th>\n",
       "      <td>2days</td>\n",
       "      <td>₹100000 or More</td>\n",
       "      <td>never</td>\n",
       "      <td>1</td>\n",
       "      <td>1~3</td>\n",
       "      <td>Single</td>\n",
       "      <td>4 star restaurant</td>\n",
       "      <td>21</td>\n",
       "      <td>0</td>\n",
       "      <td>1</td>\n",
       "      <td>1</td>\n",
       "      <td>less1</td>\n",
       "      <td>Female</td>\n",
       "      <td>NaN</td>\n",
       "      <td>0</td>\n",
       "      <td>0</td>\n",
       "      <td>Individual</td>\n",
       "      <td>Some college - no degree</td>\n",
       "      <td>1</td>\n",
       "      <td>gt8</td>\n",
       "      <td>Sales &amp; Related</td>\n",
       "      <td>1</td>\n",
       "      <td>0</td>\n",
       "      <td>3</td>\n",
       "      <td>40</td>\n",
       "      <td>less1</td>\n",
       "      <td>7</td>\n",
       "      <td>Summer</td>\n",
       "      <td>Location C</td>\n",
       "      <td>0</td>\n",
       "      <td>No</td>\n",
       "    </tr>\n",
       "  </tbody>\n",
       "</table>\n",
       "</div>"
      ],
      "text/plain": [
       "  offer expiration     income_range no_visited_Cold drinks  \\\n",
       "0            2days  ₹100000 or More                    4~8   \n",
       "1            2days  ₹87500 - ₹99999                    4~8   \n",
       "2            2days  ₹87500 - ₹99999                  less1   \n",
       "3          10hours  ₹37500 - ₹49999                  less1   \n",
       "4            2days  ₹100000 or More                  never   \n",
       "\n",
       "   travelled_more_than_15mins_for_offer Restaur_spend_less_than20  \\\n",
       "0                                     1                     less1   \n",
       "1                                     0                       4~8   \n",
       "2                                     1                       1~3   \n",
       "3                                     0                       1~3   \n",
       "4                                     1                       1~3   \n",
       "\n",
       "    Marital Status       restaurant type     age  Prefer western over chinese  \\\n",
       "0  Married partner     4 star restaurant      36                            0   \n",
       "1  Married partner  Take-away restaurant  50plus                            0   \n",
       "2           Single           Cold drinks      26                            1   \n",
       "3           Single  Take-away restaurant      46                            1   \n",
       "4           Single     4 star restaurant      21                            0   \n",
       "\n",
       "   travelled_more_than_25mins_for_offer  travelled_more_than_5mins_for_offer  \\\n",
       "0                                     0                                    1   \n",
       "1                                     0                                    1   \n",
       "2                                     0                                    1   \n",
       "3                                     0                                    1   \n",
       "4                                     1                                    1   \n",
       "\n",
       "  no_visited_bars  gender     car  restuarant_same_direction_house  \\\n",
       "0           less1  Female     NaN                                0   \n",
       "1           never  Female     NaN                                1   \n",
       "2           never  Female  Mazda5                                1   \n",
       "3           never    Male     NaN                                1   \n",
       "4           less1  Female     NaN                                0   \n",
       "\n",
       "   Cooks regularly Customer type             Qualification  is foodie  \\\n",
       "0                1    Individual          Bachelors degree          0   \n",
       "1                1    Individual          Bachelors degree          0   \n",
       "2                0    Individual          Bachelors degree          1   \n",
       "3                0    Individual  Some college - no degree          1   \n",
       "4                0    Individual  Some college - no degree          1   \n",
       "\n",
       "  no_Take-aways                          Job/Job Industry  \\\n",
       "0           1~3                                Unemployed   \n",
       "1           1~3                                Unemployed   \n",
       "2           1~3  Arts Design Entertainment Sports & Media   \n",
       "3           1~3                           Sales & Related   \n",
       "4           gt8                           Sales & Related   \n",
       "\n",
       "   restuarant_opposite_direction_house  has Children  \\\n",
       "0                                    0             0   \n",
       "1                                    0             1   \n",
       "2                                    1             1   \n",
       "3                                    0             1   \n",
       "4                                    1             0   \n",
       "\n",
       "   visit restaurant with rating (avg)  temperature  \\\n",
       "0                                   4           67   \n",
       "1                                   3           89   \n",
       "2                                   4           67   \n",
       "3                                   3           89   \n",
       "4                                   3           40   \n",
       "\n",
       "  Restaur_spend_greater_than20  Travel Time Climate drop location  \\\n",
       "0                        less1           22  Spring    Location B   \n",
       "1                          1~3           18  Summer    Location B   \n",
       "2                        less1            7  Winter    Location A   \n",
       "3                          1~3            7  Summer    Location C   \n",
       "4                        less1            7  Summer    Location C   \n",
       "\n",
       "   Prefer home food Offer Accepted  \n",
       "0                 0             No  \n",
       "1                 0            Yes  \n",
       "2                 1            Yes  \n",
       "3                 0             No  \n",
       "4                 0             No  "
      ]
     },
     "execution_count": 2,
     "metadata": {},
     "output_type": "execute_result"
    }
   ],
   "source": [
    "df.head()"
   ]
  },
  {
   "cell_type": "code",
   "execution_count": 3,
   "id": "9b9e2e4b",
   "metadata": {
    "execution": {
     "iopub.execute_input": "2022-12-18T22:28:26.145304Z",
     "iopub.status.busy": "2022-12-18T22:28:26.144933Z",
     "iopub.status.idle": "2022-12-18T22:28:26.176847Z",
     "shell.execute_reply": "2022-12-18T22:28:26.175563Z"
    },
    "papermill": {
     "duration": 0.057065,
     "end_time": "2022-12-18T22:28:26.179441",
     "exception": false,
     "start_time": "2022-12-18T22:28:26.122376",
     "status": "completed"
    },
    "tags": []
   },
   "outputs": [
    {
     "name": "stdout",
     "output_type": "stream",
     "text": [
      "<class 'pandas.core.frame.DataFrame'>\n",
      "RangeIndex: 12379 entries, 0 to 12378\n",
      "Data columns (total 31 columns):\n",
      " #   Column                                Non-Null Count  Dtype \n",
      "---  ------                                --------------  ----- \n",
      " 0   offer expiration                      12379 non-null  object\n",
      " 1   income_range                          12379 non-null  object\n",
      " 2   no_visited_Cold drinks                12181 non-null  object\n",
      " 3   travelled_more_than_15mins_for_offer  12379 non-null  int64 \n",
      " 4   Restaur_spend_less_than20             12258 non-null  object\n",
      " 5   Marital Status                        12379 non-null  object\n",
      " 6   restaurant type                       12379 non-null  object\n",
      " 7   age                                   12379 non-null  object\n",
      " 8   Prefer western over chinese           12379 non-null  int64 \n",
      " 9   travelled_more_than_25mins_for_offer  12379 non-null  int64 \n",
      " 10  travelled_more_than_5mins_for_offer   12379 non-null  int64 \n",
      " 11  no_visited_bars                       12286 non-null  object\n",
      " 12  gender                                12379 non-null  object\n",
      " 13  car                                   111 non-null    object\n",
      " 14  restuarant_same_direction_house       12379 non-null  int64 \n",
      " 15  Cooks regularly                       12379 non-null  int64 \n",
      " 16  Customer type                         12379 non-null  object\n",
      " 17  Qualification                         12379 non-null  object\n",
      " 18  is foodie                             12379 non-null  int64 \n",
      " 19  no_Take-aways                         12235 non-null  object\n",
      " 20  Job/Job Industry                      12379 non-null  object\n",
      " 21  restuarant_opposite_direction_house   12379 non-null  int64 \n",
      " 22  has Children                          12379 non-null  int64 \n",
      " 23  visit restaurant with rating (avg)    12379 non-null  int64 \n",
      " 24  temperature                           12379 non-null  int64 \n",
      " 25  Restaur_spend_greater_than20          12219 non-null  object\n",
      " 26  Travel Time                           12379 non-null  int64 \n",
      " 27  Climate                               12379 non-null  object\n",
      " 28  drop location                         12379 non-null  object\n",
      " 29  Prefer home food                      12379 non-null  int64 \n",
      " 30  Offer Accepted                        12379 non-null  object\n",
      "dtypes: int64(13), object(18)\n",
      "memory usage: 2.9+ MB\n"
     ]
    }
   ],
   "source": [
    "df.info()"
   ]
  },
  {
   "cell_type": "code",
   "execution_count": 4,
   "id": "84b117a6",
   "metadata": {
    "execution": {
     "iopub.execute_input": "2022-12-18T22:28:26.224542Z",
     "iopub.status.busy": "2022-12-18T22:28:26.224142Z",
     "iopub.status.idle": "2022-12-18T22:28:26.241932Z",
     "shell.execute_reply": "2022-12-18T22:28:26.240739Z"
    },
    "papermill": {
     "duration": 0.042898,
     "end_time": "2022-12-18T22:28:26.244332",
     "exception": false,
     "start_time": "2022-12-18T22:28:26.201434",
     "status": "completed"
    },
    "tags": []
   },
   "outputs": [
    {
     "data": {
      "text/plain": [
       "offer expiration                            0\n",
       "income_range                                0\n",
       "no_visited_Cold drinks                    198\n",
       "travelled_more_than_15mins_for_offer        0\n",
       "Restaur_spend_less_than20                 121\n",
       "Marital Status                              0\n",
       "restaurant type                             0\n",
       "age                                         0\n",
       "Prefer western over chinese                 0\n",
       "travelled_more_than_25mins_for_offer        0\n",
       "travelled_more_than_5mins_for_offer         0\n",
       "no_visited_bars                            93\n",
       "gender                                      0\n",
       "car                                     12268\n",
       "restuarant_same_direction_house             0\n",
       "Cooks regularly                             0\n",
       "Customer type                               0\n",
       "Qualification                               0\n",
       "is foodie                                   0\n",
       "no_Take-aways                             144\n",
       "Job/Job Industry                            0\n",
       "restuarant_opposite_direction_house         0\n",
       "has Children                                0\n",
       "visit restaurant with rating (avg)          0\n",
       "temperature                                 0\n",
       "Restaur_spend_greater_than20              160\n",
       "Travel Time                                 0\n",
       "Climate                                     0\n",
       "drop location                               0\n",
       "Prefer home food                            0\n",
       "Offer Accepted                              0\n",
       "dtype: int64"
      ]
     },
     "execution_count": 4,
     "metadata": {},
     "output_type": "execute_result"
    }
   ],
   "source": [
    "df.isna().sum()"
   ]
  },
  {
   "cell_type": "code",
   "execution_count": 5,
   "id": "631d6b00",
   "metadata": {
    "execution": {
     "iopub.execute_input": "2022-12-18T22:28:26.289295Z",
     "iopub.status.busy": "2022-12-18T22:28:26.288940Z",
     "iopub.status.idle": "2022-12-18T22:28:26.298451Z",
     "shell.execute_reply": "2022-12-18T22:28:26.297580Z"
    },
    "papermill": {
     "duration": 0.03427,
     "end_time": "2022-12-18T22:28:26.300470",
     "exception": false,
     "start_time": "2022-12-18T22:28:26.266200",
     "status": "completed"
    },
    "tags": []
   },
   "outputs": [],
   "source": [
    "df=df.drop(['car'],axis=1)\n",
    "df2=df2.drop(['car'],axis=1)"
   ]
  },
  {
   "cell_type": "code",
   "execution_count": 6,
   "id": "e9a332a1",
   "metadata": {
    "execution": {
     "iopub.execute_input": "2022-12-18T22:28:26.347762Z",
     "iopub.status.busy": "2022-12-18T22:28:26.347449Z",
     "iopub.status.idle": "2022-12-18T22:28:26.651072Z",
     "shell.execute_reply": "2022-12-18T22:28:26.650315Z"
    },
    "papermill": {
     "duration": 0.329463,
     "end_time": "2022-12-18T22:28:26.653390",
     "exception": false,
     "start_time": "2022-12-18T22:28:26.323927",
     "status": "completed"
    },
    "tags": []
   },
   "outputs": [],
   "source": [
    "from sklearn.impute import SimpleImputer\n",
    "from sklearn.preprocessing import OneHotEncoder"
   ]
  },
  {
   "cell_type": "code",
   "execution_count": 7,
   "id": "f86fb73f",
   "metadata": {
    "execution": {
     "iopub.execute_input": "2022-12-18T22:28:26.700007Z",
     "iopub.status.busy": "2022-12-18T22:28:26.699318Z",
     "iopub.status.idle": "2022-12-18T22:28:26.707799Z",
     "shell.execute_reply": "2022-12-18T22:28:26.707105Z"
    },
    "papermill": {
     "duration": 0.034239,
     "end_time": "2022-12-18T22:28:26.710034",
     "exception": false,
     "start_time": "2022-12-18T22:28:26.675795",
     "status": "completed"
    },
    "tags": []
   },
   "outputs": [],
   "source": [
    "y=df['Offer Accepted']\n",
    "df=df.drop('Offer Accepted',axis=1)\n",
    "data_backup=df"
   ]
  },
  {
   "cell_type": "code",
   "execution_count": 8,
   "id": "eb8f6bc8",
   "metadata": {
    "execution": {
     "iopub.execute_input": "2022-12-18T22:28:26.755685Z",
     "iopub.status.busy": "2022-12-18T22:28:26.755285Z",
     "iopub.status.idle": "2022-12-18T22:28:26.831749Z",
     "shell.execute_reply": "2022-12-18T22:28:26.830391Z"
    },
    "papermill": {
     "duration": 0.102026,
     "end_time": "2022-12-18T22:28:26.834341",
     "exception": false,
     "start_time": "2022-12-18T22:28:26.732315",
     "status": "completed"
    },
    "tags": []
   },
   "outputs": [],
   "source": [
    "si=SimpleImputer(strategy='most_frequent')\n",
    "df=si.fit_transform(df)"
   ]
  },
  {
   "cell_type": "code",
   "execution_count": 9,
   "id": "f4d25c3f",
   "metadata": {
    "execution": {
     "iopub.execute_input": "2022-12-18T22:28:26.879862Z",
     "iopub.status.busy": "2022-12-18T22:28:26.879467Z",
     "iopub.status.idle": "2022-12-18T22:28:26.891561Z",
     "shell.execute_reply": "2022-12-18T22:28:26.890520Z"
    },
    "papermill": {
     "duration": 0.037516,
     "end_time": "2022-12-18T22:28:26.893944",
     "exception": false,
     "start_time": "2022-12-18T22:28:26.856428",
     "status": "completed"
    },
    "tags": []
   },
   "outputs": [],
   "source": [
    "df = pd.DataFrame(df, columns=data_backup.columns)"
   ]
  },
  {
   "cell_type": "code",
   "execution_count": 10,
   "id": "7370e52b",
   "metadata": {
    "execution": {
     "iopub.execute_input": "2022-12-18T22:28:26.938808Z",
     "iopub.status.busy": "2022-12-18T22:28:26.938208Z",
     "iopub.status.idle": "2022-12-18T22:28:26.943525Z",
     "shell.execute_reply": "2022-12-18T22:28:26.942474Z"
    },
    "papermill": {
     "duration": 0.029888,
     "end_time": "2022-12-18T22:28:26.945461",
     "exception": false,
     "start_time": "2022-12-18T22:28:26.915573",
     "status": "completed"
    },
    "tags": []
   },
   "outputs": [],
   "source": [
    "df['Offer Accepted']=y"
   ]
  },
  {
   "cell_type": "code",
   "execution_count": 11,
   "id": "ae6ec4cd",
   "metadata": {
    "execution": {
     "iopub.execute_input": "2022-12-18T22:28:26.991711Z",
     "iopub.status.busy": "2022-12-18T22:28:26.990533Z",
     "iopub.status.idle": "2022-12-18T22:28:27.011039Z",
     "shell.execute_reply": "2022-12-18T22:28:27.010371Z"
    },
    "papermill": {
     "duration": 0.045181,
     "end_time": "2022-12-18T22:28:27.012718",
     "exception": false,
     "start_time": "2022-12-18T22:28:26.967537",
     "status": "completed"
    },
    "tags": []
   },
   "outputs": [
    {
     "data": {
      "text/plain": [
       "0"
      ]
     },
     "execution_count": 11,
     "metadata": {},
     "output_type": "execute_result"
    }
   ],
   "source": [
    "df.isna().sum().sum()"
   ]
  },
  {
   "cell_type": "code",
   "execution_count": 12,
   "id": "e5e08767",
   "metadata": {
    "execution": {
     "iopub.execute_input": "2022-12-18T22:28:27.058198Z",
     "iopub.status.busy": "2022-12-18T22:28:27.057612Z",
     "iopub.status.idle": "2022-12-18T22:28:27.068162Z",
     "shell.execute_reply": "2022-12-18T22:28:27.066805Z"
    },
    "papermill": {
     "duration": 0.035581,
     "end_time": "2022-12-18T22:28:27.070252",
     "exception": false,
     "start_time": "2022-12-18T22:28:27.034671",
     "status": "completed"
    },
    "tags": []
   },
   "outputs": [
    {
     "data": {
      "text/plain": [
       "365"
      ]
     },
     "execution_count": 12,
     "metadata": {},
     "output_type": "execute_result"
    }
   ],
   "source": [
    "df2.isna().sum().sum()"
   ]
  },
  {
   "cell_type": "code",
   "execution_count": 13,
   "id": "062cbe72",
   "metadata": {
    "execution": {
     "iopub.execute_input": "2022-12-18T22:28:27.115408Z",
     "iopub.status.busy": "2022-12-18T22:28:27.115011Z",
     "iopub.status.idle": "2022-12-18T22:28:27.129245Z",
     "shell.execute_reply": "2022-12-18T22:28:27.128260Z"
    },
    "papermill": {
     "duration": 0.039633,
     "end_time": "2022-12-18T22:28:27.131633",
     "exception": false,
     "start_time": "2022-12-18T22:28:27.092000",
     "status": "completed"
    },
    "tags": []
   },
   "outputs": [],
   "source": [
    "data_backup2=df2\n",
    "df2=si.transform(df2)"
   ]
  },
  {
   "cell_type": "code",
   "execution_count": 14,
   "id": "8b6c0827",
   "metadata": {
    "execution": {
     "iopub.execute_input": "2022-12-18T22:28:27.177133Z",
     "iopub.status.busy": "2022-12-18T22:28:27.176734Z",
     "iopub.status.idle": "2022-12-18T22:28:27.184640Z",
     "shell.execute_reply": "2022-12-18T22:28:27.183617Z"
    },
    "papermill": {
     "duration": 0.03314,
     "end_time": "2022-12-18T22:28:27.186746",
     "exception": false,
     "start_time": "2022-12-18T22:28:27.153606",
     "status": "completed"
    },
    "tags": []
   },
   "outputs": [],
   "source": [
    "df2 = pd.DataFrame(df2, columns=data_backup2.columns)"
   ]
  },
  {
   "cell_type": "markdown",
   "id": "3583de77",
   "metadata": {
    "papermill": {
     "duration": 0.021397,
     "end_time": "2022-12-18T22:28:27.230654",
     "exception": false,
     "start_time": "2022-12-18T22:28:27.209257",
     "status": "completed"
    },
    "tags": []
   },
   "source": [
    "### 1.Offer Expiration"
   ]
  },
  {
   "cell_type": "code",
   "execution_count": 15,
   "id": "59fe7115",
   "metadata": {
    "execution": {
     "iopub.execute_input": "2022-12-18T22:28:27.276320Z",
     "iopub.status.busy": "2022-12-18T22:28:27.275614Z",
     "iopub.status.idle": "2022-12-18T22:28:27.282752Z",
     "shell.execute_reply": "2022-12-18T22:28:27.281145Z"
    },
    "papermill": {
     "duration": 0.032785,
     "end_time": "2022-12-18T22:28:27.284951",
     "exception": false,
     "start_time": "2022-12-18T22:28:27.252166",
     "status": "completed"
    },
    "tags": []
   },
   "outputs": [
    {
     "name": "stdout",
     "output_type": "stream",
     "text": [
      "['2days' '10hours']\n"
     ]
    }
   ],
   "source": [
    "a=df['offer expiration'].unique()\n",
    "print(a)"
   ]
  },
  {
   "cell_type": "code",
   "execution_count": 16,
   "id": "87614206",
   "metadata": {
    "execution": {
     "iopub.execute_input": "2022-12-18T22:28:27.330188Z",
     "iopub.status.busy": "2022-12-18T22:28:27.329734Z",
     "iopub.status.idle": "2022-12-18T22:28:27.346000Z",
     "shell.execute_reply": "2022-12-18T22:28:27.345268Z"
    },
    "papermill": {
     "duration": 0.040956,
     "end_time": "2022-12-18T22:28:27.347799",
     "exception": false,
     "start_time": "2022-12-18T22:28:27.306843",
     "status": "completed"
    },
    "tags": []
   },
   "outputs": [],
   "source": [
    "df['offer expiration']=df['offer expiration'].replace(a,[48,10])\n",
    "df2['offer expiration']=df2['offer expiration'].replace(a,[48,10])"
   ]
  },
  {
   "cell_type": "markdown",
   "id": "2e6eccec",
   "metadata": {
    "papermill": {
     "duration": 0.021798,
     "end_time": "2022-12-18T22:28:27.391576",
     "exception": false,
     "start_time": "2022-12-18T22:28:27.369778",
     "status": "completed"
    },
    "tags": []
   },
   "source": [
    "### 2.Income Range"
   ]
  },
  {
   "cell_type": "code",
   "execution_count": 17,
   "id": "a4f20ed3",
   "metadata": {
    "execution": {
     "iopub.execute_input": "2022-12-18T22:28:27.436595Z",
     "iopub.status.busy": "2022-12-18T22:28:27.435580Z",
     "iopub.status.idle": "2022-12-18T22:28:27.442720Z",
     "shell.execute_reply": "2022-12-18T22:28:27.441170Z"
    },
    "papermill": {
     "duration": 0.031786,
     "end_time": "2022-12-18T22:28:27.444882",
     "exception": false,
     "start_time": "2022-12-18T22:28:27.413096",
     "status": "completed"
    },
    "tags": []
   },
   "outputs": [
    {
     "name": "stdout",
     "output_type": "stream",
     "text": [
      "['₹100000 or More' '₹87500 - ₹99999' '₹37500 - ₹49999' 'Less than ₹12500'\n",
      " '₹50000 - ₹62499' '₹12500 - ₹24999' '₹75000 - ₹87499' '₹25000 - ₹37499'\n",
      " '₹62500 - ₹74999']\n"
     ]
    }
   ],
   "source": [
    "IncomeRange=df['income_range'].unique()\n",
    "print(IncomeRange)"
   ]
  },
  {
   "cell_type": "code",
   "execution_count": 18,
   "id": "4fe7f9e7",
   "metadata": {
    "execution": {
     "iopub.execute_input": "2022-12-18T22:28:27.489884Z",
     "iopub.status.busy": "2022-12-18T22:28:27.489557Z",
     "iopub.status.idle": "2022-12-18T22:28:27.512288Z",
     "shell.execute_reply": "2022-12-18T22:28:27.510823Z"
    },
    "papermill": {
     "duration": 0.047794,
     "end_time": "2022-12-18T22:28:27.514500",
     "exception": false,
     "start_time": "2022-12-18T22:28:27.466706",
     "status": "completed"
    },
    "tags": []
   },
   "outputs": [],
   "source": [
    "income=[125000,93750,43750,10000,56250,18750,81250,31250,68750]\n",
    "df['income_range']=df['income_range'].replace(IncomeRange,income)\n",
    "df2['income_range']=df2['income_range'].replace(IncomeRange,income)"
   ]
  },
  {
   "cell_type": "markdown",
   "id": "cb96a8fa",
   "metadata": {
    "papermill": {
     "duration": 0.021633,
     "end_time": "2022-12-18T22:28:27.558222",
     "exception": false,
     "start_time": "2022-12-18T22:28:27.536589",
     "status": "completed"
    },
    "tags": []
   },
   "source": [
    "### 3. age"
   ]
  },
  {
   "cell_type": "code",
   "execution_count": 19,
   "id": "59be4c5c",
   "metadata": {
    "execution": {
     "iopub.execute_input": "2022-12-18T22:28:27.606193Z",
     "iopub.status.busy": "2022-12-18T22:28:27.604778Z",
     "iopub.status.idle": "2022-12-18T22:28:27.613501Z",
     "shell.execute_reply": "2022-12-18T22:28:27.612245Z"
    },
    "papermill": {
     "duration": 0.035418,
     "end_time": "2022-12-18T22:28:27.615603",
     "exception": false,
     "start_time": "2022-12-18T22:28:27.580185",
     "status": "completed"
    },
    "tags": []
   },
   "outputs": [
    {
     "data": {
      "text/plain": [
       "array(['36', '50plus', '26', '46', '21', 'below21', '41', '31'],\n",
       "      dtype=object)"
      ]
     },
     "execution_count": 19,
     "metadata": {},
     "output_type": "execute_result"
    }
   ],
   "source": [
    "age=df['age'].unique()\n",
    "age"
   ]
  },
  {
   "cell_type": "code",
   "execution_count": 20,
   "id": "ceb9115d",
   "metadata": {
    "execution": {
     "iopub.execute_input": "2022-12-18T22:28:27.669874Z",
     "iopub.status.busy": "2022-12-18T22:28:27.669280Z",
     "iopub.status.idle": "2022-12-18T22:28:27.689471Z",
     "shell.execute_reply": "2022-12-18T22:28:27.688275Z"
    },
    "papermill": {
     "duration": 0.051365,
     "end_time": "2022-12-18T22:28:27.691938",
     "exception": false,
     "start_time": "2022-12-18T22:28:27.640573",
     "status": "completed"
    },
    "tags": []
   },
   "outputs": [],
   "source": [
    "age_rep=[36,55,26,46,21,16,41,31]\n",
    "df['age']=df['age'].replace(age,age_rep)\n",
    "df2['age']=df2['age'].replace(age,age_rep)"
   ]
  },
  {
   "cell_type": "markdown",
   "id": "0d855425",
   "metadata": {
    "papermill": {
     "duration": 0.021346,
     "end_time": "2022-12-18T22:28:27.735331",
     "exception": false,
     "start_time": "2022-12-18T22:28:27.713985",
     "status": "completed"
    },
    "tags": []
   },
   "source": [
    "### 4. Qualification"
   ]
  },
  {
   "cell_type": "code",
   "execution_count": 21,
   "id": "18b62757",
   "metadata": {
    "execution": {
     "iopub.execute_input": "2022-12-18T22:28:27.780922Z",
     "iopub.status.busy": "2022-12-18T22:28:27.780338Z",
     "iopub.status.idle": "2022-12-18T22:28:27.784711Z",
     "shell.execute_reply": "2022-12-18T22:28:27.783724Z"
    },
    "papermill": {
     "duration": 0.029984,
     "end_time": "2022-12-18T22:28:27.787213",
     "exception": false,
     "start_time": "2022-12-18T22:28:27.757229",
     "status": "completed"
    },
    "tags": []
   },
   "outputs": [],
   "source": [
    "import matplotlib.pyplot as plt\n",
    "import seaborn as sns\n",
    "plt.rcParams[\"figure.figsize\"]=(20,10)"
   ]
  },
  {
   "cell_type": "code",
   "execution_count": 22,
   "id": "af0cce0a",
   "metadata": {
    "execution": {
     "iopub.execute_input": "2022-12-18T22:28:27.834219Z",
     "iopub.status.busy": "2022-12-18T22:28:27.833610Z",
     "iopub.status.idle": "2022-12-18T22:28:28.343028Z",
     "shell.execute_reply": "2022-12-18T22:28:28.340937Z"
    },
    "papermill": {
     "duration": 0.536754,
     "end_time": "2022-12-18T22:28:28.346403",
     "exception": false,
     "start_time": "2022-12-18T22:28:27.809649",
     "status": "completed"
    },
    "tags": []
   },
   "outputs": [
    {
     "name": "stderr",
     "output_type": "stream",
     "text": [
      "/opt/conda/lib/python3.7/site-packages/seaborn/_decorators.py:43: FutureWarning: Pass the following variables as keyword args: x, y. From version 0.12, the only valid positional argument will be `data`, and passing other arguments without an explicit keyword will result in an error or misinterpretation.\n",
      "  FutureWarning\n"
     ]
    },
    {
     "data": {
      "text/plain": [
       "<AxesSubplot:xlabel='Qualification', ylabel='income_range'>"
      ]
     },
     "execution_count": 22,
     "metadata": {},
     "output_type": "execute_result"
    },
    {
     "data": {
      "image/png": "[encoded data removed]",
      "text/plain": [
       "<Figure size 1440x720 with 1 Axes>"
      ]
     },
     "metadata": {
      "needs_background": "light"
     },
     "output_type": "display_data"
    }
   ],
   "source": [
    "sns.barplot(df['Qualification'],df['income_range'])"
   ]
  },
  {
   "cell_type": "code",
   "execution_count": 23,
   "id": "89079255",
   "metadata": {
    "execution": {
     "iopub.execute_input": "2022-12-18T22:28:28.404252Z",
     "iopub.status.busy": "2022-12-18T22:28:28.403861Z",
     "iopub.status.idle": "2022-12-18T22:28:28.411472Z",
     "shell.execute_reply": "2022-12-18T22:28:28.410578Z"
    },
    "papermill": {
     "duration": 0.03911,
     "end_time": "2022-12-18T22:28:28.413209",
     "exception": false,
     "start_time": "2022-12-18T22:28:28.374099",
     "status": "completed"
    },
    "tags": []
   },
   "outputs": [
    {
     "data": {
      "text/plain": [
       "array(['Bachelors degree', 'Some college - no degree',\n",
       "       'Graduate degree (Masters or Doctorate)', 'Associates degree',\n",
       "       'High School Graduate', 'Some High School'], dtype=object)"
      ]
     },
     "execution_count": 23,
     "metadata": {},
     "output_type": "execute_result"
    }
   ],
   "source": [
    "quali=df['Qualification'].unique()\n",
    "quali"
   ]
  },
  {
   "cell_type": "code",
   "execution_count": 24,
   "id": "1e530162",
   "metadata": {
    "execution": {
     "iopub.execute_input": "2022-12-18T22:28:28.459856Z",
     "iopub.status.busy": "2022-12-18T22:28:28.459341Z",
     "iopub.status.idle": "2022-12-18T22:28:28.478976Z",
     "shell.execute_reply": "2022-12-18T22:28:28.477645Z"
    },
    "papermill": {
     "duration": 0.045563,
     "end_time": "2022-12-18T22:28:28.481541",
     "exception": false,
     "start_time": "2022-12-18T22:28:28.435978",
     "status": "completed"
    },
    "tags": []
   },
   "outputs": [],
   "source": [
    "quali_replace=[5,3,6,4,2,1]\n",
    "df['Qualification']=df['Qualification'].replace(quali,quali_replace)\n",
    "df2['Qualification']=df2['Qualification'].replace(quali,quali_replace)"
   ]
  },
  {
   "cell_type": "code",
   "execution_count": 25,
   "id": "683eed3e",
   "metadata": {
    "execution": {
     "iopub.execute_input": "2022-12-18T22:28:28.527734Z",
     "iopub.status.busy": "2022-12-18T22:28:28.527372Z",
     "iopub.status.idle": "2022-12-18T22:28:28.539606Z",
     "shell.execute_reply": "2022-12-18T22:28:28.537747Z"
    },
    "papermill": {
     "duration": 0.038574,
     "end_time": "2022-12-18T22:28:28.542534",
     "exception": false,
     "start_time": "2022-12-18T22:28:28.503960",
     "status": "completed"
    },
    "tags": []
   },
   "outputs": [
    {
     "name": "stdout",
     "output_type": "stream",
     "text": [
      "no_visited_Cold drinks ['4~8' 'less1' 'never' '1~3' 'gt8']\n",
      "Restaur_spend_less_than20 ['less1' '4~8' '1~3' 'gt8' 'never']\n",
      "no_visited_bars ['less1' 'never' '1~3' '4~8' 'gt8']\n",
      "no_Take-aways ['1~3' 'gt8' '4~8' 'less1' 'never']\n",
      "Restaur_spend_greater_than20 ['less1' '1~3' 'never' 'gt8' '4~8']\n"
     ]
    }
   ],
   "source": [
    "cols_replace=['no_visited_Cold drinks','Restaur_spend_less_than20','no_visited_bars','no_Take-aways',\n",
    "              'Restaur_spend_greater_than20']\n",
    "for i in cols_replace:\n",
    "    print(i,df[i].unique())"
   ]
  },
  {
   "cell_type": "code",
   "execution_count": 26,
   "id": "cca603c1",
   "metadata": {
    "execution": {
     "iopub.execute_input": "2022-12-18T22:28:28.589965Z",
     "iopub.status.busy": "2022-12-18T22:28:28.589607Z",
     "iopub.status.idle": "2022-12-18T22:28:28.597027Z",
     "shell.execute_reply": "2022-12-18T22:28:28.595662Z"
    },
    "papermill": {
     "duration": 0.033354,
     "end_time": "2022-12-18T22:28:28.598911",
     "exception": false,
     "start_time": "2022-12-18T22:28:28.565557",
     "status": "completed"
    },
    "tags": []
   },
   "outputs": [
    {
     "data": {
      "text/plain": [
       "array(['4~8', 'less1', 'never', '1~3', 'gt8'], dtype=object)"
      ]
     },
     "execution_count": 26,
     "metadata": {},
     "output_type": "execute_result"
    }
   ],
   "source": [
    "b=df['no_visited_Cold drinks'].unique()\n",
    "b"
   ]
  },
  {
   "cell_type": "code",
   "execution_count": 27,
   "id": "cca327ac",
   "metadata": {
    "execution": {
     "iopub.execute_input": "2022-12-18T22:28:28.646570Z",
     "iopub.status.busy": "2022-12-18T22:28:28.646268Z",
     "iopub.status.idle": "2022-12-18T22:28:28.708813Z",
     "shell.execute_reply": "2022-12-18T22:28:28.707759Z"
    },
    "papermill": {
     "duration": 0.088611,
     "end_time": "2022-12-18T22:28:28.711152",
     "exception": false,
     "start_time": "2022-12-18T22:28:28.622541",
     "status": "completed"
    },
    "tags": []
   },
   "outputs": [],
   "source": [
    "c=[6,1,0,2,8]\n",
    "for i in cols_replace:\n",
    "    df[i]=df[i].replace(b,c)\n",
    "    df2[i]=df2[i].replace(b,c)"
   ]
  },
  {
   "cell_type": "markdown",
   "id": "93fe7d07",
   "metadata": {
    "papermill": {
     "duration": 0.022096,
     "end_time": "2022-12-18T22:28:28.756438",
     "exception": false,
     "start_time": "2022-12-18T22:28:28.734342",
     "status": "completed"
    },
    "tags": []
   },
   "source": [
    "## Data Visualization"
   ]
  },
  {
   "cell_type": "code",
   "execution_count": 28,
   "id": "348d4c08",
   "metadata": {
    "execution": {
     "iopub.execute_input": "2022-12-18T22:28:28.802684Z",
     "iopub.status.busy": "2022-12-18T22:28:28.802315Z",
     "iopub.status.idle": "2022-12-18T22:28:29.779254Z",
     "shell.execute_reply": "2022-12-18T22:28:29.777772Z"
    },
    "papermill": {
     "duration": 1.00292,
     "end_time": "2022-12-18T22:28:29.781493",
     "exception": false,
     "start_time": "2022-12-18T22:28:28.778573",
     "status": "completed"
    },
    "tags": []
   },
   "outputs": [
    {
     "name": "stderr",
     "output_type": "stream",
     "text": [
      "/opt/conda/lib/python3.7/site-packages/seaborn/_decorators.py:43: FutureWarning: Pass the following variables as keyword args: x, y. From version 0.12, the only valid positional argument will be `data`, and passing other arguments without an explicit keyword will result in an error or misinterpretation.\n",
      "  FutureWarning\n"
     ]
    },
    {
     "data": {
      "text/plain": [
       "<AxesSubplot:xlabel='income_range', ylabel='Job/Job Industry'>"
      ]
     },
     "execution_count": 28,
     "metadata": {},
     "output_type": "execute_result"
    },
    {
     "data": {
      "image/png": "[encoded data removed]",
      "text/plain": [
       "<Figure size 1440x720 with 1 Axes>"
      ]
     },
     "metadata": {
      "needs_background": "light"
     },
     "output_type": "display_data"
    }
   ],
   "source": [
    "sns.barplot(df['income_range'],df['Job/Job Industry'])"
   ]
  },
  {
   "cell_type": "code",
   "execution_count": 29,
   "id": "416ea974",
   "metadata": {
    "execution": {
     "iopub.execute_input": "2022-12-18T22:28:29.830009Z",
     "iopub.status.busy": "2022-12-18T22:28:29.829672Z",
     "iopub.status.idle": "2022-12-18T22:28:30.330423Z",
     "shell.execute_reply": "2022-12-18T22:28:30.329705Z"
    },
    "papermill": {
     "duration": 0.527413,
     "end_time": "2022-12-18T22:28:30.332509",
     "exception": false,
     "start_time": "2022-12-18T22:28:29.805096",
     "status": "completed"
    },
    "tags": []
   },
   "outputs": [
    {
     "name": "stderr",
     "output_type": "stream",
     "text": [
      "/opt/conda/lib/python3.7/site-packages/seaborn/_decorators.py:43: FutureWarning: Pass the following variables as keyword args: x, y. From version 0.12, the only valid positional argument will be `data`, and passing other arguments without an explicit keyword will result in an error or misinterpretation.\n",
      "  FutureWarning\n"
     ]
    },
    {
     "data": {
      "text/plain": [
       "<AxesSubplot:xlabel='age', ylabel='income_range'>"
      ]
     },
     "execution_count": 29,
     "metadata": {},
     "output_type": "execute_result"
    },
    {
     "data": {
      "image/png": "[encoded data removed]",
      "text/plain": [
       "<Figure size 1440x720 with 1 Axes>"
      ]
     },
     "metadata": {
      "needs_background": "light"
     },
     "output_type": "display_data"
    }
   ],
   "source": [
    "sns.barplot(df['age'],df['income_range'])"
   ]
  },
  {
   "cell_type": "code",
   "execution_count": 30,
   "id": "e0efde09",
   "metadata": {
    "execution": {
     "iopub.execute_input": "2022-12-18T22:28:30.382339Z",
     "iopub.status.busy": "2022-12-18T22:28:30.381641Z",
     "iopub.status.idle": "2022-12-18T22:28:30.552542Z",
     "shell.execute_reply": "2022-12-18T22:28:30.551150Z"
    },
    "papermill": {
     "duration": 0.198985,
     "end_time": "2022-12-18T22:28:30.555199",
     "exception": false,
     "start_time": "2022-12-18T22:28:30.356214",
     "status": "completed"
    },
    "tags": []
   },
   "outputs": [
    {
     "name": "stderr",
     "output_type": "stream",
     "text": [
      "/opt/conda/lib/python3.7/site-packages/seaborn/_decorators.py:43: FutureWarning: Pass the following variable as a keyword arg: x. From version 0.12, the only valid positional argument will be `data`, and passing other arguments without an explicit keyword will result in an error or misinterpretation.\n",
      "  FutureWarning\n"
     ]
    },
    {
     "data": {
      "text/plain": [
       "<AxesSubplot:xlabel='offer expiration', ylabel='count'>"
      ]
     },
     "execution_count": 30,
     "metadata": {},
     "output_type": "execute_result"
    },
    {
     "data": {
      "image/png": "[encoded data removed]",
      "text/plain": [
       "<Figure size 1440x720 with 1 Axes>"
      ]
     },
     "metadata": {
      "needs_background": "light"
     },
     "output_type": "display_data"
    }
   ],
   "source": [
    "sns.countplot(df['offer expiration'])"
   ]
  },
  {
   "cell_type": "code",
   "execution_count": 31,
   "id": "1da9fdf0",
   "metadata": {
    "execution": {
     "iopub.execute_input": "2022-12-18T22:28:30.607575Z",
     "iopub.status.busy": "2022-12-18T22:28:30.606875Z",
     "iopub.status.idle": "2022-12-18T22:28:30.635971Z",
     "shell.execute_reply": "2022-12-18T22:28:30.635019Z"
    },
    "papermill": {
     "duration": 0.058264,
     "end_time": "2022-12-18T22:28:30.637984",
     "exception": false,
     "start_time": "2022-12-18T22:28:30.579720",
     "status": "completed"
    },
    "tags": []
   },
   "outputs": [
    {
     "data": {
      "text/html": [
       "<div>\n",
       "<style scoped>\n",
       "    .dataframe tbody tr th:only-of-type {\n",
       "        vertical-align: middle;\n",
       "    }\n",
       "\n",
       "    .dataframe tbody tr th {\n",
       "        vertical-align: top;\n",
       "    }\n",
       "\n",
       "    .dataframe thead th {\n",
       "        text-align: right;\n",
       "    }\n",
       "</style>\n",
       "<table border=\"1\" class=\"dataframe\">\n",
       "  <thead>\n",
       "    <tr style=\"text-align: right;\">\n",
       "      <th>Offer Accepted</th>\n",
       "      <th>No</th>\n",
       "      <th>Yes</th>\n",
       "      <th>total_ppl</th>\n",
       "      <th>% accepted</th>\n",
       "    </tr>\n",
       "    <tr>\n",
       "      <th>offer expiration</th>\n",
       "      <th></th>\n",
       "      <th></th>\n",
       "      <th></th>\n",
       "      <th></th>\n",
       "    </tr>\n",
       "  </thead>\n",
       "  <tbody>\n",
       "    <tr>\n",
       "      <th>10</th>\n",
       "      <td>2640</td>\n",
       "      <td>2948</td>\n",
       "      <td>5588</td>\n",
       "      <td>52.8</td>\n",
       "    </tr>\n",
       "    <tr>\n",
       "      <th>48</th>\n",
       "      <td>2745</td>\n",
       "      <td>4046</td>\n",
       "      <td>6791</td>\n",
       "      <td>59.6</td>\n",
       "    </tr>\n",
       "  </tbody>\n",
       "</table>\n",
       "</div>"
      ],
      "text/plain": [
       "Offer Accepted      No   Yes  total_ppl  % accepted\n",
       "offer expiration                                   \n",
       "10                2640  2948       5588        52.8\n",
       "48                2745  4046       6791        59.6"
      ]
     },
     "execution_count": 31,
     "metadata": {},
     "output_type": "execute_result"
    }
   ],
   "source": [
    "imp=pd.crosstab(df['offer expiration'],df['Offer Accepted'])\n",
    "imp['total_ppl']=imp.No + imp.Yes\n",
    "imp['% accepted']=round((imp.Yes/imp.total_ppl)*100,1)\n",
    "imp"
   ]
  },
  {
   "cell_type": "code",
   "execution_count": 32,
   "id": "023367bd",
   "metadata": {
    "execution": {
     "iopub.execute_input": "2022-12-18T22:28:30.689133Z",
     "iopub.status.busy": "2022-12-18T22:28:30.688748Z",
     "iopub.status.idle": "2022-12-18T22:28:30.901387Z",
     "shell.execute_reply": "2022-12-18T22:28:30.900356Z"
    },
    "papermill": {
     "duration": 0.240521,
     "end_time": "2022-12-18T22:28:30.903338",
     "exception": false,
     "start_time": "2022-12-18T22:28:30.662817",
     "status": "completed"
    },
    "tags": []
   },
   "outputs": [
    {
     "name": "stderr",
     "output_type": "stream",
     "text": [
      "/opt/conda/lib/python3.7/site-packages/seaborn/_decorators.py:43: FutureWarning: Pass the following variable as a keyword arg: x. From version 0.12, the only valid positional argument will be `data`, and passing other arguments without an explicit keyword will result in an error or misinterpretation.\n",
      "  FutureWarning\n"
     ]
    },
    {
     "data": {
      "text/plain": [
       "<AxesSubplot:xlabel='income_range', ylabel='count'>"
      ]
     },
     "execution_count": 32,
     "metadata": {},
     "output_type": "execute_result"
    },
    {
     "data": {
      "image/png": "[encoded data removed]",
      "text/plain": [
       "<Figure size 1440x720 with 1 Axes>"
      ]
     },
     "metadata": {
      "needs_background": "light"
     },
     "output_type": "display_data"
    }
   ],
   "source": [
    "sns.countplot(df['income_range'])"
   ]
  },
  {
   "cell_type": "code",
   "execution_count": 33,
   "id": "d70c2b45",
   "metadata": {
    "execution": {
     "iopub.execute_input": "2022-12-18T22:28:30.955211Z",
     "iopub.status.busy": "2022-12-18T22:28:30.954256Z",
     "iopub.status.idle": "2022-12-18T22:28:30.975949Z",
     "shell.execute_reply": "2022-12-18T22:28:30.975109Z"
    },
    "papermill": {
     "duration": 0.04929,
     "end_time": "2022-12-18T22:28:30.977782",
     "exception": false,
     "start_time": "2022-12-18T22:28:30.928492",
     "status": "completed"
    },
    "tags": []
   },
   "outputs": [
    {
     "data": {
      "text/html": [
       "<div>\n",
       "<style scoped>\n",
       "    .dataframe tbody tr th:only-of-type {\n",
       "        vertical-align: middle;\n",
       "    }\n",
       "\n",
       "    .dataframe tbody tr th {\n",
       "        vertical-align: top;\n",
       "    }\n",
       "\n",
       "    .dataframe thead th {\n",
       "        text-align: right;\n",
       "    }\n",
       "</style>\n",
       "<table border=\"1\" class=\"dataframe\">\n",
       "  <thead>\n",
       "    <tr style=\"text-align: right;\">\n",
       "      <th>Offer Accepted</th>\n",
       "      <th>No</th>\n",
       "      <th>Yes</th>\n",
       "      <th>total_ppl</th>\n",
       "      <th>% accepted</th>\n",
       "    </tr>\n",
       "    <tr>\n",
       "      <th>income_range</th>\n",
       "      <th></th>\n",
       "      <th></th>\n",
       "      <th></th>\n",
       "      <th></th>\n",
       "    </tr>\n",
       "  </thead>\n",
       "  <tbody>\n",
       "    <tr>\n",
       "      <th>10000</th>\n",
       "      <td>426</td>\n",
       "      <td>586</td>\n",
       "      <td>1012</td>\n",
       "      <td>57.9</td>\n",
       "    </tr>\n",
       "    <tr>\n",
       "      <th>18750</th>\n",
       "      <td>746</td>\n",
       "      <td>997</td>\n",
       "      <td>1743</td>\n",
       "      <td>57.2</td>\n",
       "    </tr>\n",
       "    <tr>\n",
       "      <th>31250</th>\n",
       "      <td>858</td>\n",
       "      <td>1152</td>\n",
       "      <td>2010</td>\n",
       "      <td>57.3</td>\n",
       "    </tr>\n",
       "    <tr>\n",
       "      <th>43750</th>\n",
       "      <td>758</td>\n",
       "      <td>994</td>\n",
       "      <td>1752</td>\n",
       "      <td>56.7</td>\n",
       "    </tr>\n",
       "    <tr>\n",
       "      <th>56250</th>\n",
       "      <td>684</td>\n",
       "      <td>933</td>\n",
       "      <td>1617</td>\n",
       "      <td>57.7</td>\n",
       "    </tr>\n",
       "    <tr>\n",
       "      <th>68750</th>\n",
       "      <td>388</td>\n",
       "      <td>441</td>\n",
       "      <td>829</td>\n",
       "      <td>53.2</td>\n",
       "    </tr>\n",
       "    <tr>\n",
       "      <th>81250</th>\n",
       "      <td>403</td>\n",
       "      <td>427</td>\n",
       "      <td>830</td>\n",
       "      <td>51.4</td>\n",
       "    </tr>\n",
       "    <tr>\n",
       "      <th>93750</th>\n",
       "      <td>401</td>\n",
       "      <td>479</td>\n",
       "      <td>880</td>\n",
       "      <td>54.4</td>\n",
       "    </tr>\n",
       "    <tr>\n",
       "      <th>125000</th>\n",
       "      <td>721</td>\n",
       "      <td>985</td>\n",
       "      <td>1706</td>\n",
       "      <td>57.7</td>\n",
       "    </tr>\n",
       "  </tbody>\n",
       "</table>\n",
       "</div>"
      ],
      "text/plain": [
       "Offer Accepted   No   Yes  total_ppl  % accepted\n",
       "income_range                                    \n",
       "10000           426   586       1012        57.9\n",
       "18750           746   997       1743        57.2\n",
       "31250           858  1152       2010        57.3\n",
       "43750           758   994       1752        56.7\n",
       "56250           684   933       1617        57.7\n",
       "68750           388   441        829        53.2\n",
       "81250           403   427        830        51.4\n",
       "93750           401   479        880        54.4\n",
       "125000          721   985       1706        57.7"
      ]
     },
     "execution_count": 33,
     "metadata": {},
     "output_type": "execute_result"
    }
   ],
   "source": [
    "imp=pd.crosstab(df['income_range'],df['Offer Accepted'])\n",
    "imp['total_ppl']=imp.No + imp.Yes\n",
    "imp['% accepted']=round((imp.Yes/imp.total_ppl)*100,1)\n",
    "imp"
   ]
  },
  {
   "cell_type": "code",
   "execution_count": 34,
   "id": "59a7e9ee",
   "metadata": {
    "execution": {
     "iopub.execute_input": "2022-12-18T22:28:31.029506Z",
     "iopub.status.busy": "2022-12-18T22:28:31.028510Z",
     "iopub.status.idle": "2022-12-18T22:28:31.214406Z",
     "shell.execute_reply": "2022-12-18T22:28:31.213137Z"
    },
    "papermill": {
     "duration": 0.214705,
     "end_time": "2022-12-18T22:28:31.217229",
     "exception": false,
     "start_time": "2022-12-18T22:28:31.002524",
     "status": "completed"
    },
    "tags": []
   },
   "outputs": [
    {
     "name": "stderr",
     "output_type": "stream",
     "text": [
      "/opt/conda/lib/python3.7/site-packages/seaborn/_decorators.py:43: FutureWarning: Pass the following variable as a keyword arg: x. From version 0.12, the only valid positional argument will be `data`, and passing other arguments without an explicit keyword will result in an error or misinterpretation.\n",
      "  FutureWarning\n"
     ]
    },
    {
     "data": {
      "text/plain": [
       "<AxesSubplot:xlabel='Marital Status', ylabel='count'>"
      ]
     },
     "execution_count": 34,
     "metadata": {},
     "output_type": "execute_result"
    },
    {
     "data": {
      "image/png": "[encoded data removed]",
      "text/plain": [
       "<Figure size 1440x720 with 1 Axes>"
      ]
     },
     "metadata": {
      "needs_background": "light"
     },
     "output_type": "display_data"
    }
   ],
   "source": [
    "sns.countplot(df['Marital Status'])"
   ]
  },
  {
   "cell_type": "code",
   "execution_count": 35,
   "id": "830de583",
   "metadata": {
    "execution": {
     "iopub.execute_input": "2022-12-18T22:28:31.270579Z",
     "iopub.status.busy": "2022-12-18T22:28:31.269508Z",
     "iopub.status.idle": "2022-12-18T22:28:31.292755Z",
     "shell.execute_reply": "2022-12-18T22:28:31.291199Z"
    },
    "papermill": {
     "duration": 0.051927,
     "end_time": "2022-12-18T22:28:31.295115",
     "exception": false,
     "start_time": "2022-12-18T22:28:31.243188",
     "status": "completed"
    },
    "tags": []
   },
   "outputs": [
    {
     "data": {
      "text/html": [
       "<div>\n",
       "<style scoped>\n",
       "    .dataframe tbody tr th:only-of-type {\n",
       "        vertical-align: middle;\n",
       "    }\n",
       "\n",
       "    .dataframe tbody tr th {\n",
       "        vertical-align: top;\n",
       "    }\n",
       "\n",
       "    .dataframe thead th {\n",
       "        text-align: right;\n",
       "    }\n",
       "</style>\n",
       "<table border=\"1\" class=\"dataframe\">\n",
       "  <thead>\n",
       "    <tr style=\"text-align: right;\">\n",
       "      <th>Offer Accepted</th>\n",
       "      <th>No</th>\n",
       "      <th>Yes</th>\n",
       "      <th>total_ppl</th>\n",
       "      <th>% accepted</th>\n",
       "    </tr>\n",
       "    <tr>\n",
       "      <th>Marital Status</th>\n",
       "      <th></th>\n",
       "      <th></th>\n",
       "      <th></th>\n",
       "      <th></th>\n",
       "    </tr>\n",
       "  </thead>\n",
       "  <tbody>\n",
       "    <tr>\n",
       "      <th>Divorced</th>\n",
       "      <td>233</td>\n",
       "      <td>279</td>\n",
       "      <td>512</td>\n",
       "      <td>54.5</td>\n",
       "    </tr>\n",
       "    <tr>\n",
       "      <th>Married partner</th>\n",
       "      <td>2294</td>\n",
       "      <td>2693</td>\n",
       "      <td>4987</td>\n",
       "      <td>54.0</td>\n",
       "    </tr>\n",
       "    <tr>\n",
       "      <th>Single</th>\n",
       "      <td>1898</td>\n",
       "      <td>2767</td>\n",
       "      <td>4665</td>\n",
       "      <td>59.3</td>\n",
       "    </tr>\n",
       "    <tr>\n",
       "      <th>Unmarried partner</th>\n",
       "      <td>905</td>\n",
       "      <td>1199</td>\n",
       "      <td>2104</td>\n",
       "      <td>57.0</td>\n",
       "    </tr>\n",
       "    <tr>\n",
       "      <th>Widowed</th>\n",
       "      <td>55</td>\n",
       "      <td>56</td>\n",
       "      <td>111</td>\n",
       "      <td>50.5</td>\n",
       "    </tr>\n",
       "  </tbody>\n",
       "</table>\n",
       "</div>"
      ],
      "text/plain": [
       "Offer Accepted       No   Yes  total_ppl  % accepted\n",
       "Marital Status                                      \n",
       "Divorced            233   279        512        54.5\n",
       "Married partner    2294  2693       4987        54.0\n",
       "Single             1898  2767       4665        59.3\n",
       "Unmarried partner   905  1199       2104        57.0\n",
       "Widowed              55    56        111        50.5"
      ]
     },
     "execution_count": 35,
     "metadata": {},
     "output_type": "execute_result"
    }
   ],
   "source": [
    "imp=pd.crosstab(df['Marital Status'],df['Offer Accepted'])\n",
    "imp['total_ppl']=imp.No + imp.Yes\n",
    "imp['% accepted']=round((imp.Yes/imp.total_ppl)*100,1)\n",
    "imp"
   ]
  },
  {
   "cell_type": "code",
   "execution_count": 36,
   "id": "0e68e637",
   "metadata": {
    "execution": {
     "iopub.execute_input": "2022-12-18T22:28:31.347490Z",
     "iopub.status.busy": "2022-12-18T22:28:31.347024Z",
     "iopub.status.idle": "2022-12-18T22:28:31.541474Z",
     "shell.execute_reply": "2022-12-18T22:28:31.539961Z"
    },
    "papermill": {
     "duration": 0.222979,
     "end_time": "2022-12-18T22:28:31.543631",
     "exception": false,
     "start_time": "2022-12-18T22:28:31.320652",
     "status": "completed"
    },
    "tags": []
   },
   "outputs": [
    {
     "name": "stderr",
     "output_type": "stream",
     "text": [
      "/opt/conda/lib/python3.7/site-packages/seaborn/_decorators.py:43: FutureWarning: Pass the following variable as a keyword arg: x. From version 0.12, the only valid positional argument will be `data`, and passing other arguments without an explicit keyword will result in an error or misinterpretation.\n",
      "  FutureWarning\n"
     ]
    },
    {
     "data": {
      "text/plain": [
       "<AxesSubplot:xlabel='restaurant type', ylabel='count'>"
      ]
     },
     "execution_count": 36,
     "metadata": {},
     "output_type": "execute_result"
    },
    {
     "data": {
      "image/png": "[encoded data removed]",
      "text/plain": [
       "<Figure size 1440x720 with 1 Axes>"
      ]
     },
     "metadata": {
      "needs_background": "light"
     },
     "output_type": "display_data"
    }
   ],
   "source": [
    "sns.countplot(df['restaurant type'])"
   ]
  },
  {
   "cell_type": "code",
   "execution_count": 37,
   "id": "78aa830e",
   "metadata": {
    "execution": {
     "iopub.execute_input": "2022-12-18T22:28:31.597199Z",
     "iopub.status.busy": "2022-12-18T22:28:31.596813Z",
     "iopub.status.idle": "2022-12-18T22:28:31.621061Z",
     "shell.execute_reply": "2022-12-18T22:28:31.619409Z"
    },
    "papermill": {
     "duration": 0.053419,
     "end_time": "2022-12-18T22:28:31.623275",
     "exception": false,
     "start_time": "2022-12-18T22:28:31.569856",
     "status": "completed"
    },
    "tags": []
   },
   "outputs": [
    {
     "data": {
      "text/html": [
       "<div>\n",
       "<style scoped>\n",
       "    .dataframe tbody tr th:only-of-type {\n",
       "        vertical-align: middle;\n",
       "    }\n",
       "\n",
       "    .dataframe tbody tr th {\n",
       "        vertical-align: top;\n",
       "    }\n",
       "\n",
       "    .dataframe thead th {\n",
       "        text-align: right;\n",
       "    }\n",
       "</style>\n",
       "<table border=\"1\" class=\"dataframe\">\n",
       "  <thead>\n",
       "    <tr style=\"text-align: right;\">\n",
       "      <th>Offer Accepted</th>\n",
       "      <th>No</th>\n",
       "      <th>Yes</th>\n",
       "      <th>total_ppl</th>\n",
       "      <th>% accepted</th>\n",
       "    </tr>\n",
       "    <tr>\n",
       "      <th>restaurant type</th>\n",
       "      <th></th>\n",
       "      <th></th>\n",
       "      <th></th>\n",
       "      <th></th>\n",
       "    </tr>\n",
       "  </thead>\n",
       "  <tbody>\n",
       "    <tr>\n",
       "      <th>2 star restaurant</th>\n",
       "      <td>968</td>\n",
       "      <td>1674</td>\n",
       "      <td>2642</td>\n",
       "      <td>63.4</td>\n",
       "    </tr>\n",
       "    <tr>\n",
       "      <th>4 star restaurant</th>\n",
       "      <td>1089</td>\n",
       "      <td>1110</td>\n",
       "      <td>2199</td>\n",
       "      <td>50.5</td>\n",
       "    </tr>\n",
       "    <tr>\n",
       "      <th>Cold drinks</th>\n",
       "      <td>1648</td>\n",
       "      <td>1823</td>\n",
       "      <td>3471</td>\n",
       "      <td>52.5</td>\n",
       "    </tr>\n",
       "    <tr>\n",
       "      <th>Restaurant with pub</th>\n",
       "      <td>864</td>\n",
       "      <td>862</td>\n",
       "      <td>1726</td>\n",
       "      <td>49.9</td>\n",
       "    </tr>\n",
       "    <tr>\n",
       "      <th>Take-away restaurant</th>\n",
       "      <td>816</td>\n",
       "      <td>1525</td>\n",
       "      <td>2341</td>\n",
       "      <td>65.1</td>\n",
       "    </tr>\n",
       "  </tbody>\n",
       "</table>\n",
       "</div>"
      ],
      "text/plain": [
       "Offer Accepted          No   Yes  total_ppl  % accepted\n",
       "restaurant type                                        \n",
       "2 star restaurant      968  1674       2642        63.4\n",
       "4 star restaurant     1089  1110       2199        50.5\n",
       "Cold drinks           1648  1823       3471        52.5\n",
       "Restaurant with pub    864   862       1726        49.9\n",
       "Take-away restaurant   816  1525       2341        65.1"
      ]
     },
     "execution_count": 37,
     "metadata": {},
     "output_type": "execute_result"
    }
   ],
   "source": [
    "imp=pd.crosstab(df['restaurant type'],df['Offer Accepted'])\n",
    "imp['total_ppl']=imp.No + imp.Yes\n",
    "imp['% accepted']=round((imp.Yes/imp.total_ppl)*100,1)\n",
    "imp"
   ]
  },
  {
   "cell_type": "code",
   "execution_count": 38,
   "id": "7dac3adf",
   "metadata": {
    "execution": {
     "iopub.execute_input": "2022-12-18T22:28:31.675208Z",
     "iopub.status.busy": "2022-12-18T22:28:31.674863Z",
     "iopub.status.idle": "2022-12-18T22:28:31.866936Z",
     "shell.execute_reply": "2022-12-18T22:28:31.866121Z"
    },
    "papermill": {
     "duration": 0.221133,
     "end_time": "2022-12-18T22:28:31.869702",
     "exception": false,
     "start_time": "2022-12-18T22:28:31.648569",
     "status": "completed"
    },
    "tags": []
   },
   "outputs": [
    {
     "name": "stderr",
     "output_type": "stream",
     "text": [
      "/opt/conda/lib/python3.7/site-packages/seaborn/_decorators.py:43: FutureWarning: Pass the following variable as a keyword arg: x. From version 0.12, the only valid positional argument will be `data`, and passing other arguments without an explicit keyword will result in an error or misinterpretation.\n",
      "  FutureWarning\n"
     ]
    },
    {
     "data": {
      "text/plain": [
       "<AxesSubplot:xlabel='age', ylabel='count'>"
      ]
     },
     "execution_count": 38,
     "metadata": {},
     "output_type": "execute_result"
    },
    {
     "data": {
      "image/png": "[encoded data removed]",
      "text/plain": [
       "<Figure size 1440x720 with 1 Axes>"
      ]
     },
     "metadata": {
      "needs_background": "light"
     },
     "output_type": "display_data"
    }
   ],
   "source": [
    "sns.countplot(df['age'])"
   ]
  },
  {
   "cell_type": "code",
   "execution_count": 39,
   "id": "5186a7ae",
   "metadata": {
    "execution": {
     "iopub.execute_input": "2022-12-18T22:28:31.924781Z",
     "iopub.status.busy": "2022-12-18T22:28:31.924202Z",
     "iopub.status.idle": "2022-12-18T22:28:31.946168Z",
     "shell.execute_reply": "2022-12-18T22:28:31.944360Z"
    },
    "papermill": {
     "duration": 0.052352,
     "end_time": "2022-12-18T22:28:31.948383",
     "exception": false,
     "start_time": "2022-12-18T22:28:31.896031",
     "status": "completed"
    },
    "tags": []
   },
   "outputs": [
    {
     "data": {
      "text/html": [
       "<div>\n",
       "<style scoped>\n",
       "    .dataframe tbody tr th:only-of-type {\n",
       "        vertical-align: middle;\n",
       "    }\n",
       "\n",
       "    .dataframe tbody tr th {\n",
       "        vertical-align: top;\n",
       "    }\n",
       "\n",
       "    .dataframe thead th {\n",
       "        text-align: right;\n",
       "    }\n",
       "</style>\n",
       "<table border=\"1\" class=\"dataframe\">\n",
       "  <thead>\n",
       "    <tr style=\"text-align: right;\">\n",
       "      <th>Offer Accepted</th>\n",
       "      <th>No</th>\n",
       "      <th>Yes</th>\n",
       "      <th>total_ppl</th>\n",
       "      <th>% accepted</th>\n",
       "    </tr>\n",
       "    <tr>\n",
       "      <th>age</th>\n",
       "      <th></th>\n",
       "      <th></th>\n",
       "      <th></th>\n",
       "      <th></th>\n",
       "    </tr>\n",
       "  </thead>\n",
       "  <tbody>\n",
       "    <tr>\n",
       "      <th>16</th>\n",
       "      <td>211</td>\n",
       "      <td>303</td>\n",
       "      <td>514</td>\n",
       "      <td>58.9</td>\n",
       "    </tr>\n",
       "    <tr>\n",
       "      <th>21</th>\n",
       "      <td>1043</td>\n",
       "      <td>1559</td>\n",
       "      <td>2602</td>\n",
       "      <td>59.9</td>\n",
       "    </tr>\n",
       "    <tr>\n",
       "      <th>26</th>\n",
       "      <td>1058</td>\n",
       "      <td>1485</td>\n",
       "      <td>2543</td>\n",
       "      <td>58.4</td>\n",
       "    </tr>\n",
       "    <tr>\n",
       "      <th>31</th>\n",
       "      <td>870</td>\n",
       "      <td>1059</td>\n",
       "      <td>1929</td>\n",
       "      <td>54.9</td>\n",
       "    </tr>\n",
       "    <tr>\n",
       "      <th>36</th>\n",
       "      <td>572</td>\n",
       "      <td>687</td>\n",
       "      <td>1259</td>\n",
       "      <td>54.6</td>\n",
       "    </tr>\n",
       "    <tr>\n",
       "      <th>41</th>\n",
       "      <td>482</td>\n",
       "      <td>578</td>\n",
       "      <td>1060</td>\n",
       "      <td>54.5</td>\n",
       "    </tr>\n",
       "    <tr>\n",
       "      <th>46</th>\n",
       "      <td>318</td>\n",
       "      <td>398</td>\n",
       "      <td>716</td>\n",
       "      <td>55.6</td>\n",
       "    </tr>\n",
       "    <tr>\n",
       "      <th>55</th>\n",
       "      <td>831</td>\n",
       "      <td>925</td>\n",
       "      <td>1756</td>\n",
       "      <td>52.7</td>\n",
       "    </tr>\n",
       "  </tbody>\n",
       "</table>\n",
       "</div>"
      ],
      "text/plain": [
       "Offer Accepted    No   Yes  total_ppl  % accepted\n",
       "age                                              \n",
       "16               211   303        514        58.9\n",
       "21              1043  1559       2602        59.9\n",
       "26              1058  1485       2543        58.4\n",
       "31               870  1059       1929        54.9\n",
       "36               572   687       1259        54.6\n",
       "41               482   578       1060        54.5\n",
       "46               318   398        716        55.6\n",
       "55               831   925       1756        52.7"
      ]
     },
     "execution_count": 39,
     "metadata": {},
     "output_type": "execute_result"
    }
   ],
   "source": [
    "imp=pd.crosstab(df['age'],df['Offer Accepted'])\n",
    "imp['total_ppl']=imp.No + imp.Yes\n",
    "imp['% accepted']=round((imp.Yes/imp.total_ppl)*100,1)\n",
    "imp"
   ]
  },
  {
   "cell_type": "code",
   "execution_count": 40,
   "id": "5c0b76c7",
   "metadata": {
    "execution": {
     "iopub.execute_input": "2022-12-18T22:28:32.003238Z",
     "iopub.status.busy": "2022-12-18T22:28:32.001922Z",
     "iopub.status.idle": "2022-12-18T22:28:32.025205Z",
     "shell.execute_reply": "2022-12-18T22:28:32.024334Z"
    },
    "papermill": {
     "duration": 0.052531,
     "end_time": "2022-12-18T22:28:32.027198",
     "exception": false,
     "start_time": "2022-12-18T22:28:31.974667",
     "status": "completed"
    },
    "tags": []
   },
   "outputs": [
    {
     "data": {
      "text/html": [
       "<div>\n",
       "<style scoped>\n",
       "    .dataframe tbody tr th:only-of-type {\n",
       "        vertical-align: middle;\n",
       "    }\n",
       "\n",
       "    .dataframe tbody tr th {\n",
       "        vertical-align: top;\n",
       "    }\n",
       "\n",
       "    .dataframe thead th {\n",
       "        text-align: right;\n",
       "    }\n",
       "</style>\n",
       "<table border=\"1\" class=\"dataframe\">\n",
       "  <thead>\n",
       "    <tr style=\"text-align: right;\">\n",
       "      <th>Offer Accepted</th>\n",
       "      <th>No</th>\n",
       "      <th>Yes</th>\n",
       "      <th>total_ppl</th>\n",
       "      <th>% accepted</th>\n",
       "    </tr>\n",
       "    <tr>\n",
       "      <th>gender</th>\n",
       "      <th></th>\n",
       "      <th></th>\n",
       "      <th></th>\n",
       "      <th></th>\n",
       "    </tr>\n",
       "  </thead>\n",
       "  <tbody>\n",
       "    <tr>\n",
       "      <th>Female</th>\n",
       "      <td>2843</td>\n",
       "      <td>3492</td>\n",
       "      <td>6335</td>\n",
       "      <td>55.1</td>\n",
       "    </tr>\n",
       "    <tr>\n",
       "      <th>Male</th>\n",
       "      <td>2542</td>\n",
       "      <td>3502</td>\n",
       "      <td>6044</td>\n",
       "      <td>57.9</td>\n",
       "    </tr>\n",
       "  </tbody>\n",
       "</table>\n",
       "</div>"
      ],
      "text/plain": [
       "Offer Accepted    No   Yes  total_ppl  % accepted\n",
       "gender                                           \n",
       "Female          2843  3492       6335        55.1\n",
       "Male            2542  3502       6044        57.9"
      ]
     },
     "execution_count": 40,
     "metadata": {},
     "output_type": "execute_result"
    }
   ],
   "source": [
    "imp=pd.crosstab(df['gender'],df['Offer Accepted'])\n",
    "imp['total_ppl']=imp.No + imp.Yes\n",
    "imp['% accepted']=round((imp.Yes/imp.total_ppl)*100,1)\n",
    "imp"
   ]
  },
  {
   "cell_type": "code",
   "execution_count": 41,
   "id": "fd751a43",
   "metadata": {
    "execution": {
     "iopub.execute_input": "2022-12-18T22:28:32.081700Z",
     "iopub.status.busy": "2022-12-18T22:28:32.081324Z",
     "iopub.status.idle": "2022-12-18T22:28:32.262800Z",
     "shell.execute_reply": "2022-12-18T22:28:32.261926Z"
    },
    "papermill": {
     "duration": 0.211248,
     "end_time": "2022-12-18T22:28:32.264983",
     "exception": false,
     "start_time": "2022-12-18T22:28:32.053735",
     "status": "completed"
    },
    "tags": []
   },
   "outputs": [
    {
     "name": "stderr",
     "output_type": "stream",
     "text": [
      "/opt/conda/lib/python3.7/site-packages/seaborn/_decorators.py:43: FutureWarning: Pass the following variable as a keyword arg: x. From version 0.12, the only valid positional argument will be `data`, and passing other arguments without an explicit keyword will result in an error or misinterpretation.\n",
      "  FutureWarning\n"
     ]
    },
    {
     "data": {
      "text/plain": [
       "<AxesSubplot:xlabel='Customer type', ylabel='count'>"
      ]
     },
     "execution_count": 41,
     "metadata": {},
     "output_type": "execute_result"
    },
    {
     "data": {
      "image/png": "[encoded data removed]",
      "text/plain": [
       "<Figure size 1440x720 with 1 Axes>"
      ]
     },
     "metadata": {
      "needs_background": "light"
     },
     "output_type": "display_data"
    }
   ],
   "source": [
    "sns.countplot(df['Customer type'])"
   ]
  },
  {
   "cell_type": "code",
   "execution_count": 42,
   "id": "ec455662",
   "metadata": {
    "execution": {
     "iopub.execute_input": "2022-12-18T22:28:32.320880Z",
     "iopub.status.busy": "2022-12-18T22:28:32.320500Z",
     "iopub.status.idle": "2022-12-18T22:28:32.343517Z",
     "shell.execute_reply": "2022-12-18T22:28:32.342125Z"
    },
    "papermill": {
     "duration": 0.054277,
     "end_time": "2022-12-18T22:28:32.346513",
     "exception": false,
     "start_time": "2022-12-18T22:28:32.292236",
     "status": "completed"
    },
    "tags": []
   },
   "outputs": [
    {
     "data": {
      "text/html": [
       "<div>\n",
       "<style scoped>\n",
       "    .dataframe tbody tr th:only-of-type {\n",
       "        vertical-align: middle;\n",
       "    }\n",
       "\n",
       "    .dataframe tbody tr th {\n",
       "        vertical-align: top;\n",
       "    }\n",
       "\n",
       "    .dataframe thead th {\n",
       "        text-align: right;\n",
       "    }\n",
       "</style>\n",
       "<table border=\"1\" class=\"dataframe\">\n",
       "  <thead>\n",
       "    <tr style=\"text-align: right;\">\n",
       "      <th>Offer Accepted</th>\n",
       "      <th>No</th>\n",
       "      <th>Yes</th>\n",
       "      <th>total_ppl</th>\n",
       "      <th>% accepted</th>\n",
       "    </tr>\n",
       "    <tr>\n",
       "      <th>Customer type</th>\n",
       "      <th></th>\n",
       "      <th></th>\n",
       "      <th></th>\n",
       "      <th></th>\n",
       "    </tr>\n",
       "  </thead>\n",
       "  <tbody>\n",
       "    <tr>\n",
       "      <th>Individual</th>\n",
       "      <td>2736</td>\n",
       "      <td>3195</td>\n",
       "      <td>5931</td>\n",
       "      <td>53.9</td>\n",
       "    </tr>\n",
       "    <tr>\n",
       "      <th>With Colleagues</th>\n",
       "      <td>1189</td>\n",
       "      <td>1993</td>\n",
       "      <td>3182</td>\n",
       "      <td>62.6</td>\n",
       "    </tr>\n",
       "    <tr>\n",
       "      <th>With Family</th>\n",
       "      <td>761</td>\n",
       "      <td>886</td>\n",
       "      <td>1647</td>\n",
       "      <td>53.8</td>\n",
       "    </tr>\n",
       "    <tr>\n",
       "      <th>With Kids</th>\n",
       "      <td>699</td>\n",
       "      <td>920</td>\n",
       "      <td>1619</td>\n",
       "      <td>56.8</td>\n",
       "    </tr>\n",
       "  </tbody>\n",
       "</table>\n",
       "</div>"
      ],
      "text/plain": [
       "Offer Accepted     No   Yes  total_ppl  % accepted\n",
       "Customer type                                     \n",
       "Individual       2736  3195       5931        53.9\n",
       "With Colleagues  1189  1993       3182        62.6\n",
       "With Family       761   886       1647        53.8\n",
       "With Kids         699   920       1619        56.8"
      ]
     },
     "execution_count": 42,
     "metadata": {},
     "output_type": "execute_result"
    }
   ],
   "source": [
    "imp=pd.crosstab(df['Customer type'],df['Offer Accepted'])\n",
    "imp['total_ppl']=imp.No + imp.Yes\n",
    "imp['% accepted']=round((imp.Yes/imp.total_ppl)*100,1)\n",
    "imp"
   ]
  },
  {
   "cell_type": "code",
   "execution_count": 43,
   "id": "1b475d4a",
   "metadata": {
    "execution": {
     "iopub.execute_input": "2022-12-18T22:28:32.404349Z",
     "iopub.status.busy": "2022-12-18T22:28:32.403953Z",
     "iopub.status.idle": "2022-12-18T22:28:32.585683Z",
     "shell.execute_reply": "2022-12-18T22:28:32.584930Z"
    },
    "papermill": {
     "duration": 0.21251,
     "end_time": "2022-12-18T22:28:32.587528",
     "exception": false,
     "start_time": "2022-12-18T22:28:32.375018",
     "status": "completed"
    },
    "tags": []
   },
   "outputs": [
    {
     "name": "stderr",
     "output_type": "stream",
     "text": [
      "/opt/conda/lib/python3.7/site-packages/seaborn/_decorators.py:43: FutureWarning: Pass the following variable as a keyword arg: x. From version 0.12, the only valid positional argument will be `data`, and passing other arguments without an explicit keyword will result in an error or misinterpretation.\n",
      "  FutureWarning\n"
     ]
    },
    {
     "data": {
      "text/plain": [
       "<AxesSubplot:xlabel='Climate', ylabel='count'>"
      ]
     },
     "execution_count": 43,
     "metadata": {},
     "output_type": "execute_result"
    },
    {
     "data": {
      "image/png": "[encoded data removed]",
      "text/plain": [
       "<Figure size 1440x720 with 1 Axes>"
      ]
     },
     "metadata": {
      "needs_background": "light"
     },
     "output_type": "display_data"
    }
   ],
   "source": [
    "sns.countplot(df['Climate'])"
   ]
  },
  {
   "cell_type": "code",
   "execution_count": 44,
   "id": "087c7fbd",
   "metadata": {
    "execution": {
     "iopub.execute_input": "2022-12-18T22:28:32.644893Z",
     "iopub.status.busy": "2022-12-18T22:28:32.644526Z",
     "iopub.status.idle": "2022-12-18T22:28:32.667450Z",
     "shell.execute_reply": "2022-12-18T22:28:32.666372Z"
    },
    "papermill": {
     "duration": 0.05456,
     "end_time": "2022-12-18T22:28:32.669408",
     "exception": false,
     "start_time": "2022-12-18T22:28:32.614848",
     "status": "completed"
    },
    "tags": []
   },
   "outputs": [
    {
     "data": {
      "text/html": [
       "<div>\n",
       "<style scoped>\n",
       "    .dataframe tbody tr th:only-of-type {\n",
       "        vertical-align: middle;\n",
       "    }\n",
       "\n",
       "    .dataframe tbody tr th {\n",
       "        vertical-align: top;\n",
       "    }\n",
       "\n",
       "    .dataframe thead th {\n",
       "        text-align: right;\n",
       "    }\n",
       "</style>\n",
       "<table border=\"1\" class=\"dataframe\">\n",
       "  <thead>\n",
       "    <tr style=\"text-align: right;\">\n",
       "      <th>Offer Accepted</th>\n",
       "      <th>No</th>\n",
       "      <th>Yes</th>\n",
       "      <th>total_ppl</th>\n",
       "      <th>% accepted</th>\n",
       "    </tr>\n",
       "    <tr>\n",
       "      <th>Climate</th>\n",
       "      <th></th>\n",
       "      <th></th>\n",
       "      <th></th>\n",
       "      <th></th>\n",
       "    </tr>\n",
       "  </thead>\n",
       "  <tbody>\n",
       "    <tr>\n",
       "      <th>Spring</th>\n",
       "      <td>1019</td>\n",
       "      <td>1147</td>\n",
       "      <td>2166</td>\n",
       "      <td>53.0</td>\n",
       "    </tr>\n",
       "    <tr>\n",
       "      <th>Summer</th>\n",
       "      <td>3409</td>\n",
       "      <td>4656</td>\n",
       "      <td>8065</td>\n",
       "      <td>57.7</td>\n",
       "    </tr>\n",
       "    <tr>\n",
       "      <th>Winter</th>\n",
       "      <td>957</td>\n",
       "      <td>1191</td>\n",
       "      <td>2148</td>\n",
       "      <td>55.4</td>\n",
       "    </tr>\n",
       "  </tbody>\n",
       "</table>\n",
       "</div>"
      ],
      "text/plain": [
       "Offer Accepted    No   Yes  total_ppl  % accepted\n",
       "Climate                                          \n",
       "Spring          1019  1147       2166        53.0\n",
       "Summer          3409  4656       8065        57.7\n",
       "Winter           957  1191       2148        55.4"
      ]
     },
     "execution_count": 44,
     "metadata": {},
     "output_type": "execute_result"
    }
   ],
   "source": [
    "imp=pd.crosstab(df['Climate'],df['Offer Accepted'])\n",
    "imp['total_ppl']=imp.No + imp.Yes\n",
    "imp['% accepted']=round((imp.Yes/imp.total_ppl)*100,1)\n",
    "imp"
   ]
  },
  {
   "cell_type": "code",
   "execution_count": 45,
   "id": "de74c07d",
   "metadata": {
    "execution": {
     "iopub.execute_input": "2022-12-18T22:28:32.728438Z",
     "iopub.status.busy": "2022-12-18T22:28:32.727804Z",
     "iopub.status.idle": "2022-12-18T22:28:32.751687Z",
     "shell.execute_reply": "2022-12-18T22:28:32.750539Z"
    },
    "papermill": {
     "duration": 0.056616,
     "end_time": "2022-12-18T22:28:32.754395",
     "exception": false,
     "start_time": "2022-12-18T22:28:32.697779",
     "status": "completed"
    },
    "tags": []
   },
   "outputs": [
    {
     "data": {
      "text/html": [
       "<div>\n",
       "<style scoped>\n",
       "    .dataframe tbody tr th:only-of-type {\n",
       "        vertical-align: middle;\n",
       "    }\n",
       "\n",
       "    .dataframe tbody tr th {\n",
       "        vertical-align: top;\n",
       "    }\n",
       "\n",
       "    .dataframe thead th {\n",
       "        text-align: right;\n",
       "    }\n",
       "</style>\n",
       "<table border=\"1\" class=\"dataframe\">\n",
       "  <thead>\n",
       "    <tr style=\"text-align: right;\">\n",
       "      <th>Offer Accepted</th>\n",
       "      <th>No</th>\n",
       "      <th>Yes</th>\n",
       "      <th>total_ppl</th>\n",
       "      <th>% accepted</th>\n",
       "    </tr>\n",
       "    <tr>\n",
       "      <th>Qualification</th>\n",
       "      <th></th>\n",
       "      <th></th>\n",
       "      <th></th>\n",
       "      <th></th>\n",
       "    </tr>\n",
       "  </thead>\n",
       "  <tbody>\n",
       "    <tr>\n",
       "      <th>1</th>\n",
       "      <td>22</td>\n",
       "      <td>58</td>\n",
       "      <td>80</td>\n",
       "      <td>72.5</td>\n",
       "    </tr>\n",
       "    <tr>\n",
       "      <th>2</th>\n",
       "      <td>352</td>\n",
       "      <td>487</td>\n",
       "      <td>839</td>\n",
       "      <td>58.0</td>\n",
       "    </tr>\n",
       "    <tr>\n",
       "      <th>3</th>\n",
       "      <td>1747</td>\n",
       "      <td>2517</td>\n",
       "      <td>4264</td>\n",
       "      <td>59.0</td>\n",
       "    </tr>\n",
       "    <tr>\n",
       "      <th>4</th>\n",
       "      <td>515</td>\n",
       "      <td>618</td>\n",
       "      <td>1133</td>\n",
       "      <td>54.5</td>\n",
       "    </tr>\n",
       "    <tr>\n",
       "      <th>5</th>\n",
       "      <td>1910</td>\n",
       "      <td>2351</td>\n",
       "      <td>4261</td>\n",
       "      <td>55.2</td>\n",
       "    </tr>\n",
       "    <tr>\n",
       "      <th>6</th>\n",
       "      <td>839</td>\n",
       "      <td>963</td>\n",
       "      <td>1802</td>\n",
       "      <td>53.4</td>\n",
       "    </tr>\n",
       "  </tbody>\n",
       "</table>\n",
       "</div>"
      ],
      "text/plain": [
       "Offer Accepted    No   Yes  total_ppl  % accepted\n",
       "Qualification                                    \n",
       "1                 22    58         80        72.5\n",
       "2                352   487        839        58.0\n",
       "3               1747  2517       4264        59.0\n",
       "4                515   618       1133        54.5\n",
       "5               1910  2351       4261        55.2\n",
       "6                839   963       1802        53.4"
      ]
     },
     "execution_count": 45,
     "metadata": {},
     "output_type": "execute_result"
    }
   ],
   "source": [
    "imp=pd.crosstab(df['Qualification'],df['Offer Accepted'])\n",
    "imp['total_ppl']=imp.No + imp.Yes\n",
    "imp['% accepted']=round((imp.Yes/imp.total_ppl)*100,1)\n",
    "imp"
   ]
  },
  {
   "cell_type": "code",
   "execution_count": 46,
   "id": "604f51a8",
   "metadata": {
    "execution": {
     "iopub.execute_input": "2022-12-18T22:28:32.812570Z",
     "iopub.status.busy": "2022-12-18T22:28:32.812214Z",
     "iopub.status.idle": "2022-12-18T22:28:33.017444Z",
     "shell.execute_reply": "2022-12-18T22:28:33.016414Z"
    },
    "papermill": {
     "duration": 0.236664,
     "end_time": "2022-12-18T22:28:33.019322",
     "exception": false,
     "start_time": "2022-12-18T22:28:32.782658",
     "status": "completed"
    },
    "tags": []
   },
   "outputs": [
    {
     "name": "stderr",
     "output_type": "stream",
     "text": [
      "/opt/conda/lib/python3.7/site-packages/seaborn/_decorators.py:43: FutureWarning: Pass the following variable as a keyword arg: x. From version 0.12, the only valid positional argument will be `data`, and passing other arguments without an explicit keyword will result in an error or misinterpretation.\n",
      "  FutureWarning\n"
     ]
    },
    {
     "data": {
      "text/plain": [
       "<AxesSubplot:xlabel='Travel Time', ylabel='count'>"
      ]
     },
     "execution_count": 46,
     "metadata": {},
     "output_type": "execute_result"
    },
    {
     "data": {
      "image/png": "[encoded data removed]",
      "text/plain": [
       "<Figure size 1440x720 with 1 Axes>"
      ]
     },
     "metadata": {
      "needs_background": "light"
     },
     "output_type": "display_data"
    }
   ],
   "source": [
    "sns.countplot(df['Travel Time'])"
   ]
  },
  {
   "cell_type": "code",
   "execution_count": 47,
   "id": "065f632d",
   "metadata": {
    "execution": {
     "iopub.execute_input": "2022-12-18T22:28:33.077788Z",
     "iopub.status.busy": "2022-12-18T22:28:33.077409Z",
     "iopub.status.idle": "2022-12-18T22:28:33.100019Z",
     "shell.execute_reply": "2022-12-18T22:28:33.098556Z"
    },
    "papermill": {
     "duration": 0.054626,
     "end_time": "2022-12-18T22:28:33.102275",
     "exception": false,
     "start_time": "2022-12-18T22:28:33.047649",
     "status": "completed"
    },
    "tags": []
   },
   "outputs": [
    {
     "data": {
      "text/html": [
       "<div>\n",
       "<style scoped>\n",
       "    .dataframe tbody tr th:only-of-type {\n",
       "        vertical-align: middle;\n",
       "    }\n",
       "\n",
       "    .dataframe tbody tr th {\n",
       "        vertical-align: top;\n",
       "    }\n",
       "\n",
       "    .dataframe thead th {\n",
       "        text-align: right;\n",
       "    }\n",
       "</style>\n",
       "<table border=\"1\" class=\"dataframe\">\n",
       "  <thead>\n",
       "    <tr style=\"text-align: right;\">\n",
       "      <th>Offer Accepted</th>\n",
       "      <th>No</th>\n",
       "      <th>Yes</th>\n",
       "      <th>total_ppl</th>\n",
       "      <th>% accepted</th>\n",
       "    </tr>\n",
       "    <tr>\n",
       "      <th>Travel Time</th>\n",
       "      <th></th>\n",
       "      <th></th>\n",
       "      <th></th>\n",
       "      <th></th>\n",
       "    </tr>\n",
       "  </thead>\n",
       "  <tbody>\n",
       "    <tr>\n",
       "      <th>7</th>\n",
       "      <td>1350</td>\n",
       "      <td>1533</td>\n",
       "      <td>2883</td>\n",
       "      <td>53.2</td>\n",
       "    </tr>\n",
       "    <tr>\n",
       "      <th>10</th>\n",
       "      <td>983</td>\n",
       "      <td>1302</td>\n",
       "      <td>2285</td>\n",
       "      <td>57.0</td>\n",
       "    </tr>\n",
       "    <tr>\n",
       "      <th>14</th>\n",
       "      <td>866</td>\n",
       "      <td>1295</td>\n",
       "      <td>2161</td>\n",
       "      <td>59.9</td>\n",
       "    </tr>\n",
       "    <tr>\n",
       "      <th>18</th>\n",
       "      <td>1188</td>\n",
       "      <td>1743</td>\n",
       "      <td>2931</td>\n",
       "      <td>59.5</td>\n",
       "    </tr>\n",
       "    <tr>\n",
       "      <th>22</th>\n",
       "      <td>998</td>\n",
       "      <td>1121</td>\n",
       "      <td>2119</td>\n",
       "      <td>52.9</td>\n",
       "    </tr>\n",
       "  </tbody>\n",
       "</table>\n",
       "</div>"
      ],
      "text/plain": [
       "Offer Accepted    No   Yes  total_ppl  % accepted\n",
       "Travel Time                                      \n",
       "7               1350  1533       2883        53.2\n",
       "10               983  1302       2285        57.0\n",
       "14               866  1295       2161        59.9\n",
       "18              1188  1743       2931        59.5\n",
       "22               998  1121       2119        52.9"
      ]
     },
     "execution_count": 47,
     "metadata": {},
     "output_type": "execute_result"
    }
   ],
   "source": [
    "imp=pd.crosstab(df['Travel Time'],df['Offer Accepted'])\n",
    "imp['total_ppl']=imp.No + imp.Yes\n",
    "imp['% accepted']=round((imp.Yes/imp.total_ppl)*100,1)\n",
    "imp"
   ]
  },
  {
   "cell_type": "markdown",
   "id": "10860a47",
   "metadata": {
    "papermill": {
     "duration": 0.028339,
     "end_time": "2022-12-18T22:28:33.160231",
     "exception": false,
     "start_time": "2022-12-18T22:28:33.131892",
     "status": "completed"
    },
    "tags": []
   },
   "source": [
    "## Feature Engineering"
   ]
  },
  {
   "cell_type": "code",
   "execution_count": 48,
   "id": "d98e0aeb",
   "metadata": {
    "execution": {
     "iopub.execute_input": "2022-12-18T22:28:33.219804Z",
     "iopub.status.busy": "2022-12-18T22:28:33.219149Z",
     "iopub.status.idle": "2022-12-18T22:28:33.227343Z",
     "shell.execute_reply": "2022-12-18T22:28:33.226255Z"
    },
    "papermill": {
     "duration": 0.040389,
     "end_time": "2022-12-18T22:28:33.229256",
     "exception": false,
     "start_time": "2022-12-18T22:28:33.188867",
     "status": "completed"
    },
    "tags": []
   },
   "outputs": [
    {
     "data": {
      "text/plain": [
       "1    12379\n",
       "Name: travelled_more_than_5mins_for_offer, dtype: int64"
      ]
     },
     "execution_count": 48,
     "metadata": {},
     "output_type": "execute_result"
    }
   ],
   "source": [
    "df['travelled_more_than_5mins_for_offer'].value_counts()"
   ]
  },
  {
   "cell_type": "code",
   "execution_count": 49,
   "id": "47dbccc9",
   "metadata": {
    "execution": {
     "iopub.execute_input": "2022-12-18T22:28:33.288273Z",
     "iopub.status.busy": "2022-12-18T22:28:33.287676Z",
     "iopub.status.idle": "2022-12-18T22:28:33.301609Z",
     "shell.execute_reply": "2022-12-18T22:28:33.300027Z"
    },
    "papermill": {
     "duration": 0.046271,
     "end_time": "2022-12-18T22:28:33.304132",
     "exception": false,
     "start_time": "2022-12-18T22:28:33.257861",
     "status": "completed"
    },
    "tags": []
   },
   "outputs": [
    {
     "name": "stdout",
     "output_type": "stream",
     "text": [
      "(794, 30)\n",
      "Neither in same dirrection nor in opposite direction (392, 30)\n",
      "Both in same dirrection and in opposite direction (402, 30)\n"
     ]
    }
   ],
   "source": [
    "direction=df[df['restuarant_opposite_direction_house']==df['restuarant_same_direction_house']]\n",
    "print(direction.shape)\n",
    "print('Neither in same dirrection nor in opposite direction',direction[direction['restuarant_same_direction_house']==0].shape)\n",
    "print('Both in same dirrection and in opposite direction',direction[direction['restuarant_same_direction_house']==1].shape)"
   ]
  },
  {
   "cell_type": "code",
   "execution_count": 50,
   "id": "a1d2fc1b",
   "metadata": {
    "execution": {
     "iopub.execute_input": "2022-12-18T22:28:33.364025Z",
     "iopub.status.busy": "2022-12-18T22:28:33.363640Z",
     "iopub.status.idle": "2022-12-18T22:28:33.369798Z",
     "shell.execute_reply": "2022-12-18T22:28:33.369096Z"
    },
    "papermill": {
     "duration": 0.037979,
     "end_time": "2022-12-18T22:28:33.371602",
     "exception": false,
     "start_time": "2022-12-18T22:28:33.333623",
     "status": "completed"
    },
    "tags": []
   },
   "outputs": [],
   "source": [
    "df['travel_time_for_offer']=df['travelled_more_than_15mins_for_offer']+df['travelled_more_than_25mins_for_offer']"
   ]
  },
  {
   "cell_type": "code",
   "execution_count": 51,
   "id": "b84fa538",
   "metadata": {
    "execution": {
     "iopub.execute_input": "2022-12-18T22:28:33.431443Z",
     "iopub.status.busy": "2022-12-18T22:28:33.430181Z",
     "iopub.status.idle": "2022-12-18T22:28:33.437154Z",
     "shell.execute_reply": "2022-12-18T22:28:33.435797Z"
    },
    "papermill": {
     "duration": 0.03946,
     "end_time": "2022-12-18T22:28:33.439788",
     "exception": false,
     "start_time": "2022-12-18T22:28:33.400328",
     "status": "completed"
    },
    "tags": []
   },
   "outputs": [],
   "source": [
    "df['travel_time_for_offer']=df['travel_time_for_offer']+1"
   ]
  },
  {
   "cell_type": "markdown",
   "id": "72f02b36",
   "metadata": {
    "papermill": {
     "duration": 0.028566,
     "end_time": "2022-12-18T22:28:33.498308",
     "exception": false,
     "start_time": "2022-12-18T22:28:33.469742",
     "status": "completed"
    },
    "tags": []
   },
   "source": [
    "There can be four cases:\n",
    "1. more than 25 min =1 and more than 15 min =1 (Preson travelled for more than 25 min)\n",
    "2. more than 25 min =0 and more than 15 min =1 (Preson travelled for between 15 and 25 min)\n",
    "3. more than 25 min =0 and more than 15 min =0 (Preson travelled for less than 15 min)\n",
    "4. more than 25 min =1 and more than 15 min =0 (This does not make sense)"
   ]
  },
  {
   "cell_type": "code",
   "execution_count": 52,
   "id": "0cb0dc31",
   "metadata": {
    "execution": {
     "iopub.execute_input": "2022-12-18T22:28:33.558853Z",
     "iopub.status.busy": "2022-12-18T22:28:33.558084Z",
     "iopub.status.idle": "2022-12-18T22:28:33.572988Z",
     "shell.execute_reply": "2022-12-18T22:28:33.571570Z"
    },
    "papermill": {
     "duration": 0.048388,
     "end_time": "2022-12-18T22:28:33.575824",
     "exception": false,
     "start_time": "2022-12-18T22:28:33.527436",
     "status": "completed"
    },
    "tags": []
   },
   "outputs": [
    {
     "data": {
      "text/plain": [
       "(125, 31)"
      ]
     },
     "execution_count": 52,
     "metadata": {},
     "output_type": "execute_result"
    }
   ],
   "source": [
    "df[(df['travelled_more_than_25mins_for_offer']==1) & (df['travelled_more_than_15mins_for_offer']==0)].shape"
   ]
  },
  {
   "cell_type": "code",
   "execution_count": 53,
   "id": "68d431fc",
   "metadata": {
    "execution": {
     "iopub.execute_input": "2022-12-18T22:28:33.637209Z",
     "iopub.status.busy": "2022-12-18T22:28:33.636817Z",
     "iopub.status.idle": "2022-12-18T22:28:33.645843Z",
     "shell.execute_reply": "2022-12-18T22:28:33.644836Z"
    },
    "papermill": {
     "duration": 0.04277,
     "end_time": "2022-12-18T22:28:33.648135",
     "exception": false,
     "start_time": "2022-12-18T22:28:33.605365",
     "status": "completed"
    },
    "tags": []
   },
   "outputs": [],
   "source": [
    "df=df.drop(['travelled_more_than_5mins_for_offer','restuarant_opposite_direction_house',\n",
    "           'travelled_more_than_15mins_for_offer','travelled_more_than_25mins_for_offer'],axis=1)"
   ]
  },
  {
   "cell_type": "code",
   "execution_count": 54,
   "id": "be821860",
   "metadata": {
    "execution": {
     "iopub.execute_input": "2022-12-18T22:28:33.708640Z",
     "iopub.status.busy": "2022-12-18T22:28:33.708249Z",
     "iopub.status.idle": "2022-12-18T22:28:33.715558Z",
     "shell.execute_reply": "2022-12-18T22:28:33.714365Z"
    },
    "papermill": {
     "duration": 0.039496,
     "end_time": "2022-12-18T22:28:33.717412",
     "exception": false,
     "start_time": "2022-12-18T22:28:33.677916",
     "status": "completed"
    },
    "tags": []
   },
   "outputs": [],
   "source": [
    "df2['travel_time_for_offer']=df2['travelled_more_than_15mins_for_offer']+df2['travelled_more_than_25mins_for_offer']\n",
    "df2['travel_time_for_offer']=df2['travel_time_for_offer']+1"
   ]
  },
  {
   "cell_type": "code",
   "execution_count": 55,
   "id": "11bd10bc",
   "metadata": {
    "execution": {
     "iopub.execute_input": "2022-12-18T22:28:33.776082Z",
     "iopub.status.busy": "2022-12-18T22:28:33.775661Z",
     "iopub.status.idle": "2022-12-18T22:28:33.785923Z",
     "shell.execute_reply": "2022-12-18T22:28:33.784583Z"
    },
    "papermill": {
     "duration": 0.041819,
     "end_time": "2022-12-18T22:28:33.787923",
     "exception": false,
     "start_time": "2022-12-18T22:28:33.746104",
     "status": "completed"
    },
    "tags": []
   },
   "outputs": [],
   "source": [
    "df2=df2.drop(['travelled_more_than_5mins_for_offer','restuarant_opposite_direction_house',\n",
    "           'travelled_more_than_15mins_for_offer','travelled_more_than_25mins_for_offer'],axis=1)"
   ]
  },
  {
   "cell_type": "code",
   "execution_count": 56,
   "id": "39105b8e",
   "metadata": {
    "execution": {
     "iopub.execute_input": "2022-12-18T22:28:33.847416Z",
     "iopub.status.busy": "2022-12-18T22:28:33.847005Z",
     "iopub.status.idle": "2022-12-18T22:28:33.852174Z",
     "shell.execute_reply": "2022-12-18T22:28:33.851149Z"
    },
    "papermill": {
     "duration": 0.037179,
     "end_time": "2022-12-18T22:28:33.854839",
     "exception": false,
     "start_time": "2022-12-18T22:28:33.817660",
     "status": "completed"
    },
    "tags": []
   },
   "outputs": [
    {
     "name": "stdout",
     "output_type": "stream",
     "text": [
      "(12379, 27)\n"
     ]
    }
   ],
   "source": [
    "print(df.shape)"
   ]
  },
  {
   "cell_type": "code",
   "execution_count": 57,
   "id": "b5448c52",
   "metadata": {
    "execution": {
     "iopub.execute_input": "2022-12-18T22:28:33.915374Z",
     "iopub.status.busy": "2022-12-18T22:28:33.914890Z",
     "iopub.status.idle": "2022-12-18T22:28:33.919817Z",
     "shell.execute_reply": "2022-12-18T22:28:33.919089Z"
    },
    "papermill": {
     "duration": 0.037103,
     "end_time": "2022-12-18T22:28:33.921900",
     "exception": false,
     "start_time": "2022-12-18T22:28:33.884797",
     "status": "completed"
    },
    "tags": []
   },
   "outputs": [
    {
     "name": "stdout",
     "output_type": "stream",
     "text": [
      "(5305, 26)\n"
     ]
    }
   ],
   "source": [
    "print(df2.shape)"
   ]
  },
  {
   "cell_type": "code",
   "execution_count": 58,
   "id": "91ba95d3",
   "metadata": {
    "execution": {
     "iopub.execute_input": "2022-12-18T22:28:33.983421Z",
     "iopub.status.busy": "2022-12-18T22:28:33.983060Z",
     "iopub.status.idle": "2022-12-18T22:28:33.995835Z",
     "shell.execute_reply": "2022-12-18T22:28:33.994983Z"
    },
    "papermill": {
     "duration": 0.04605,
     "end_time": "2022-12-18T22:28:33.997691",
     "exception": false,
     "start_time": "2022-12-18T22:28:33.951641",
     "status": "completed"
    },
    "tags": []
   },
   "outputs": [
    {
     "data": {
      "text/html": [
       "<div>\n",
       "<style scoped>\n",
       "    .dataframe tbody tr th:only-of-type {\n",
       "        vertical-align: middle;\n",
       "    }\n",
       "\n",
       "    .dataframe tbody tr th {\n",
       "        vertical-align: top;\n",
       "    }\n",
       "\n",
       "    .dataframe thead th {\n",
       "        text-align: right;\n",
       "    }\n",
       "</style>\n",
       "<table border=\"1\" class=\"dataframe\">\n",
       "  <thead>\n",
       "    <tr style=\"text-align: right;\">\n",
       "      <th></th>\n",
       "      <th>0</th>\n",
       "    </tr>\n",
       "  </thead>\n",
       "  <tbody>\n",
       "    <tr>\n",
       "      <th>0</th>\n",
       "      <td>offer expiration</td>\n",
       "    </tr>\n",
       "    <tr>\n",
       "      <th>1</th>\n",
       "      <td>income_range</td>\n",
       "    </tr>\n",
       "    <tr>\n",
       "      <th>2</th>\n",
       "      <td>no_visited_Cold drinks</td>\n",
       "    </tr>\n",
       "    <tr>\n",
       "      <th>3</th>\n",
       "      <td>Restaur_spend_less_than20</td>\n",
       "    </tr>\n",
       "    <tr>\n",
       "      <th>4</th>\n",
       "      <td>Marital Status</td>\n",
       "    </tr>\n",
       "    <tr>\n",
       "      <th>5</th>\n",
       "      <td>restaurant type</td>\n",
       "    </tr>\n",
       "    <tr>\n",
       "      <th>6</th>\n",
       "      <td>age</td>\n",
       "    </tr>\n",
       "    <tr>\n",
       "      <th>7</th>\n",
       "      <td>Prefer western over chinese</td>\n",
       "    </tr>\n",
       "    <tr>\n",
       "      <th>8</th>\n",
       "      <td>no_visited_bars</td>\n",
       "    </tr>\n",
       "    <tr>\n",
       "      <th>9</th>\n",
       "      <td>gender</td>\n",
       "    </tr>\n",
       "    <tr>\n",
       "      <th>10</th>\n",
       "      <td>restuarant_same_direction_house</td>\n",
       "    </tr>\n",
       "    <tr>\n",
       "      <th>11</th>\n",
       "      <td>Cooks regularly</td>\n",
       "    </tr>\n",
       "    <tr>\n",
       "      <th>12</th>\n",
       "      <td>Customer type</td>\n",
       "    </tr>\n",
       "    <tr>\n",
       "      <th>13</th>\n",
       "      <td>Qualification</td>\n",
       "    </tr>\n",
       "    <tr>\n",
       "      <th>14</th>\n",
       "      <td>is foodie</td>\n",
       "    </tr>\n",
       "    <tr>\n",
       "      <th>15</th>\n",
       "      <td>no_Take-aways</td>\n",
       "    </tr>\n",
       "    <tr>\n",
       "      <th>16</th>\n",
       "      <td>Job/Job Industry</td>\n",
       "    </tr>\n",
       "    <tr>\n",
       "      <th>17</th>\n",
       "      <td>has Children</td>\n",
       "    </tr>\n",
       "    <tr>\n",
       "      <th>18</th>\n",
       "      <td>visit restaurant with rating (avg)</td>\n",
       "    </tr>\n",
       "    <tr>\n",
       "      <th>19</th>\n",
       "      <td>temperature</td>\n",
       "    </tr>\n",
       "    <tr>\n",
       "      <th>20</th>\n",
       "      <td>Restaur_spend_greater_than20</td>\n",
       "    </tr>\n",
       "    <tr>\n",
       "      <th>21</th>\n",
       "      <td>Travel Time</td>\n",
       "    </tr>\n",
       "    <tr>\n",
       "      <th>22</th>\n",
       "      <td>Climate</td>\n",
       "    </tr>\n",
       "    <tr>\n",
       "      <th>23</th>\n",
       "      <td>drop location</td>\n",
       "    </tr>\n",
       "    <tr>\n",
       "      <th>24</th>\n",
       "      <td>Prefer home food</td>\n",
       "    </tr>\n",
       "    <tr>\n",
       "      <th>25</th>\n",
       "      <td>travel_time_for_offer</td>\n",
       "    </tr>\n",
       "  </tbody>\n",
       "</table>\n",
       "</div>"
      ],
      "text/plain": [
       "                                     0\n",
       "0                     offer expiration\n",
       "1                         income_range\n",
       "2               no_visited_Cold drinks\n",
       "3            Restaur_spend_less_than20\n",
       "4                       Marital Status\n",
       "5                      restaurant type\n",
       "6                                  age\n",
       "7          Prefer western over chinese\n",
       "8                      no_visited_bars\n",
       "9                               gender\n",
       "10     restuarant_same_direction_house\n",
       "11                     Cooks regularly\n",
       "12                       Customer type\n",
       "13                       Qualification\n",
       "14                           is foodie\n",
       "15                       no_Take-aways\n",
       "16                    Job/Job Industry\n",
       "17                        has Children\n",
       "18  visit restaurant with rating (avg)\n",
       "19                         temperature\n",
       "20        Restaur_spend_greater_than20\n",
       "21                         Travel Time\n",
       "22                             Climate\n",
       "23                       drop location\n",
       "24                    Prefer home food\n",
       "25               travel_time_for_offer"
      ]
     },
     "execution_count": 58,
     "metadata": {},
     "output_type": "execute_result"
    }
   ],
   "source": [
    "X=df.drop('Offer Accepted',axis=1)\n",
    "col=X.columns\n",
    "info = pd.DataFrame(col)\n",
    "info"
   ]
  },
  {
   "cell_type": "code",
   "execution_count": null,
   "id": "1d45cb1c",
   "metadata": {
    "papermill": {
     "duration": 0.029053,
     "end_time": "2022-12-18T22:28:34.056279",
     "exception": false,
     "start_time": "2022-12-18T22:28:34.027226",
     "status": "completed"
    },
    "tags": []
   },
   "outputs": [],
   "source": []
  },
  {
   "cell_type": "code",
   "execution_count": 59,
   "id": "48f29c81",
   "metadata": {
    "execution": {
     "iopub.execute_input": "2022-12-18T22:28:34.116583Z",
     "iopub.status.busy": "2022-12-18T22:28:34.116189Z",
     "iopub.status.idle": "2022-12-18T22:28:34.121918Z",
     "shell.execute_reply": "2022-12-18T22:28:34.121305Z"
    },
    "papermill": {
     "duration": 0.037512,
     "end_time": "2022-12-18T22:28:34.123519",
     "exception": false,
     "start_time": "2022-12-18T22:28:34.086007",
     "status": "completed"
    },
    "tags": []
   },
   "outputs": [
    {
     "data": {
      "text/plain": [
       "(12379, 27)"
      ]
     },
     "execution_count": 59,
     "metadata": {},
     "output_type": "execute_result"
    }
   ],
   "source": [
    "df.shape"
   ]
  },
  {
   "cell_type": "code",
   "execution_count": 60,
   "id": "316f89da",
   "metadata": {
    "execution": {
     "iopub.execute_input": "2022-12-18T22:28:34.184166Z",
     "iopub.status.busy": "2022-12-18T22:28:34.183545Z",
     "iopub.status.idle": "2022-12-18T22:28:34.375122Z",
     "shell.execute_reply": "2022-12-18T22:28:34.374119Z"
    },
    "papermill": {
     "duration": 0.224585,
     "end_time": "2022-12-18T22:28:34.377269",
     "exception": false,
     "start_time": "2022-12-18T22:28:34.152684",
     "status": "completed"
    },
    "tags": []
   },
   "outputs": [
    {
     "name": "stderr",
     "output_type": "stream",
     "text": [
      "/opt/conda/lib/python3.7/site-packages/seaborn/_decorators.py:43: FutureWarning: Pass the following variable as a keyword arg: x. From version 0.12, the only valid positional argument will be `data`, and passing other arguments without an explicit keyword will result in an error or misinterpretation.\n",
      "  FutureWarning\n"
     ]
    },
    {
     "data": {
      "text/plain": [
       "<AxesSubplot:xlabel='travel_time_for_offer', ylabel='count'>"
      ]
     },
     "execution_count": 60,
     "metadata": {},
     "output_type": "execute_result"
    },
    {
     "data": {
      "image/png": "[encoded data removed]",
      "text/plain": [
       "<Figure size 1440x720 with 1 Axes>"
      ]
     },
     "metadata": {
      "needs_background": "light"
     },
     "output_type": "display_data"
    }
   ],
   "source": [
    "sns.countplot(df['travel_time_for_offer'])"
   ]
  },
  {
   "cell_type": "code",
   "execution_count": 61,
   "id": "b28717e6",
   "metadata": {
    "execution": {
     "iopub.execute_input": "2022-12-18T22:28:34.438245Z",
     "iopub.status.busy": "2022-12-18T22:28:34.437863Z",
     "iopub.status.idle": "2022-12-18T22:28:34.461227Z",
     "shell.execute_reply": "2022-12-18T22:28:34.459525Z"
    },
    "papermill": {
     "duration": 0.056491,
     "end_time": "2022-12-18T22:28:34.463601",
     "exception": false,
     "start_time": "2022-12-18T22:28:34.407110",
     "status": "completed"
    },
    "tags": []
   },
   "outputs": [
    {
     "data": {
      "text/html": [
       "<div>\n",
       "<style scoped>\n",
       "    .dataframe tbody tr th:only-of-type {\n",
       "        vertical-align: middle;\n",
       "    }\n",
       "\n",
       "    .dataframe tbody tr th {\n",
       "        vertical-align: top;\n",
       "    }\n",
       "\n",
       "    .dataframe thead th {\n",
       "        text-align: right;\n",
       "    }\n",
       "</style>\n",
       "<table border=\"1\" class=\"dataframe\">\n",
       "  <thead>\n",
       "    <tr style=\"text-align: right;\">\n",
       "      <th>Offer Accepted</th>\n",
       "      <th>No</th>\n",
       "      <th>Yes</th>\n",
       "      <th>total_ppl</th>\n",
       "      <th>% accepted</th>\n",
       "    </tr>\n",
       "    <tr>\n",
       "      <th>travel_time_for_offer</th>\n",
       "      <th></th>\n",
       "      <th></th>\n",
       "      <th></th>\n",
       "      <th></th>\n",
       "    </tr>\n",
       "  </thead>\n",
       "  <tbody>\n",
       "    <tr>\n",
       "      <th>1</th>\n",
       "      <td>2080</td>\n",
       "      <td>3175</td>\n",
       "      <td>5255</td>\n",
       "      <td>60.4</td>\n",
       "    </tr>\n",
       "    <tr>\n",
       "      <th>2</th>\n",
       "      <td>2552</td>\n",
       "      <td>3219</td>\n",
       "      <td>5771</td>\n",
       "      <td>55.8</td>\n",
       "    </tr>\n",
       "    <tr>\n",
       "      <th>3</th>\n",
       "      <td>753</td>\n",
       "      <td>600</td>\n",
       "      <td>1353</td>\n",
       "      <td>44.3</td>\n",
       "    </tr>\n",
       "  </tbody>\n",
       "</table>\n",
       "</div>"
      ],
      "text/plain": [
       "Offer Accepted           No   Yes  total_ppl  % accepted\n",
       "travel_time_for_offer                                   \n",
       "1                      2080  3175       5255        60.4\n",
       "2                      2552  3219       5771        55.8\n",
       "3                       753   600       1353        44.3"
      ]
     },
     "execution_count": 61,
     "metadata": {},
     "output_type": "execute_result"
    }
   ],
   "source": [
    "imp=pd.crosstab(df['travel_time_for_offer'],df['Offer Accepted'])\n",
    "imp['total_ppl']=imp.No + imp.Yes\n",
    "imp['% accepted']=round((imp.Yes/imp.total_ppl)*100,1)\n",
    "imp"
   ]
  },
  {
   "cell_type": "code",
   "execution_count": 62,
   "id": "eed076f7",
   "metadata": {
    "execution": {
     "iopub.execute_input": "2022-12-18T22:28:34.525431Z",
     "iopub.status.busy": "2022-12-18T22:28:34.524537Z",
     "iopub.status.idle": "2022-12-18T22:28:34.585244Z",
     "shell.execute_reply": "2022-12-18T22:28:34.584440Z"
    },
    "papermill": {
     "duration": 0.094071,
     "end_time": "2022-12-18T22:28:34.587504",
     "exception": false,
     "start_time": "2022-12-18T22:28:34.493433",
     "status": "completed"
    },
    "tags": []
   },
   "outputs": [],
   "source": [
    "from sklearn.preprocessing import OneHotEncoder\n",
    "ohe=OneHotEncoder(sparse=False)\n",
    "\n",
    "df_ohe = pd.DataFrame (ohe.fit_transform(df[['Climate','drop location','gender','Marital Status','Customer type',\n",
    "                                                     'restaurant type','Job/Job Industry']]))\n",
    "df2_ohe = pd.DataFrame (ohe.transform(df2[['Climate','drop location','gender','Marital Status','Customer type',\n",
    "                                                     'restaurant type','Job/Job Industry']]))\n",
    "\n",
    "\n",
    "df_ohe.columns = ohe.get_feature_names_out(['Climate','drop location','gender','Marital Status','Customer type',\n",
    "                                                'restaurant type','Job/Job Industry'])\n",
    "df2_ohe.columns = ohe.get_feature_names_out(['Climate','drop location','gender','Marital Status','Customer type',\n",
    "                                                'restaurant type','Job/Job Industry'])\n",
    "\n",
    "df.drop(['Climate','drop location','gender','Marital Status','Customer type',\n",
    "              'restaurant type','Job/Job Industry'] ,axis=1, inplace=True)\n",
    "df2.drop(['Climate','drop location','gender','Marital Status','Customer type'\n",
    "              ,'restaurant type','Job/Job Industry'] ,axis=1, inplace=True)\n",
    "\n",
    "ohedf= pd.concat([df, df_ohe ], axis=1)\n",
    "ohedf2= pd.concat([df2, df2_ohe ], axis=1)"
   ]
  },
  {
   "cell_type": "code",
   "execution_count": 63,
   "id": "b71fa35c",
   "metadata": {
    "execution": {
     "iopub.execute_input": "2022-12-18T22:28:34.649446Z",
     "iopub.status.busy": "2022-12-18T22:28:34.648897Z",
     "iopub.status.idle": "2022-12-18T22:28:34.653126Z",
     "shell.execute_reply": "2022-12-18T22:28:34.652552Z"
    },
    "papermill": {
     "duration": 0.036693,
     "end_time": "2022-12-18T22:28:34.654795",
     "exception": false,
     "start_time": "2022-12-18T22:28:34.618102",
     "status": "completed"
    },
    "tags": []
   },
   "outputs": [],
   "source": [
    "df=ohedf\n",
    "df2=ohedf2"
   ]
  },
  {
   "cell_type": "code",
   "execution_count": 64,
   "id": "0b24c1bb",
   "metadata": {
    "execution": {
     "iopub.execute_input": "2022-12-18T22:28:34.715869Z",
     "iopub.status.busy": "2022-12-18T22:28:34.715365Z",
     "iopub.status.idle": "2022-12-18T22:28:34.735469Z",
     "shell.execute_reply": "2022-12-18T22:28:34.734215Z"
    },
    "papermill": {
     "duration": 0.054141,
     "end_time": "2022-12-18T22:28:34.737897",
     "exception": false,
     "start_time": "2022-12-18T22:28:34.683756",
     "status": "completed"
    },
    "tags": []
   },
   "outputs": [],
   "source": [
    "df = df.astype({'Prefer western over chinese':'int64','restuarant_same_direction_house':'int64',\n",
    "                'Cooks regularly':'int64','is foodie':'int64','has Children':'int64',\n",
    "                'visit restaurant with rating (avg)':'int64','temperature':'int64','Travel Time':'int64',\n",
    "                'Prefer home food':'int64','travel_time_for_offer':'int64'})"
   ]
  },
  {
   "cell_type": "code",
   "execution_count": 65,
   "id": "f9b7ced4",
   "metadata": {
    "execution": {
     "iopub.execute_input": "2022-12-18T22:28:34.799130Z",
     "iopub.status.busy": "2022-12-18T22:28:34.798570Z",
     "iopub.status.idle": "2022-12-18T22:28:34.816641Z",
     "shell.execute_reply": "2022-12-18T22:28:34.815282Z"
    },
    "papermill": {
     "duration": 0.051435,
     "end_time": "2022-12-18T22:28:34.818981",
     "exception": false,
     "start_time": "2022-12-18T22:28:34.767546",
     "status": "completed"
    },
    "tags": []
   },
   "outputs": [],
   "source": [
    "df2 = df2.astype({'Prefer western over chinese':'int64','restuarant_same_direction_house':'int64',\n",
    "                'Cooks regularly':'int64','is foodie':'int64','has Children':'int64',\n",
    "                'visit restaurant with rating (avg)':'int64','temperature':'int64','Travel Time':'int64',\n",
    "                'Prefer home food':'int64','travel_time_for_offer':'int64'})"
   ]
  },
  {
   "cell_type": "code",
   "execution_count": 66,
   "id": "b8fe8ea5",
   "metadata": {
    "execution": {
     "iopub.execute_input": "2022-12-18T22:28:34.880574Z",
     "iopub.status.busy": "2022-12-18T22:28:34.880070Z",
     "iopub.status.idle": "2022-12-18T22:28:34.905856Z",
     "shell.execute_reply": "2022-12-18T22:28:34.904169Z"
    },
    "papermill": {
     "duration": 0.059099,
     "end_time": "2022-12-18T22:28:34.908081",
     "exception": false,
     "start_time": "2022-12-18T22:28:34.848982",
     "status": "completed"
    },
    "tags": []
   },
   "outputs": [
    {
     "name": "stdout",
     "output_type": "stream",
     "text": [
      "<class 'pandas.core.frame.DataFrame'>\n",
      "RangeIndex: 12379 entries, 0 to 12378\n",
      "Data columns (total 67 columns):\n",
      " #   Column                                                      Non-Null Count  Dtype  \n",
      "---  ------                                                      --------------  -----  \n",
      " 0   offer expiration                                            12379 non-null  int64  \n",
      " 1   income_range                                                12379 non-null  int64  \n",
      " 2   no_visited_Cold drinks                                      12379 non-null  int64  \n",
      " 3   Restaur_spend_less_than20                                   12379 non-null  int64  \n",
      " 4   age                                                         12379 non-null  int64  \n",
      " 5   Prefer western over chinese                                 12379 non-null  int64  \n",
      " 6   no_visited_bars                                             12379 non-null  int64  \n",
      " 7   restuarant_same_direction_house                             12379 non-null  int64  \n",
      " 8   Cooks regularly                                             12379 non-null  int64  \n",
      " 9   Qualification                                               12379 non-null  int64  \n",
      " 10  is foodie                                                   12379 non-null  int64  \n",
      " 11  no_Take-aways                                               12379 non-null  int64  \n",
      " 12  has Children                                                12379 non-null  int64  \n",
      " 13  visit restaurant with rating (avg)                          12379 non-null  int64  \n",
      " 14  temperature                                                 12379 non-null  int64  \n",
      " 15  Restaur_spend_greater_than20                                12379 non-null  int64  \n",
      " 16  Travel Time                                                 12379 non-null  int64  \n",
      " 17  Prefer home food                                            12379 non-null  int64  \n",
      " 18  Offer Accepted                                              12379 non-null  object \n",
      " 19  travel_time_for_offer                                       12379 non-null  int64  \n",
      " 20  Climate_Spring                                              12379 non-null  float64\n",
      " 21  Climate_Summer                                              12379 non-null  float64\n",
      " 22  Climate_Winter                                              12379 non-null  float64\n",
      " 23  drop location_Location A                                    12379 non-null  float64\n",
      " 24  drop location_Location B                                    12379 non-null  float64\n",
      " 25  drop location_Location C                                    12379 non-null  float64\n",
      " 26  gender_Female                                               12379 non-null  float64\n",
      " 27  gender_Male                                                 12379 non-null  float64\n",
      " 28  Marital Status_Divorced                                     12379 non-null  float64\n",
      " 29  Marital Status_Married partner                              12379 non-null  float64\n",
      " 30  Marital Status_Single                                       12379 non-null  float64\n",
      " 31  Marital Status_Unmarried partner                            12379 non-null  float64\n",
      " 32  Marital Status_Widowed                                      12379 non-null  float64\n",
      " 33  Customer type_Individual                                    12379 non-null  float64\n",
      " 34  Customer type_With Colleagues                               12379 non-null  float64\n",
      " 35  Customer type_With Family                                   12379 non-null  float64\n",
      " 36  Customer type_With Kids                                     12379 non-null  float64\n",
      " 37  restaurant type_2 star restaurant                           12379 non-null  float64\n",
      " 38  restaurant type_4 star restaurant                           12379 non-null  float64\n",
      " 39  restaurant type_Cold drinks                                 12379 non-null  float64\n",
      " 40  restaurant type_Restaurant with pub                         12379 non-null  float64\n",
      " 41  restaurant type_Take-away restaurant                        12379 non-null  float64\n",
      " 42  Job/Job Industry_Architecture & Engineering                 12379 non-null  float64\n",
      " 43  Job/Job Industry_Arts Design Entertainment Sports & Media   12379 non-null  float64\n",
      " 44  Job/Job Industry_Building & Grounds Cleaning & Maintenance  12379 non-null  float64\n",
      " 45  Job/Job Industry_Business & Financial                       12379 non-null  float64\n",
      " 46  Job/Job Industry_Community & Social Services                12379 non-null  float64\n",
      " 47  Job/Job Industry_Computer & Mathematical                    12379 non-null  float64\n",
      " 48  Job/Job Industry_Construction & Extraction                  12379 non-null  float64\n",
      " 49  Job/Job Industry_Education&Training&Library                 12379 non-null  float64\n",
      " 50  Job/Job Industry_Farming Fishing & Forestry                 12379 non-null  float64\n",
      " 51  Job/Job Industry_Food Preparation & Serving Related         12379 non-null  float64\n",
      " 52  Job/Job Industry_Healthcare Practitioners & Technical       12379 non-null  float64\n",
      " 53  Job/Job Industry_Healthcare Support                         12379 non-null  float64\n",
      " 54  Job/Job Industry_Installation Maintenance & Repair          12379 non-null  float64\n",
      " 55  Job/Job Industry_Legal                                      12379 non-null  float64\n",
      " 56  Job/Job Industry_Life Physical Social Science               12379 non-null  float64\n",
      " 57  Job/Job Industry_Management                                 12379 non-null  float64\n",
      " 58  Job/Job Industry_Office & Administrative Support            12379 non-null  float64\n",
      " 59  Job/Job Industry_Personal Care & Service                    12379 non-null  float64\n",
      " 60  Job/Job Industry_Production Occupations                     12379 non-null  float64\n",
      " 61  Job/Job Industry_Protective Service                         12379 non-null  float64\n",
      " 62  Job/Job Industry_Retired                                    12379 non-null  float64\n",
      " 63  Job/Job Industry_Sales & Related                            12379 non-null  float64\n",
      " 64  Job/Job Industry_Student                                    12379 non-null  float64\n",
      " 65  Job/Job Industry_Transportation & Material Moving           12379 non-null  float64\n",
      " 66  Job/Job Industry_Unemployed                                 12379 non-null  float64\n",
      "dtypes: float64(47), int64(19), object(1)\n",
      "memory usage: 6.3+ MB\n"
     ]
    }
   ],
   "source": [
    "df.info()"
   ]
  },
  {
   "cell_type": "code",
   "execution_count": 67,
   "id": "80f413e9",
   "metadata": {
    "execution": {
     "iopub.execute_input": "2022-12-18T22:28:34.969588Z",
     "iopub.status.busy": "2022-12-18T22:28:34.969244Z",
     "iopub.status.idle": "2022-12-18T22:28:34.974198Z",
     "shell.execute_reply": "2022-12-18T22:28:34.973182Z"
    },
    "papermill": {
     "duration": 0.03874,
     "end_time": "2022-12-18T22:28:34.976589",
     "exception": false,
     "start_time": "2022-12-18T22:28:34.937849",
     "status": "completed"
    },
    "tags": []
   },
   "outputs": [],
   "source": [
    "df.columns = df.columns.astype(str)\n",
    "df2.columns = df2.columns.astype(str)"
   ]
  },
  {
   "cell_type": "code",
   "execution_count": 68,
   "id": "2f6cfaec",
   "metadata": {
    "execution": {
     "iopub.execute_input": "2022-12-18T22:28:35.038653Z",
     "iopub.status.busy": "2022-12-18T22:28:35.038114Z",
     "iopub.status.idle": "2022-12-18T22:28:35.048545Z",
     "shell.execute_reply": "2022-12-18T22:28:35.047344Z"
    },
    "papermill": {
     "duration": 0.04431,
     "end_time": "2022-12-18T22:28:35.051116",
     "exception": false,
     "start_time": "2022-12-18T22:28:35.006806",
     "status": "completed"
    },
    "tags": []
   },
   "outputs": [],
   "source": [
    "df['Offer Accepted']=df['Offer Accepted'].replace(['Yes','No'],[1,0])"
   ]
  },
  {
   "cell_type": "code",
   "execution_count": 69,
   "id": "83de30fc",
   "metadata": {
    "execution": {
     "iopub.execute_input": "2022-12-18T22:28:35.114392Z",
     "iopub.status.busy": "2022-12-18T22:28:35.113468Z",
     "iopub.status.idle": "2022-12-18T22:28:35.128416Z",
     "shell.execute_reply": "2022-12-18T22:28:35.127438Z"
    },
    "papermill": {
     "duration": 0.048601,
     "end_time": "2022-12-18T22:28:35.130805",
     "exception": false,
     "start_time": "2022-12-18T22:28:35.082204",
     "status": "completed"
    },
    "tags": []
   },
   "outputs": [],
   "source": [
    "X=df.drop('Offer Accepted',axis=1)\n",
    "y=df['Offer Accepted']"
   ]
  },
  {
   "cell_type": "code",
   "execution_count": 70,
   "id": "fe771e30",
   "metadata": {
    "execution": {
     "iopub.execute_input": "2022-12-18T22:28:35.194086Z",
     "iopub.status.busy": "2022-12-18T22:28:35.193587Z",
     "iopub.status.idle": "2022-12-18T22:28:35.266745Z",
     "shell.execute_reply": "2022-12-18T22:28:35.265423Z"
    },
    "papermill": {
     "duration": 0.107777,
     "end_time": "2022-12-18T22:28:35.269478",
     "exception": false,
     "start_time": "2022-12-18T22:28:35.161701",
     "status": "completed"
    },
    "tags": []
   },
   "outputs": [
    {
     "data": {
      "text/html": [
       "<div>\n",
       "<style scoped>\n",
       "    .dataframe tbody tr th:only-of-type {\n",
       "        vertical-align: middle;\n",
       "    }\n",
       "\n",
       "    .dataframe tbody tr th {\n",
       "        vertical-align: top;\n",
       "    }\n",
       "\n",
       "    .dataframe thead th {\n",
       "        text-align: right;\n",
       "    }\n",
       "</style>\n",
       "<table border=\"1\" class=\"dataframe\">\n",
       "  <thead>\n",
       "    <tr style=\"text-align: right;\">\n",
       "      <th></th>\n",
       "      <th>offer expiration</th>\n",
       "      <th>income_range</th>\n",
       "      <th>no_visited_Cold drinks</th>\n",
       "      <th>Restaur_spend_less_than20</th>\n",
       "      <th>age</th>\n",
       "      <th>Prefer western over chinese</th>\n",
       "      <th>no_visited_bars</th>\n",
       "      <th>restuarant_same_direction_house</th>\n",
       "      <th>Cooks regularly</th>\n",
       "      <th>Qualification</th>\n",
       "      <th>is foodie</th>\n",
       "      <th>no_Take-aways</th>\n",
       "      <th>has Children</th>\n",
       "      <th>visit restaurant with rating (avg)</th>\n",
       "      <th>temperature</th>\n",
       "      <th>Restaur_spend_greater_than20</th>\n",
       "      <th>Travel Time</th>\n",
       "      <th>Prefer home food</th>\n",
       "      <th>travel_time_for_offer</th>\n",
       "      <th>Climate_Spring</th>\n",
       "      <th>Climate_Summer</th>\n",
       "      <th>Climate_Winter</th>\n",
       "      <th>drop location_Location A</th>\n",
       "      <th>drop location_Location B</th>\n",
       "      <th>drop location_Location C</th>\n",
       "      <th>gender_Female</th>\n",
       "      <th>gender_Male</th>\n",
       "      <th>Marital Status_Divorced</th>\n",
       "      <th>Marital Status_Married partner</th>\n",
       "      <th>Marital Status_Single</th>\n",
       "      <th>Marital Status_Unmarried partner</th>\n",
       "      <th>Marital Status_Widowed</th>\n",
       "      <th>Customer type_Individual</th>\n",
       "      <th>Customer type_With Colleagues</th>\n",
       "      <th>Customer type_With Family</th>\n",
       "      <th>Customer type_With Kids</th>\n",
       "      <th>restaurant type_2 star restaurant</th>\n",
       "      <th>restaurant type_4 star restaurant</th>\n",
       "      <th>restaurant type_Cold drinks</th>\n",
       "      <th>restaurant type_Restaurant with pub</th>\n",
       "      <th>restaurant type_Take-away restaurant</th>\n",
       "      <th>Job/Job Industry_Architecture &amp; Engineering</th>\n",
       "      <th>Job/Job Industry_Arts Design Entertainment Sports &amp; Media</th>\n",
       "      <th>Job/Job Industry_Building &amp; Grounds Cleaning &amp; Maintenance</th>\n",
       "      <th>Job/Job Industry_Business &amp; Financial</th>\n",
       "      <th>Job/Job Industry_Community &amp; Social Services</th>\n",
       "      <th>Job/Job Industry_Computer &amp; Mathematical</th>\n",
       "      <th>Job/Job Industry_Construction &amp; Extraction</th>\n",
       "      <th>Job/Job Industry_Education&amp;Training&amp;Library</th>\n",
       "      <th>Job/Job Industry_Farming Fishing &amp; Forestry</th>\n",
       "      <th>Job/Job Industry_Food Preparation &amp; Serving Related</th>\n",
       "      <th>Job/Job Industry_Healthcare Practitioners &amp; Technical</th>\n",
       "      <th>Job/Job Industry_Healthcare Support</th>\n",
       "      <th>Job/Job Industry_Installation Maintenance &amp; Repair</th>\n",
       "      <th>Job/Job Industry_Legal</th>\n",
       "      <th>Job/Job Industry_Life Physical Social Science</th>\n",
       "      <th>Job/Job Industry_Management</th>\n",
       "      <th>Job/Job Industry_Office &amp; Administrative Support</th>\n",
       "      <th>Job/Job Industry_Personal Care &amp; Service</th>\n",
       "      <th>Job/Job Industry_Production Occupations</th>\n",
       "      <th>Job/Job Industry_Protective Service</th>\n",
       "      <th>Job/Job Industry_Retired</th>\n",
       "      <th>Job/Job Industry_Sales &amp; Related</th>\n",
       "      <th>Job/Job Industry_Student</th>\n",
       "      <th>Job/Job Industry_Transportation &amp; Material Moving</th>\n",
       "      <th>Job/Job Industry_Unemployed</th>\n",
       "    </tr>\n",
       "  </thead>\n",
       "  <tbody>\n",
       "    <tr>\n",
       "      <th>0</th>\n",
       "      <td>48</td>\n",
       "      <td>125000</td>\n",
       "      <td>6</td>\n",
       "      <td>1</td>\n",
       "      <td>36</td>\n",
       "      <td>0</td>\n",
       "      <td>1</td>\n",
       "      <td>0</td>\n",
       "      <td>1</td>\n",
       "      <td>5</td>\n",
       "      <td>0</td>\n",
       "      <td>2</td>\n",
       "      <td>0</td>\n",
       "      <td>4</td>\n",
       "      <td>67</td>\n",
       "      <td>1</td>\n",
       "      <td>22</td>\n",
       "      <td>0</td>\n",
       "      <td>2</td>\n",
       "      <td>1.0</td>\n",
       "      <td>0.0</td>\n",
       "      <td>0.0</td>\n",
       "      <td>0.0</td>\n",
       "      <td>1.0</td>\n",
       "      <td>0.0</td>\n",
       "      <td>1.0</td>\n",
       "      <td>0.0</td>\n",
       "      <td>0.0</td>\n",
       "      <td>1.0</td>\n",
       "      <td>0.0</td>\n",
       "      <td>0.0</td>\n",
       "      <td>0.0</td>\n",
       "      <td>1.0</td>\n",
       "      <td>0.0</td>\n",
       "      <td>0.0</td>\n",
       "      <td>0.0</td>\n",
       "      <td>0.0</td>\n",
       "      <td>1.0</td>\n",
       "      <td>0.0</td>\n",
       "      <td>0.0</td>\n",
       "      <td>0.0</td>\n",
       "      <td>0.0</td>\n",
       "      <td>0.0</td>\n",
       "      <td>0.0</td>\n",
       "      <td>0.0</td>\n",
       "      <td>0.0</td>\n",
       "      <td>0.0</td>\n",
       "      <td>0.0</td>\n",
       "      <td>0.0</td>\n",
       "      <td>0.0</td>\n",
       "      <td>0.0</td>\n",
       "      <td>0.0</td>\n",
       "      <td>0.0</td>\n",
       "      <td>0.0</td>\n",
       "      <td>0.0</td>\n",
       "      <td>0.0</td>\n",
       "      <td>0.0</td>\n",
       "      <td>0.0</td>\n",
       "      <td>0.0</td>\n",
       "      <td>0.0</td>\n",
       "      <td>0.0</td>\n",
       "      <td>0.0</td>\n",
       "      <td>0.0</td>\n",
       "      <td>0.0</td>\n",
       "      <td>0.0</td>\n",
       "      <td>1.0</td>\n",
       "    </tr>\n",
       "    <tr>\n",
       "      <th>1</th>\n",
       "      <td>48</td>\n",
       "      <td>93750</td>\n",
       "      <td>6</td>\n",
       "      <td>6</td>\n",
       "      <td>55</td>\n",
       "      <td>0</td>\n",
       "      <td>0</td>\n",
       "      <td>1</td>\n",
       "      <td>1</td>\n",
       "      <td>5</td>\n",
       "      <td>0</td>\n",
       "      <td>2</td>\n",
       "      <td>1</td>\n",
       "      <td>3</td>\n",
       "      <td>89</td>\n",
       "      <td>2</td>\n",
       "      <td>18</td>\n",
       "      <td>0</td>\n",
       "      <td>1</td>\n",
       "      <td>0.0</td>\n",
       "      <td>1.0</td>\n",
       "      <td>0.0</td>\n",
       "      <td>0.0</td>\n",
       "      <td>1.0</td>\n",
       "      <td>0.0</td>\n",
       "      <td>1.0</td>\n",
       "      <td>0.0</td>\n",
       "      <td>0.0</td>\n",
       "      <td>1.0</td>\n",
       "      <td>0.0</td>\n",
       "      <td>0.0</td>\n",
       "      <td>0.0</td>\n",
       "      <td>1.0</td>\n",
       "      <td>0.0</td>\n",
       "      <td>0.0</td>\n",
       "      <td>0.0</td>\n",
       "      <td>0.0</td>\n",
       "      <td>0.0</td>\n",
       "      <td>0.0</td>\n",
       "      <td>0.0</td>\n",
       "      <td>1.0</td>\n",
       "      <td>0.0</td>\n",
       "      <td>0.0</td>\n",
       "      <td>0.0</td>\n",
       "      <td>0.0</td>\n",
       "      <td>0.0</td>\n",
       "      <td>0.0</td>\n",
       "      <td>0.0</td>\n",
       "      <td>0.0</td>\n",
       "      <td>0.0</td>\n",
       "      <td>0.0</td>\n",
       "      <td>0.0</td>\n",
       "      <td>0.0</td>\n",
       "      <td>0.0</td>\n",
       "      <td>0.0</td>\n",
       "      <td>0.0</td>\n",
       "      <td>0.0</td>\n",
       "      <td>0.0</td>\n",
       "      <td>0.0</td>\n",
       "      <td>0.0</td>\n",
       "      <td>0.0</td>\n",
       "      <td>0.0</td>\n",
       "      <td>0.0</td>\n",
       "      <td>0.0</td>\n",
       "      <td>0.0</td>\n",
       "      <td>1.0</td>\n",
       "    </tr>\n",
       "    <tr>\n",
       "      <th>2</th>\n",
       "      <td>48</td>\n",
       "      <td>93750</td>\n",
       "      <td>1</td>\n",
       "      <td>2</td>\n",
       "      <td>26</td>\n",
       "      <td>1</td>\n",
       "      <td>0</td>\n",
       "      <td>1</td>\n",
       "      <td>0</td>\n",
       "      <td>5</td>\n",
       "      <td>1</td>\n",
       "      <td>2</td>\n",
       "      <td>1</td>\n",
       "      <td>4</td>\n",
       "      <td>67</td>\n",
       "      <td>1</td>\n",
       "      <td>7</td>\n",
       "      <td>1</td>\n",
       "      <td>2</td>\n",
       "      <td>0.0</td>\n",
       "      <td>0.0</td>\n",
       "      <td>1.0</td>\n",
       "      <td>1.0</td>\n",
       "      <td>0.0</td>\n",
       "      <td>0.0</td>\n",
       "      <td>1.0</td>\n",
       "      <td>0.0</td>\n",
       "      <td>0.0</td>\n",
       "      <td>0.0</td>\n",
       "      <td>1.0</td>\n",
       "      <td>0.0</td>\n",
       "      <td>0.0</td>\n",
       "      <td>1.0</td>\n",
       "      <td>0.0</td>\n",
       "      <td>0.0</td>\n",
       "      <td>0.0</td>\n",
       "      <td>0.0</td>\n",
       "      <td>0.0</td>\n",
       "      <td>1.0</td>\n",
       "      <td>0.0</td>\n",
       "      <td>0.0</td>\n",
       "      <td>0.0</td>\n",
       "      <td>1.0</td>\n",
       "      <td>0.0</td>\n",
       "      <td>0.0</td>\n",
       "      <td>0.0</td>\n",
       "      <td>0.0</td>\n",
       "      <td>0.0</td>\n",
       "      <td>0.0</td>\n",
       "      <td>0.0</td>\n",
       "      <td>0.0</td>\n",
       "      <td>0.0</td>\n",
       "      <td>0.0</td>\n",
       "      <td>0.0</td>\n",
       "      <td>0.0</td>\n",
       "      <td>0.0</td>\n",
       "      <td>0.0</td>\n",
       "      <td>0.0</td>\n",
       "      <td>0.0</td>\n",
       "      <td>0.0</td>\n",
       "      <td>0.0</td>\n",
       "      <td>0.0</td>\n",
       "      <td>0.0</td>\n",
       "      <td>0.0</td>\n",
       "      <td>0.0</td>\n",
       "      <td>0.0</td>\n",
       "    </tr>\n",
       "    <tr>\n",
       "      <th>3</th>\n",
       "      <td>10</td>\n",
       "      <td>43750</td>\n",
       "      <td>1</td>\n",
       "      <td>2</td>\n",
       "      <td>46</td>\n",
       "      <td>1</td>\n",
       "      <td>0</td>\n",
       "      <td>1</td>\n",
       "      <td>0</td>\n",
       "      <td>3</td>\n",
       "      <td>1</td>\n",
       "      <td>2</td>\n",
       "      <td>1</td>\n",
       "      <td>3</td>\n",
       "      <td>89</td>\n",
       "      <td>2</td>\n",
       "      <td>7</td>\n",
       "      <td>0</td>\n",
       "      <td>1</td>\n",
       "      <td>0.0</td>\n",
       "      <td>1.0</td>\n",
       "      <td>0.0</td>\n",
       "      <td>0.0</td>\n",
       "      <td>0.0</td>\n",
       "      <td>1.0</td>\n",
       "      <td>0.0</td>\n",
       "      <td>1.0</td>\n",
       "      <td>0.0</td>\n",
       "      <td>0.0</td>\n",
       "      <td>1.0</td>\n",
       "      <td>0.0</td>\n",
       "      <td>0.0</td>\n",
       "      <td>1.0</td>\n",
       "      <td>0.0</td>\n",
       "      <td>0.0</td>\n",
       "      <td>0.0</td>\n",
       "      <td>0.0</td>\n",
       "      <td>0.0</td>\n",
       "      <td>0.0</td>\n",
       "      <td>0.0</td>\n",
       "      <td>1.0</td>\n",
       "      <td>0.0</td>\n",
       "      <td>0.0</td>\n",
       "      <td>0.0</td>\n",
       "      <td>0.0</td>\n",
       "      <td>0.0</td>\n",
       "      <td>0.0</td>\n",
       "      <td>0.0</td>\n",
       "      <td>0.0</td>\n",
       "      <td>0.0</td>\n",
       "      <td>0.0</td>\n",
       "      <td>0.0</td>\n",
       "      <td>0.0</td>\n",
       "      <td>0.0</td>\n",
       "      <td>0.0</td>\n",
       "      <td>0.0</td>\n",
       "      <td>0.0</td>\n",
       "      <td>0.0</td>\n",
       "      <td>0.0</td>\n",
       "      <td>0.0</td>\n",
       "      <td>0.0</td>\n",
       "      <td>0.0</td>\n",
       "      <td>1.0</td>\n",
       "      <td>0.0</td>\n",
       "      <td>0.0</td>\n",
       "      <td>0.0</td>\n",
       "    </tr>\n",
       "    <tr>\n",
       "      <th>4</th>\n",
       "      <td>48</td>\n",
       "      <td>125000</td>\n",
       "      <td>0</td>\n",
       "      <td>2</td>\n",
       "      <td>21</td>\n",
       "      <td>0</td>\n",
       "      <td>1</td>\n",
       "      <td>0</td>\n",
       "      <td>0</td>\n",
       "      <td>3</td>\n",
       "      <td>1</td>\n",
       "      <td>8</td>\n",
       "      <td>0</td>\n",
       "      <td>3</td>\n",
       "      <td>40</td>\n",
       "      <td>1</td>\n",
       "      <td>7</td>\n",
       "      <td>0</td>\n",
       "      <td>3</td>\n",
       "      <td>0.0</td>\n",
       "      <td>1.0</td>\n",
       "      <td>0.0</td>\n",
       "      <td>0.0</td>\n",
       "      <td>0.0</td>\n",
       "      <td>1.0</td>\n",
       "      <td>1.0</td>\n",
       "      <td>0.0</td>\n",
       "      <td>0.0</td>\n",
       "      <td>0.0</td>\n",
       "      <td>1.0</td>\n",
       "      <td>0.0</td>\n",
       "      <td>0.0</td>\n",
       "      <td>1.0</td>\n",
       "      <td>0.0</td>\n",
       "      <td>0.0</td>\n",
       "      <td>0.0</td>\n",
       "      <td>0.0</td>\n",
       "      <td>1.0</td>\n",
       "      <td>0.0</td>\n",
       "      <td>0.0</td>\n",
       "      <td>0.0</td>\n",
       "      <td>0.0</td>\n",
       "      <td>0.0</td>\n",
       "      <td>0.0</td>\n",
       "      <td>0.0</td>\n",
       "      <td>0.0</td>\n",
       "      <td>0.0</td>\n",
       "      <td>0.0</td>\n",
       "      <td>0.0</td>\n",
       "      <td>0.0</td>\n",
       "      <td>0.0</td>\n",
       "      <td>0.0</td>\n",
       "      <td>0.0</td>\n",
       "      <td>0.0</td>\n",
       "      <td>0.0</td>\n",
       "      <td>0.0</td>\n",
       "      <td>0.0</td>\n",
       "      <td>0.0</td>\n",
       "      <td>0.0</td>\n",
       "      <td>0.0</td>\n",
       "      <td>0.0</td>\n",
       "      <td>0.0</td>\n",
       "      <td>1.0</td>\n",
       "      <td>0.0</td>\n",
       "      <td>0.0</td>\n",
       "      <td>0.0</td>\n",
       "    </tr>\n",
       "    <tr>\n",
       "      <th>...</th>\n",
       "      <td>...</td>\n",
       "      <td>...</td>\n",
       "      <td>...</td>\n",
       "      <td>...</td>\n",
       "      <td>...</td>\n",
       "      <td>...</td>\n",
       "      <td>...</td>\n",
       "      <td>...</td>\n",
       "      <td>...</td>\n",
       "      <td>...</td>\n",
       "      <td>...</td>\n",
       "      <td>...</td>\n",
       "      <td>...</td>\n",
       "      <td>...</td>\n",
       "      <td>...</td>\n",
       "      <td>...</td>\n",
       "      <td>...</td>\n",
       "      <td>...</td>\n",
       "      <td>...</td>\n",
       "      <td>...</td>\n",
       "      <td>...</td>\n",
       "      <td>...</td>\n",
       "      <td>...</td>\n",
       "      <td>...</td>\n",
       "      <td>...</td>\n",
       "      <td>...</td>\n",
       "      <td>...</td>\n",
       "      <td>...</td>\n",
       "      <td>...</td>\n",
       "      <td>...</td>\n",
       "      <td>...</td>\n",
       "      <td>...</td>\n",
       "      <td>...</td>\n",
       "      <td>...</td>\n",
       "      <td>...</td>\n",
       "      <td>...</td>\n",
       "      <td>...</td>\n",
       "      <td>...</td>\n",
       "      <td>...</td>\n",
       "      <td>...</td>\n",
       "      <td>...</td>\n",
       "      <td>...</td>\n",
       "      <td>...</td>\n",
       "      <td>...</td>\n",
       "      <td>...</td>\n",
       "      <td>...</td>\n",
       "      <td>...</td>\n",
       "      <td>...</td>\n",
       "      <td>...</td>\n",
       "      <td>...</td>\n",
       "      <td>...</td>\n",
       "      <td>...</td>\n",
       "      <td>...</td>\n",
       "      <td>...</td>\n",
       "      <td>...</td>\n",
       "      <td>...</td>\n",
       "      <td>...</td>\n",
       "      <td>...</td>\n",
       "      <td>...</td>\n",
       "      <td>...</td>\n",
       "      <td>...</td>\n",
       "      <td>...</td>\n",
       "      <td>...</td>\n",
       "      <td>...</td>\n",
       "      <td>...</td>\n",
       "      <td>...</td>\n",
       "    </tr>\n",
       "    <tr>\n",
       "      <th>12374</th>\n",
       "      <td>10</td>\n",
       "      <td>31250</td>\n",
       "      <td>1</td>\n",
       "      <td>8</td>\n",
       "      <td>55</td>\n",
       "      <td>0</td>\n",
       "      <td>0</td>\n",
       "      <td>0</td>\n",
       "      <td>0</td>\n",
       "      <td>3</td>\n",
       "      <td>1</td>\n",
       "      <td>1</td>\n",
       "      <td>1</td>\n",
       "      <td>1</td>\n",
       "      <td>89</td>\n",
       "      <td>0</td>\n",
       "      <td>22</td>\n",
       "      <td>0</td>\n",
       "      <td>2</td>\n",
       "      <td>0.0</td>\n",
       "      <td>1.0</td>\n",
       "      <td>0.0</td>\n",
       "      <td>0.0</td>\n",
       "      <td>1.0</td>\n",
       "      <td>0.0</td>\n",
       "      <td>1.0</td>\n",
       "      <td>0.0</td>\n",
       "      <td>0.0</td>\n",
       "      <td>0.0</td>\n",
       "      <td>0.0</td>\n",
       "      <td>1.0</td>\n",
       "      <td>0.0</td>\n",
       "      <td>1.0</td>\n",
       "      <td>0.0</td>\n",
       "      <td>0.0</td>\n",
       "      <td>0.0</td>\n",
       "      <td>0.0</td>\n",
       "      <td>0.0</td>\n",
       "      <td>0.0</td>\n",
       "      <td>1.0</td>\n",
       "      <td>0.0</td>\n",
       "      <td>0.0</td>\n",
       "      <td>0.0</td>\n",
       "      <td>0.0</td>\n",
       "      <td>0.0</td>\n",
       "      <td>0.0</td>\n",
       "      <td>0.0</td>\n",
       "      <td>0.0</td>\n",
       "      <td>0.0</td>\n",
       "      <td>0.0</td>\n",
       "      <td>0.0</td>\n",
       "      <td>0.0</td>\n",
       "      <td>0.0</td>\n",
       "      <td>0.0</td>\n",
       "      <td>0.0</td>\n",
       "      <td>0.0</td>\n",
       "      <td>0.0</td>\n",
       "      <td>0.0</td>\n",
       "      <td>0.0</td>\n",
       "      <td>0.0</td>\n",
       "      <td>0.0</td>\n",
       "      <td>0.0</td>\n",
       "      <td>1.0</td>\n",
       "      <td>0.0</td>\n",
       "      <td>0.0</td>\n",
       "      <td>0.0</td>\n",
       "    </tr>\n",
       "    <tr>\n",
       "      <th>12375</th>\n",
       "      <td>48</td>\n",
       "      <td>31250</td>\n",
       "      <td>6</td>\n",
       "      <td>0</td>\n",
       "      <td>21</td>\n",
       "      <td>0</td>\n",
       "      <td>2</td>\n",
       "      <td>0</td>\n",
       "      <td>0</td>\n",
       "      <td>3</td>\n",
       "      <td>1</td>\n",
       "      <td>1</td>\n",
       "      <td>1</td>\n",
       "      <td>2</td>\n",
       "      <td>67</td>\n",
       "      <td>0</td>\n",
       "      <td>18</td>\n",
       "      <td>0</td>\n",
       "      <td>1</td>\n",
       "      <td>0.0</td>\n",
       "      <td>1.0</td>\n",
       "      <td>0.0</td>\n",
       "      <td>0.0</td>\n",
       "      <td>1.0</td>\n",
       "      <td>0.0</td>\n",
       "      <td>0.0</td>\n",
       "      <td>1.0</td>\n",
       "      <td>0.0</td>\n",
       "      <td>0.0</td>\n",
       "      <td>1.0</td>\n",
       "      <td>0.0</td>\n",
       "      <td>0.0</td>\n",
       "      <td>0.0</td>\n",
       "      <td>0.0</td>\n",
       "      <td>1.0</td>\n",
       "      <td>0.0</td>\n",
       "      <td>0.0</td>\n",
       "      <td>0.0</td>\n",
       "      <td>0.0</td>\n",
       "      <td>0.0</td>\n",
       "      <td>1.0</td>\n",
       "      <td>0.0</td>\n",
       "      <td>0.0</td>\n",
       "      <td>0.0</td>\n",
       "      <td>0.0</td>\n",
       "      <td>0.0</td>\n",
       "      <td>0.0</td>\n",
       "      <td>0.0</td>\n",
       "      <td>0.0</td>\n",
       "      <td>0.0</td>\n",
       "      <td>0.0</td>\n",
       "      <td>0.0</td>\n",
       "      <td>0.0</td>\n",
       "      <td>0.0</td>\n",
       "      <td>0.0</td>\n",
       "      <td>0.0</td>\n",
       "      <td>0.0</td>\n",
       "      <td>0.0</td>\n",
       "      <td>1.0</td>\n",
       "      <td>0.0</td>\n",
       "      <td>0.0</td>\n",
       "      <td>0.0</td>\n",
       "      <td>0.0</td>\n",
       "      <td>0.0</td>\n",
       "      <td>0.0</td>\n",
       "      <td>0.0</td>\n",
       "    </tr>\n",
       "    <tr>\n",
       "      <th>12376</th>\n",
       "      <td>10</td>\n",
       "      <td>93750</td>\n",
       "      <td>6</td>\n",
       "      <td>8</td>\n",
       "      <td>31</td>\n",
       "      <td>0</td>\n",
       "      <td>2</td>\n",
       "      <td>0</td>\n",
       "      <td>1</td>\n",
       "      <td>5</td>\n",
       "      <td>1</td>\n",
       "      <td>2</td>\n",
       "      <td>0</td>\n",
       "      <td>2</td>\n",
       "      <td>89</td>\n",
       "      <td>8</td>\n",
       "      <td>18</td>\n",
       "      <td>1</td>\n",
       "      <td>3</td>\n",
       "      <td>1.0</td>\n",
       "      <td>0.0</td>\n",
       "      <td>0.0</td>\n",
       "      <td>0.0</td>\n",
       "      <td>1.0</td>\n",
       "      <td>0.0</td>\n",
       "      <td>1.0</td>\n",
       "      <td>0.0</td>\n",
       "      <td>0.0</td>\n",
       "      <td>1.0</td>\n",
       "      <td>0.0</td>\n",
       "      <td>0.0</td>\n",
       "      <td>0.0</td>\n",
       "      <td>1.0</td>\n",
       "      <td>0.0</td>\n",
       "      <td>0.0</td>\n",
       "      <td>0.0</td>\n",
       "      <td>0.0</td>\n",
       "      <td>0.0</td>\n",
       "      <td>1.0</td>\n",
       "      <td>0.0</td>\n",
       "      <td>0.0</td>\n",
       "      <td>0.0</td>\n",
       "      <td>0.0</td>\n",
       "      <td>0.0</td>\n",
       "      <td>0.0</td>\n",
       "      <td>0.0</td>\n",
       "      <td>0.0</td>\n",
       "      <td>0.0</td>\n",
       "      <td>0.0</td>\n",
       "      <td>0.0</td>\n",
       "      <td>0.0</td>\n",
       "      <td>0.0</td>\n",
       "      <td>0.0</td>\n",
       "      <td>0.0</td>\n",
       "      <td>0.0</td>\n",
       "      <td>0.0</td>\n",
       "      <td>1.0</td>\n",
       "      <td>0.0</td>\n",
       "      <td>0.0</td>\n",
       "      <td>0.0</td>\n",
       "      <td>0.0</td>\n",
       "      <td>0.0</td>\n",
       "      <td>0.0</td>\n",
       "      <td>0.0</td>\n",
       "      <td>0.0</td>\n",
       "      <td>0.0</td>\n",
       "    </tr>\n",
       "    <tr>\n",
       "      <th>12377</th>\n",
       "      <td>10</td>\n",
       "      <td>18750</td>\n",
       "      <td>6</td>\n",
       "      <td>1</td>\n",
       "      <td>26</td>\n",
       "      <td>0</td>\n",
       "      <td>0</td>\n",
       "      <td>0</td>\n",
       "      <td>1</td>\n",
       "      <td>5</td>\n",
       "      <td>0</td>\n",
       "      <td>6</td>\n",
       "      <td>0</td>\n",
       "      <td>1</td>\n",
       "      <td>89</td>\n",
       "      <td>1</td>\n",
       "      <td>7</td>\n",
       "      <td>0</td>\n",
       "      <td>2</td>\n",
       "      <td>0.0</td>\n",
       "      <td>1.0</td>\n",
       "      <td>0.0</td>\n",
       "      <td>0.0</td>\n",
       "      <td>0.0</td>\n",
       "      <td>1.0</td>\n",
       "      <td>0.0</td>\n",
       "      <td>1.0</td>\n",
       "      <td>0.0</td>\n",
       "      <td>1.0</td>\n",
       "      <td>0.0</td>\n",
       "      <td>0.0</td>\n",
       "      <td>0.0</td>\n",
       "      <td>1.0</td>\n",
       "      <td>0.0</td>\n",
       "      <td>0.0</td>\n",
       "      <td>0.0</td>\n",
       "      <td>1.0</td>\n",
       "      <td>0.0</td>\n",
       "      <td>0.0</td>\n",
       "      <td>0.0</td>\n",
       "      <td>0.0</td>\n",
       "      <td>0.0</td>\n",
       "      <td>0.0</td>\n",
       "      <td>0.0</td>\n",
       "      <td>0.0</td>\n",
       "      <td>0.0</td>\n",
       "      <td>0.0</td>\n",
       "      <td>0.0</td>\n",
       "      <td>0.0</td>\n",
       "      <td>0.0</td>\n",
       "      <td>0.0</td>\n",
       "      <td>0.0</td>\n",
       "      <td>0.0</td>\n",
       "      <td>0.0</td>\n",
       "      <td>0.0</td>\n",
       "      <td>0.0</td>\n",
       "      <td>0.0</td>\n",
       "      <td>0.0</td>\n",
       "      <td>0.0</td>\n",
       "      <td>0.0</td>\n",
       "      <td>0.0</td>\n",
       "      <td>0.0</td>\n",
       "      <td>0.0</td>\n",
       "      <td>1.0</td>\n",
       "      <td>0.0</td>\n",
       "      <td>0.0</td>\n",
       "    </tr>\n",
       "    <tr>\n",
       "      <th>12378</th>\n",
       "      <td>48</td>\n",
       "      <td>43750</td>\n",
       "      <td>2</td>\n",
       "      <td>1</td>\n",
       "      <td>16</td>\n",
       "      <td>1</td>\n",
       "      <td>1</td>\n",
       "      <td>0</td>\n",
       "      <td>1</td>\n",
       "      <td>4</td>\n",
       "      <td>0</td>\n",
       "      <td>6</td>\n",
       "      <td>0</td>\n",
       "      <td>0</td>\n",
       "      <td>67</td>\n",
       "      <td>1</td>\n",
       "      <td>7</td>\n",
       "      <td>1</td>\n",
       "      <td>2</td>\n",
       "      <td>1.0</td>\n",
       "      <td>0.0</td>\n",
       "      <td>0.0</td>\n",
       "      <td>1.0</td>\n",
       "      <td>0.0</td>\n",
       "      <td>0.0</td>\n",
       "      <td>1.0</td>\n",
       "      <td>0.0</td>\n",
       "      <td>0.0</td>\n",
       "      <td>0.0</td>\n",
       "      <td>0.0</td>\n",
       "      <td>1.0</td>\n",
       "      <td>0.0</td>\n",
       "      <td>1.0</td>\n",
       "      <td>0.0</td>\n",
       "      <td>0.0</td>\n",
       "      <td>0.0</td>\n",
       "      <td>0.0</td>\n",
       "      <td>1.0</td>\n",
       "      <td>0.0</td>\n",
       "      <td>0.0</td>\n",
       "      <td>0.0</td>\n",
       "      <td>0.0</td>\n",
       "      <td>0.0</td>\n",
       "      <td>0.0</td>\n",
       "      <td>0.0</td>\n",
       "      <td>0.0</td>\n",
       "      <td>0.0</td>\n",
       "      <td>0.0</td>\n",
       "      <td>0.0</td>\n",
       "      <td>0.0</td>\n",
       "      <td>0.0</td>\n",
       "      <td>0.0</td>\n",
       "      <td>0.0</td>\n",
       "      <td>0.0</td>\n",
       "      <td>0.0</td>\n",
       "      <td>0.0</td>\n",
       "      <td>1.0</td>\n",
       "      <td>0.0</td>\n",
       "      <td>0.0</td>\n",
       "      <td>0.0</td>\n",
       "      <td>0.0</td>\n",
       "      <td>0.0</td>\n",
       "      <td>0.0</td>\n",
       "      <td>0.0</td>\n",
       "      <td>0.0</td>\n",
       "      <td>0.0</td>\n",
       "    </tr>\n",
       "  </tbody>\n",
       "</table>\n",
       "<p>12379 rows × 66 columns</p>\n",
       "</div>"
      ],
      "text/plain": [
       "       offer expiration  income_range  no_visited_Cold drinks  \\\n",
       "0                    48        125000                       6   \n",
       "1                    48         93750                       6   \n",
       "2                    48         93750                       1   \n",
       "3                    10         43750                       1   \n",
       "4                    48        125000                       0   \n",
       "...                 ...           ...                     ...   \n",
       "12374                10         31250                       1   \n",
       "12375                48         31250                       6   \n",
       "12376                10         93750                       6   \n",
       "12377                10         18750                       6   \n",
       "12378                48         43750                       2   \n",
       "\n",
       "       Restaur_spend_less_than20  age  Prefer western over chinese  \\\n",
       "0                              1   36                            0   \n",
       "1                              6   55                            0   \n",
       "2                              2   26                            1   \n",
       "3                              2   46                            1   \n",
       "4                              2   21                            0   \n",
       "...                          ...  ...                          ...   \n",
       "12374                          8   55                            0   \n",
       "12375                          0   21                            0   \n",
       "12376                          8   31                            0   \n",
       "12377                          1   26                            0   \n",
       "12378                          1   16                            1   \n",
       "\n",
       "       no_visited_bars  restuarant_same_direction_house  Cooks regularly  \\\n",
       "0                    1                                0                1   \n",
       "1                    0                                1                1   \n",
       "2                    0                                1                0   \n",
       "3                    0                                1                0   \n",
       "4                    1                                0                0   \n",
       "...                ...                              ...              ...   \n",
       "12374                0                                0                0   \n",
       "12375                2                                0                0   \n",
       "12376                2                                0                1   \n",
       "12377                0                                0                1   \n",
       "12378                1                                0                1   \n",
       "\n",
       "       Qualification  is foodie  no_Take-aways  has Children  \\\n",
       "0                  5          0              2             0   \n",
       "1                  5          0              2             1   \n",
       "2                  5          1              2             1   \n",
       "3                  3          1              2             1   \n",
       "4                  3          1              8             0   \n",
       "...              ...        ...            ...           ...   \n",
       "12374              3          1              1             1   \n",
       "12375              3          1              1             1   \n",
       "12376              5          1              2             0   \n",
       "12377              5          0              6             0   \n",
       "12378              4          0              6             0   \n",
       "\n",
       "       visit restaurant with rating (avg)  temperature  \\\n",
       "0                                       4           67   \n",
       "1                                       3           89   \n",
       "2                                       4           67   \n",
       "3                                       3           89   \n",
       "4                                       3           40   \n",
       "...                                   ...          ...   \n",
       "12374                                   1           89   \n",
       "12375                                   2           67   \n",
       "12376                                   2           89   \n",
       "12377                                   1           89   \n",
       "12378                                   0           67   \n",
       "\n",
       "       Restaur_spend_greater_than20  Travel Time  Prefer home food  \\\n",
       "0                                 1           22                 0   \n",
       "1                                 2           18                 0   \n",
       "2                                 1            7                 1   \n",
       "3                                 2            7                 0   \n",
       "4                                 1            7                 0   \n",
       "...                             ...          ...               ...   \n",
       "12374                             0           22                 0   \n",
       "12375                             0           18                 0   \n",
       "12376                             8           18                 1   \n",
       "12377                             1            7                 0   \n",
       "12378                             1            7                 1   \n",
       "\n",
       "       travel_time_for_offer  Climate_Spring  Climate_Summer  Climate_Winter  \\\n",
       "0                          2             1.0             0.0             0.0   \n",
       "1                          1             0.0             1.0             0.0   \n",
       "2                          2             0.0             0.0             1.0   \n",
       "3                          1             0.0             1.0             0.0   \n",
       "4                          3             0.0             1.0             0.0   \n",
       "...                      ...             ...             ...             ...   \n",
       "12374                      2             0.0             1.0             0.0   \n",
       "12375                      1             0.0             1.0             0.0   \n",
       "12376                      3             1.0             0.0             0.0   \n",
       "12377                      2             0.0             1.0             0.0   \n",
       "12378                      2             1.0             0.0             0.0   \n",
       "\n",
       "       drop location_Location A  drop location_Location B  \\\n",
       "0                           0.0                       1.0   \n",
       "1                           0.0                       1.0   \n",
       "2                           1.0                       0.0   \n",
       "3                           0.0                       0.0   \n",
       "4                           0.0                       0.0   \n",
       "...                         ...                       ...   \n",
       "12374                       0.0                       1.0   \n",
       "12375                       0.0                       1.0   \n",
       "12376                       0.0                       1.0   \n",
       "12377                       0.0                       0.0   \n",
       "12378                       1.0                       0.0   \n",
       "\n",
       "       drop location_Location C  gender_Female  gender_Male  \\\n",
       "0                           0.0            1.0          0.0   \n",
       "1                           0.0            1.0          0.0   \n",
       "2                           0.0            1.0          0.0   \n",
       "3                           1.0            0.0          1.0   \n",
       "4                           1.0            1.0          0.0   \n",
       "...                         ...            ...          ...   \n",
       "12374                       0.0            1.0          0.0   \n",
       "12375                       0.0            0.0          1.0   \n",
       "12376                       0.0            1.0          0.0   \n",
       "12377                       1.0            0.0          1.0   \n",
       "12378                       0.0            1.0          0.0   \n",
       "\n",
       "       Marital Status_Divorced  Marital Status_Married partner  \\\n",
       "0                          0.0                             1.0   \n",
       "1                          0.0                             1.0   \n",
       "2                          0.0                             0.0   \n",
       "3                          0.0                             0.0   \n",
       "4                          0.0                             0.0   \n",
       "...                        ...                             ...   \n",
       "12374                      0.0                             0.0   \n",
       "12375                      0.0                             0.0   \n",
       "12376                      0.0                             1.0   \n",
       "12377                      0.0                             1.0   \n",
       "12378                      0.0                             0.0   \n",
       "\n",
       "       Marital Status_Single  Marital Status_Unmarried partner  \\\n",
       "0                        0.0                               0.0   \n",
       "1                        0.0                               0.0   \n",
       "2                        1.0                               0.0   \n",
       "3                        1.0                               0.0   \n",
       "4                        1.0                               0.0   \n",
       "...                      ...                               ...   \n",
       "12374                    0.0                               1.0   \n",
       "12375                    1.0                               0.0   \n",
       "12376                    0.0                               0.0   \n",
       "12377                    0.0                               0.0   \n",
       "12378                    0.0                               1.0   \n",
       "\n",
       "       Marital Status_Widowed  Customer type_Individual  \\\n",
       "0                         0.0                       1.0   \n",
       "1                         0.0                       1.0   \n",
       "2                         0.0                       1.0   \n",
       "3                         0.0                       1.0   \n",
       "4                         0.0                       1.0   \n",
       "...                       ...                       ...   \n",
       "12374                     0.0                       1.0   \n",
       "12375                     0.0                       0.0   \n",
       "12376                     0.0                       1.0   \n",
       "12377                     0.0                       1.0   \n",
       "12378                     0.0                       1.0   \n",
       "\n",
       "       Customer type_With Colleagues  Customer type_With Family  \\\n",
       "0                                0.0                        0.0   \n",
       "1                                0.0                        0.0   \n",
       "2                                0.0                        0.0   \n",
       "3                                0.0                        0.0   \n",
       "4                                0.0                        0.0   \n",
       "...                              ...                        ...   \n",
       "12374                            0.0                        0.0   \n",
       "12375                            0.0                        1.0   \n",
       "12376                            0.0                        0.0   \n",
       "12377                            0.0                        0.0   \n",
       "12378                            0.0                        0.0   \n",
       "\n",
       "       Customer type_With Kids  restaurant type_2 star restaurant  \\\n",
       "0                          0.0                                0.0   \n",
       "1                          0.0                                0.0   \n",
       "2                          0.0                                0.0   \n",
       "3                          0.0                                0.0   \n",
       "4                          0.0                                0.0   \n",
       "...                        ...                                ...   \n",
       "12374                      0.0                                0.0   \n",
       "12375                      0.0                                0.0   \n",
       "12376                      0.0                                0.0   \n",
       "12377                      0.0                                1.0   \n",
       "12378                      0.0                                0.0   \n",
       "\n",
       "       restaurant type_4 star restaurant  restaurant type_Cold drinks  \\\n",
       "0                                    1.0                          0.0   \n",
       "1                                    0.0                          0.0   \n",
       "2                                    0.0                          1.0   \n",
       "3                                    0.0                          0.0   \n",
       "4                                    1.0                          0.0   \n",
       "...                                  ...                          ...   \n",
       "12374                                0.0                          0.0   \n",
       "12375                                0.0                          0.0   \n",
       "12376                                0.0                          1.0   \n",
       "12377                                0.0                          0.0   \n",
       "12378                                1.0                          0.0   \n",
       "\n",
       "       restaurant type_Restaurant with pub  \\\n",
       "0                                      0.0   \n",
       "1                                      0.0   \n",
       "2                                      0.0   \n",
       "3                                      0.0   \n",
       "4                                      0.0   \n",
       "...                                    ...   \n",
       "12374                                  1.0   \n",
       "12375                                  0.0   \n",
       "12376                                  0.0   \n",
       "12377                                  0.0   \n",
       "12378                                  0.0   \n",
       "\n",
       "       restaurant type_Take-away restaurant  \\\n",
       "0                                       0.0   \n",
       "1                                       1.0   \n",
       "2                                       0.0   \n",
       "3                                       1.0   \n",
       "4                                       0.0   \n",
       "...                                     ...   \n",
       "12374                                   0.0   \n",
       "12375                                   1.0   \n",
       "12376                                   0.0   \n",
       "12377                                   0.0   \n",
       "12378                                   0.0   \n",
       "\n",
       "       Job/Job Industry_Architecture & Engineering  \\\n",
       "0                                              0.0   \n",
       "1                                              0.0   \n",
       "2                                              0.0   \n",
       "3                                              0.0   \n",
       "4                                              0.0   \n",
       "...                                            ...   \n",
       "12374                                          0.0   \n",
       "12375                                          0.0   \n",
       "12376                                          0.0   \n",
       "12377                                          0.0   \n",
       "12378                                          0.0   \n",
       "\n",
       "       Job/Job Industry_Arts Design Entertainment Sports & Media  \\\n",
       "0                                                    0.0           \n",
       "1                                                    0.0           \n",
       "2                                                    1.0           \n",
       "3                                                    0.0           \n",
       "4                                                    0.0           \n",
       "...                                                  ...           \n",
       "12374                                                0.0           \n",
       "12375                                                0.0           \n",
       "12376                                                0.0           \n",
       "12377                                                0.0           \n",
       "12378                                                0.0           \n",
       "\n",
       "       Job/Job Industry_Building & Grounds Cleaning & Maintenance  \\\n",
       "0                                                    0.0            \n",
       "1                                                    0.0            \n",
       "2                                                    0.0            \n",
       "3                                                    0.0            \n",
       "4                                                    0.0            \n",
       "...                                                  ...            \n",
       "12374                                                0.0            \n",
       "12375                                                0.0            \n",
       "12376                                                0.0            \n",
       "12377                                                0.0            \n",
       "12378                                                0.0            \n",
       "\n",
       "       Job/Job Industry_Business & Financial  \\\n",
       "0                                        0.0   \n",
       "1                                        0.0   \n",
       "2                                        0.0   \n",
       "3                                        0.0   \n",
       "4                                        0.0   \n",
       "...                                      ...   \n",
       "12374                                    0.0   \n",
       "12375                                    0.0   \n",
       "12376                                    0.0   \n",
       "12377                                    0.0   \n",
       "12378                                    0.0   \n",
       "\n",
       "       Job/Job Industry_Community & Social Services  \\\n",
       "0                                               0.0   \n",
       "1                                               0.0   \n",
       "2                                               0.0   \n",
       "3                                               0.0   \n",
       "4                                               0.0   \n",
       "...                                             ...   \n",
       "12374                                           0.0   \n",
       "12375                                           0.0   \n",
       "12376                                           0.0   \n",
       "12377                                           0.0   \n",
       "12378                                           0.0   \n",
       "\n",
       "       Job/Job Industry_Computer & Mathematical  \\\n",
       "0                                           0.0   \n",
       "1                                           0.0   \n",
       "2                                           0.0   \n",
       "3                                           0.0   \n",
       "4                                           0.0   \n",
       "...                                         ...   \n",
       "12374                                       0.0   \n",
       "12375                                       0.0   \n",
       "12376                                       0.0   \n",
       "12377                                       0.0   \n",
       "12378                                       0.0   \n",
       "\n",
       "       Job/Job Industry_Construction & Extraction  \\\n",
       "0                                             0.0   \n",
       "1                                             0.0   \n",
       "2                                             0.0   \n",
       "3                                             0.0   \n",
       "4                                             0.0   \n",
       "...                                           ...   \n",
       "12374                                         0.0   \n",
       "12375                                         0.0   \n",
       "12376                                         0.0   \n",
       "12377                                         0.0   \n",
       "12378                                         0.0   \n",
       "\n",
       "       Job/Job Industry_Education&Training&Library  \\\n",
       "0                                              0.0   \n",
       "1                                              0.0   \n",
       "2                                              0.0   \n",
       "3                                              0.0   \n",
       "4                                              0.0   \n",
       "...                                            ...   \n",
       "12374                                          0.0   \n",
       "12375                                          0.0   \n",
       "12376                                          0.0   \n",
       "12377                                          0.0   \n",
       "12378                                          0.0   \n",
       "\n",
       "       Job/Job Industry_Farming Fishing & Forestry  \\\n",
       "0                                              0.0   \n",
       "1                                              0.0   \n",
       "2                                              0.0   \n",
       "3                                              0.0   \n",
       "4                                              0.0   \n",
       "...                                            ...   \n",
       "12374                                          0.0   \n",
       "12375                                          0.0   \n",
       "12376                                          0.0   \n",
       "12377                                          0.0   \n",
       "12378                                          0.0   \n",
       "\n",
       "       Job/Job Industry_Food Preparation & Serving Related  \\\n",
       "0                                                    0.0     \n",
       "1                                                    0.0     \n",
       "2                                                    0.0     \n",
       "3                                                    0.0     \n",
       "4                                                    0.0     \n",
       "...                                                  ...     \n",
       "12374                                                0.0     \n",
       "12375                                                0.0     \n",
       "12376                                                0.0     \n",
       "12377                                                0.0     \n",
       "12378                                                0.0     \n",
       "\n",
       "       Job/Job Industry_Healthcare Practitioners & Technical  \\\n",
       "0                                                    0.0       \n",
       "1                                                    0.0       \n",
       "2                                                    0.0       \n",
       "3                                                    0.0       \n",
       "4                                                    0.0       \n",
       "...                                                  ...       \n",
       "12374                                                0.0       \n",
       "12375                                                0.0       \n",
       "12376                                                0.0       \n",
       "12377                                                0.0       \n",
       "12378                                                0.0       \n",
       "\n",
       "       Job/Job Industry_Healthcare Support  \\\n",
       "0                                      0.0   \n",
       "1                                      0.0   \n",
       "2                                      0.0   \n",
       "3                                      0.0   \n",
       "4                                      0.0   \n",
       "...                                    ...   \n",
       "12374                                  0.0   \n",
       "12375                                  0.0   \n",
       "12376                                  0.0   \n",
       "12377                                  0.0   \n",
       "12378                                  0.0   \n",
       "\n",
       "       Job/Job Industry_Installation Maintenance & Repair  \\\n",
       "0                                                    0.0    \n",
       "1                                                    0.0    \n",
       "2                                                    0.0    \n",
       "3                                                    0.0    \n",
       "4                                                    0.0    \n",
       "...                                                  ...    \n",
       "12374                                                0.0    \n",
       "12375                                                0.0    \n",
       "12376                                                0.0    \n",
       "12377                                                0.0    \n",
       "12378                                                0.0    \n",
       "\n",
       "       Job/Job Industry_Legal  Job/Job Industry_Life Physical Social Science  \\\n",
       "0                         0.0                                            0.0   \n",
       "1                         0.0                                            0.0   \n",
       "2                         0.0                                            0.0   \n",
       "3                         0.0                                            0.0   \n",
       "4                         0.0                                            0.0   \n",
       "...                       ...                                            ...   \n",
       "12374                     0.0                                            0.0   \n",
       "12375                     0.0                                            0.0   \n",
       "12376                     0.0                                            0.0   \n",
       "12377                     0.0                                            0.0   \n",
       "12378                     0.0                                            0.0   \n",
       "\n",
       "       Job/Job Industry_Management  \\\n",
       "0                              0.0   \n",
       "1                              0.0   \n",
       "2                              0.0   \n",
       "3                              0.0   \n",
       "4                              0.0   \n",
       "...                            ...   \n",
       "12374                          0.0   \n",
       "12375                          0.0   \n",
       "12376                          1.0   \n",
       "12377                          0.0   \n",
       "12378                          1.0   \n",
       "\n",
       "       Job/Job Industry_Office & Administrative Support  \\\n",
       "0                                                   0.0   \n",
       "1                                                   0.0   \n",
       "2                                                   0.0   \n",
       "3                                                   0.0   \n",
       "4                                                   0.0   \n",
       "...                                                 ...   \n",
       "12374                                               0.0   \n",
       "12375                                               0.0   \n",
       "12376                                               0.0   \n",
       "12377                                               0.0   \n",
       "12378                                               0.0   \n",
       "\n",
       "       Job/Job Industry_Personal Care & Service  \\\n",
       "0                                           0.0   \n",
       "1                                           0.0   \n",
       "2                                           0.0   \n",
       "3                                           0.0   \n",
       "4                                           0.0   \n",
       "...                                         ...   \n",
       "12374                                       0.0   \n",
       "12375                                       1.0   \n",
       "12376                                       0.0   \n",
       "12377                                       0.0   \n",
       "12378                                       0.0   \n",
       "\n",
       "       Job/Job Industry_Production Occupations  \\\n",
       "0                                          0.0   \n",
       "1                                          0.0   \n",
       "2                                          0.0   \n",
       "3                                          0.0   \n",
       "4                                          0.0   \n",
       "...                                        ...   \n",
       "12374                                      0.0   \n",
       "12375                                      0.0   \n",
       "12376                                      0.0   \n",
       "12377                                      0.0   \n",
       "12378                                      0.0   \n",
       "\n",
       "       Job/Job Industry_Protective Service  Job/Job Industry_Retired  \\\n",
       "0                                      0.0                       0.0   \n",
       "1                                      0.0                       0.0   \n",
       "2                                      0.0                       0.0   \n",
       "3                                      0.0                       0.0   \n",
       "4                                      0.0                       0.0   \n",
       "...                                    ...                       ...   \n",
       "12374                                  0.0                       0.0   \n",
       "12375                                  0.0                       0.0   \n",
       "12376                                  0.0                       0.0   \n",
       "12377                                  0.0                       0.0   \n",
       "12378                                  0.0                       0.0   \n",
       "\n",
       "       Job/Job Industry_Sales & Related  Job/Job Industry_Student  \\\n",
       "0                                   0.0                       0.0   \n",
       "1                                   0.0                       0.0   \n",
       "2                                   0.0                       0.0   \n",
       "3                                   1.0                       0.0   \n",
       "4                                   1.0                       0.0   \n",
       "...                                 ...                       ...   \n",
       "12374                               1.0                       0.0   \n",
       "12375                               0.0                       0.0   \n",
       "12376                               0.0                       0.0   \n",
       "12377                               0.0                       1.0   \n",
       "12378                               0.0                       0.0   \n",
       "\n",
       "       Job/Job Industry_Transportation & Material Moving  \\\n",
       "0                                                    0.0   \n",
       "1                                                    0.0   \n",
       "2                                                    0.0   \n",
       "3                                                    0.0   \n",
       "4                                                    0.0   \n",
       "...                                                  ...   \n",
       "12374                                                0.0   \n",
       "12375                                                0.0   \n",
       "12376                                                0.0   \n",
       "12377                                                0.0   \n",
       "12378                                                0.0   \n",
       "\n",
       "       Job/Job Industry_Unemployed  \n",
       "0                              1.0  \n",
       "1                              1.0  \n",
       "2                              0.0  \n",
       "3                              0.0  \n",
       "4                              0.0  \n",
       "...                            ...  \n",
       "12374                          0.0  \n",
       "12375                          0.0  \n",
       "12376                          0.0  \n",
       "12377                          0.0  \n",
       "12378                          0.0  \n",
       "\n",
       "[12379 rows x 66 columns]"
      ]
     },
     "execution_count": 70,
     "metadata": {},
     "output_type": "execute_result"
    }
   ],
   "source": [
    "X"
   ]
  },
  {
   "cell_type": "code",
   "execution_count": 71,
   "id": "5003878a",
   "metadata": {
    "execution": {
     "iopub.execute_input": "2022-12-18T22:28:35.334211Z",
     "iopub.status.busy": "2022-12-18T22:28:35.333812Z",
     "iopub.status.idle": "2022-12-18T22:28:35.656765Z",
     "shell.execute_reply": "2022-12-18T22:28:35.655502Z"
    },
    "papermill": {
     "duration": 0.358595,
     "end_time": "2022-12-18T22:28:35.659417",
     "exception": false,
     "start_time": "2022-12-18T22:28:35.300822",
     "status": "completed"
    },
    "tags": []
   },
   "outputs": [],
   "source": [
    "from imblearn.over_sampling import RandomOverSampler"
   ]
  },
  {
   "cell_type": "code",
   "execution_count": 72,
   "id": "96a5dea6",
   "metadata": {
    "execution": {
     "iopub.execute_input": "2022-12-18T22:28:35.726449Z",
     "iopub.status.busy": "2022-12-18T22:28:35.726043Z",
     "iopub.status.idle": "2022-12-18T22:28:35.760511Z",
     "shell.execute_reply": "2022-12-18T22:28:35.759532Z"
    },
    "papermill": {
     "duration": 0.070263,
     "end_time": "2022-12-18T22:28:35.762297",
     "exception": false,
     "start_time": "2022-12-18T22:28:35.692034",
     "status": "completed"
    },
    "tags": []
   },
   "outputs": [
    {
     "data": {
      "text/plain": [
       "(13988, 66)"
      ]
     },
     "execution_count": 72,
     "metadata": {},
     "output_type": "execute_result"
    }
   ],
   "source": [
    "ros = RandomOverSampler()\n",
    "X_ros, y_ros = ros.fit_resample(X, y)\n",
    "X_ros.shape"
   ]
  },
  {
   "cell_type": "code",
   "execution_count": 73,
   "id": "1d9d2269",
   "metadata": {
    "execution": {
     "iopub.execute_input": "2022-12-18T22:28:35.827892Z",
     "iopub.status.busy": "2022-12-18T22:28:35.827549Z",
     "iopub.status.idle": "2022-12-18T22:28:35.834611Z",
     "shell.execute_reply": "2022-12-18T22:28:35.833843Z"
    },
    "papermill": {
     "duration": 0.042037,
     "end_time": "2022-12-18T22:28:35.836244",
     "exception": false,
     "start_time": "2022-12-18T22:28:35.794207",
     "status": "completed"
    },
    "tags": []
   },
   "outputs": [
    {
     "data": {
      "text/plain": [
       "1    6994\n",
       "0    5385\n",
       "Name: Offer Accepted, dtype: int64"
      ]
     },
     "execution_count": 73,
     "metadata": {},
     "output_type": "execute_result"
    }
   ],
   "source": [
    "y.value_counts()"
   ]
  },
  {
   "cell_type": "code",
   "execution_count": 74,
   "id": "6ee83e0e",
   "metadata": {
    "execution": {
     "iopub.execute_input": "2022-12-18T22:28:35.903142Z",
     "iopub.status.busy": "2022-12-18T22:28:35.902587Z",
     "iopub.status.idle": "2022-12-18T22:28:35.909093Z",
     "shell.execute_reply": "2022-12-18T22:28:35.908151Z"
    },
    "papermill": {
     "duration": 0.041556,
     "end_time": "2022-12-18T22:28:35.910825",
     "exception": false,
     "start_time": "2022-12-18T22:28:35.869269",
     "status": "completed"
    },
    "tags": []
   },
   "outputs": [
    {
     "data": {
      "text/plain": [
       "0    6994\n",
       "1    6994\n",
       "Name: Offer Accepted, dtype: int64"
      ]
     },
     "execution_count": 74,
     "metadata": {},
     "output_type": "execute_result"
    }
   ],
   "source": [
    "y_ros.value_counts()"
   ]
  },
  {
   "cell_type": "markdown",
   "id": "cd87a89e",
   "metadata": {
    "papermill": {
     "duration": 0.031703,
     "end_time": "2022-12-18T22:28:35.974740",
     "exception": false,
     "start_time": "2022-12-18T22:28:35.943037",
     "status": "completed"
    },
    "tags": []
   },
   "source": [
    "## Baseline Models"
   ]
  },
  {
   "cell_type": "code",
   "execution_count": 75,
   "id": "e18e640e",
   "metadata": {
    "execution": {
     "iopub.execute_input": "2022-12-18T22:28:36.040133Z",
     "iopub.status.busy": "2022-12-18T22:28:36.039727Z",
     "iopub.status.idle": "2022-12-18T22:28:36.044449Z",
     "shell.execute_reply": "2022-12-18T22:28:36.043091Z"
    },
    "papermill": {
     "duration": 0.040392,
     "end_time": "2022-12-18T22:28:36.046874",
     "exception": false,
     "start_time": "2022-12-18T22:28:36.006482",
     "status": "completed"
    },
    "tags": []
   },
   "outputs": [],
   "source": [
    "from sklearn.metrics import confusion_matrix\n",
    "from sklearn.metrics import classification_report"
   ]
  },
  {
   "cell_type": "code",
   "execution_count": 76,
   "id": "62222042",
   "metadata": {
    "execution": {
     "iopub.execute_input": "2022-12-18T22:28:36.112945Z",
     "iopub.status.busy": "2022-12-18T22:28:36.112440Z",
     "iopub.status.idle": "2022-12-18T22:28:36.125416Z",
     "shell.execute_reply": "2022-12-18T22:28:36.124224Z"
    },
    "papermill": {
     "duration": 0.048434,
     "end_time": "2022-12-18T22:28:36.127728",
     "exception": false,
     "start_time": "2022-12-18T22:28:36.079294",
     "status": "completed"
    },
    "tags": []
   },
   "outputs": [],
   "source": [
    "from sklearn.model_selection import train_test_split\n",
    "X_train,X_test,y_train,y_test=train_test_split(X,y,test_size=0.2,random_state=0)"
   ]
  },
  {
   "cell_type": "code",
   "execution_count": 77,
   "id": "7e53cdcc",
   "metadata": {
    "execution": {
     "iopub.execute_input": "2022-12-18T22:28:36.194573Z",
     "iopub.status.busy": "2022-12-18T22:28:36.193994Z",
     "iopub.status.idle": "2022-12-18T22:28:41.511144Z",
     "shell.execute_reply": "2022-12-18T22:28:41.510294Z"
    },
    "papermill": {
     "duration": 5.353425,
     "end_time": "2022-12-18T22:28:41.513782",
     "exception": false,
     "start_time": "2022-12-18T22:28:36.160357",
     "status": "completed"
    },
    "tags": []
   },
   "outputs": [
    {
     "name": "stdout",
     "output_type": "stream",
     "text": [
      "DecisionTreeClassifier(random_state=0)\n",
      "training score: 1.000\n",
      "test score: 0.554\n",
      "[[542 515]\n",
      " [590 829]]\n",
      "              precision    recall  f1-score   support\n",
      "\n",
      "           0       0.48      0.51      0.50      1057\n",
      "           1       0.62      0.58      0.60      1419\n",
      "\n",
      "    accuracy                           0.55      2476\n",
      "   macro avg       0.55      0.55      0.55      2476\n",
      "weighted avg       0.56      0.55      0.56      2476\n",
      "\n",
      "\n",
      "BaggingClassifier(random_state=0)\n",
      "training score: 0.988\n",
      "test score: 0.593\n",
      "[[610 447]\n",
      " [560 859]]\n",
      "              precision    recall  f1-score   support\n",
      "\n",
      "           0       0.52      0.58      0.55      1057\n",
      "           1       0.66      0.61      0.63      1419\n",
      "\n",
      "    accuracy                           0.59      2476\n",
      "   macro avg       0.59      0.59      0.59      2476\n",
      "weighted avg       0.60      0.59      0.60      2476\n",
      "\n",
      "\n",
      "RandomForestClassifier(random_state=0)\n",
      "training score: 1.000\n",
      "test score: 0.658\n",
      "[[ 474  583]\n",
      " [ 265 1154]]\n",
      "              precision    recall  f1-score   support\n",
      "\n",
      "           0       0.64      0.45      0.53      1057\n",
      "           1       0.66      0.81      0.73      1419\n",
      "\n",
      "    accuracy                           0.66      2476\n",
      "   macro avg       0.65      0.63      0.63      2476\n",
      "weighted avg       0.65      0.66      0.64      2476\n",
      "\n",
      "\n",
      "AdaBoostClassifier(random_state=0)\n",
      "training score: 0.618\n",
      "test score: 0.624\n",
      "[[ 437  620]\n",
      " [ 310 1109]]\n",
      "              precision    recall  f1-score   support\n",
      "\n",
      "           0       0.59      0.41      0.48      1057\n",
      "           1       0.64      0.78      0.70      1419\n",
      "\n",
      "    accuracy                           0.62      2476\n",
      "   macro avg       0.61      0.60      0.59      2476\n",
      "weighted avg       0.62      0.62      0.61      2476\n",
      "\n",
      "\n",
      "GradientBoostingClassifier(random_state=0)\n",
      "training score: 0.657\n",
      "test score: 0.645\n",
      "[[ 438  619]\n",
      " [ 260 1159]]\n",
      "              precision    recall  f1-score   support\n",
      "\n",
      "           0       0.63      0.41      0.50      1057\n",
      "           1       0.65      0.82      0.73      1419\n",
      "\n",
      "    accuracy                           0.64      2476\n",
      "   macro avg       0.64      0.62      0.61      2476\n",
      "weighted avg       0.64      0.64      0.63      2476\n",
      "\n",
      "\n"
     ]
    }
   ],
   "source": [
    "from sklearn.tree import DecisionTreeClassifier\n",
    "from sklearn.ensemble import BaggingClassifier\n",
    "from sklearn.ensemble import RandomForestClassifier\n",
    "from sklearn.ensemble import AdaBoostClassifier\n",
    "from sklearn.ensemble import GradientBoostingClassifier\n",
    "\n",
    "dtc=DecisionTreeClassifier(random_state=0)\n",
    "bc=BaggingClassifier(random_state=0)\n",
    "rfc=RandomForestClassifier(random_state=0)\n",
    "abc=AdaBoostClassifier(random_state=0)\n",
    "gbc=GradientBoostingClassifier(random_state=0)\n",
    "\n",
    "models=[dtc,bc,rfc,abc,gbc]\n",
    "\n",
    "for i in models:\n",
    "    print(i)\n",
    "    i.fit(X_train, y_train)\n",
    "    print(\"training score: %.3f\" % i.score(X_train, y_train))\n",
    "    print(\"test score: %.3f\" % i.score(X_test, y_test))\n",
    "    y_pred=i.predict(X_test)\n",
    "    print(confusion_matrix(y_test, y_pred))\n",
    "    print(classification_report(y_test, y_pred))\n",
    "    print()"
   ]
  },
  {
   "cell_type": "code",
   "execution_count": 78,
   "id": "f986c707",
   "metadata": {
    "execution": {
     "iopub.execute_input": "2022-12-18T22:28:41.580741Z",
     "iopub.status.busy": "2022-12-18T22:28:41.580419Z",
     "iopub.status.idle": "2022-12-18T22:28:41.599243Z",
     "shell.execute_reply": "2022-12-18T22:28:41.597549Z"
    },
    "papermill": {
     "duration": 0.055237,
     "end_time": "2022-12-18T22:28:41.601919",
     "exception": false,
     "start_time": "2022-12-18T22:28:41.546682",
     "status": "completed"
    },
    "tags": []
   },
   "outputs": [
    {
     "name": "stdout",
     "output_type": "stream",
     "text": [
      "(9903, 66)\n",
      "(2476, 66)\n"
     ]
    }
   ],
   "source": [
    "from sklearn.preprocessing import StandardScaler\n",
    "ss=StandardScaler()\n",
    "X_train_std=ss.fit_transform(X_train)\n",
    "X_test_std=ss.transform(X_test)\n",
    "print(X_train_std.shape)\n",
    "print(X_test_std.shape)"
   ]
  },
  {
   "cell_type": "code",
   "execution_count": 79,
   "id": "1931d6dd",
   "metadata": {
    "execution": {
     "iopub.execute_input": "2022-12-18T22:28:41.669771Z",
     "iopub.status.busy": "2022-12-18T22:28:41.669421Z",
     "iopub.status.idle": "2022-12-18T22:28:54.589381Z",
     "shell.execute_reply": "2022-12-18T22:28:54.587810Z"
    },
    "papermill": {
     "duration": 12.957475,
     "end_time": "2022-12-18T22:28:54.591929",
     "exception": false,
     "start_time": "2022-12-18T22:28:41.634454",
     "status": "completed"
    },
    "scrolled": true,
    "tags": []
   },
   "outputs": [
    {
     "name": "stdout",
     "output_type": "stream",
     "text": [
      "LogisticRegression()\n",
      "training score: 0.612\n",
      "test score: 0.605\n",
      "[[ 438  619]\n",
      " [ 260 1159]]\n",
      "              precision    recall  f1-score   support\n",
      "\n",
      "           0       0.63      0.41      0.50      1057\n",
      "           1       0.65      0.82      0.73      1419\n",
      "\n",
      "    accuracy                           0.64      2476\n",
      "   macro avg       0.64      0.62      0.61      2476\n",
      "weighted avg       0.64      0.64      0.63      2476\n",
      "\n",
      "\n",
      "SVC()\n",
      "training score: 0.747\n",
      "test score: 0.642\n",
      "[[ 438  619]\n",
      " [ 260 1159]]\n",
      "              precision    recall  f1-score   support\n",
      "\n",
      "           0       0.63      0.41      0.50      1057\n",
      "           1       0.65      0.82      0.73      1419\n",
      "\n",
      "    accuracy                           0.64      2476\n",
      "   macro avg       0.64      0.62      0.61      2476\n",
      "weighted avg       0.64      0.64      0.63      2476\n",
      "\n",
      "\n"
     ]
    }
   ],
   "source": [
    "from sklearn.linear_model import LogisticRegression\n",
    "from sklearn.svm import SVC\n",
    "\n",
    "lr=LogisticRegression()\n",
    "svm=SVC()\n",
    "\n",
    "models=[lr,svm]\n",
    "\n",
    "for model in models:\n",
    "    print(model)\n",
    "    model.fit(X_train_std, y_train)\n",
    "    print(\"training score: %.3f\" % model.score(X_train_std, y_train))\n",
    "    print(\"test score: %.3f\" % model.score(X_test_std, y_test))\n",
    "    y_pred=i.predict(X_test)\n",
    "    print(confusion_matrix(y_test, y_pred))\n",
    "    print(classification_report(y_test, y_pred))\n",
    "    print()"
   ]
  },
  {
   "cell_type": "markdown",
   "id": "b5ea8523",
   "metadata": {
    "papermill": {
     "duration": 0.032981,
     "end_time": "2022-12-18T22:28:54.657312",
     "exception": false,
     "start_time": "2022-12-18T22:28:54.624331",
     "status": "completed"
    },
    "tags": []
   },
   "source": [
    "## Hyperparameter Tuning"
   ]
  },
  {
   "cell_type": "code",
   "execution_count": 80,
   "id": "517949b7",
   "metadata": {
    "execution": {
     "iopub.execute_input": "2022-12-18T22:28:54.724669Z",
     "iopub.status.busy": "2022-12-18T22:28:54.724346Z",
     "iopub.status.idle": "2022-12-18T22:28:54.729656Z",
     "shell.execute_reply": "2022-12-18T22:28:54.728139Z"
    },
    "papermill": {
     "duration": 0.040972,
     "end_time": "2022-12-18T22:28:54.731871",
     "exception": false,
     "start_time": "2022-12-18T22:28:54.690899",
     "status": "completed"
    },
    "tags": []
   },
   "outputs": [],
   "source": [
    "from sklearn.model_selection import GridSearchCV"
   ]
  },
  {
   "cell_type": "code",
   "execution_count": 81,
   "id": "39a3176e",
   "metadata": {
    "execution": {
     "iopub.execute_input": "2022-12-18T22:28:54.796365Z",
     "iopub.status.busy": "2022-12-18T22:28:54.796005Z",
     "iopub.status.idle": "2022-12-18T22:28:54.803655Z",
     "shell.execute_reply": "2022-12-18T22:28:54.802394Z"
    },
    "papermill": {
     "duration": 0.04251,
     "end_time": "2022-12-18T22:28:54.806191",
     "exception": false,
     "start_time": "2022-12-18T22:28:54.763681",
     "status": "completed"
    },
    "tags": []
   },
   "outputs": [
    {
     "data": {
      "text/plain": [
       "'\\ntuned_parameters = [{\\n    \"solver\": [ \\'newton-cg\\', \\'lbfgs\\', \\'liblinear\\'],\\n    \"penalty\":[\\'l2\\'],\\n    \"C\":[100, 10, 1.0, 0.1, 0.01]\\n}]\\n\\nclf_GBC_CV = GridSearchCV(\\n    LogisticRegression(), tuned_parameters,\\n)\\nclf_GBC_CV.fit(X_train_std, y_train)\\n\\nprint(\"Best parameters:\")\\nprint()\\nprint(clf_GBC_CV.best_params_)\\nprint()\\nprint(\"Grid scores:\")\\nmeans = clf_GBC_CV.cv_results_[\"mean_test_score\"]\\nstds = clf_GBC_CV.cv_results_[\"std_test_score\"]\\nfor mean, std, params in zip(means, stds,clf_GBC_CV.cv_results_[\\'params\\']):\\n    print(f\"{mean:0.3f} (+/-{std*2:0.03f}) for {params}\")\\n    \\n'"
      ]
     },
     "execution_count": 81,
     "metadata": {},
     "output_type": "execute_result"
    }
   ],
   "source": [
    "\"\"\"\n",
    "tuned_parameters = [{\n",
    "    \"solver\": [ 'newton-cg', 'lbfgs', 'liblinear'],\n",
    "    \"penalty\":['l2'],\n",
    "    \"C\":[100, 10, 1.0, 0.1, 0.01]\n",
    "}]\n",
    "\n",
    "clf_GBC_CV = GridSearchCV(\n",
    "    LogisticRegression(), tuned_parameters,\n",
    ")\n",
    "clf_GBC_CV.fit(X_train_std, y_train)\n",
    "\n",
    "print(\"Best parameters:\")\n",
    "print()\n",
    "print(clf_GBC_CV.best_params_)\n",
    "print()\n",
    "print(\"Grid scores:\")\n",
    "means = clf_GBC_CV.cv_results_[\"mean_test_score\"]\n",
    "stds = clf_GBC_CV.cv_results_[\"std_test_score\"]\n",
    "for mean, std, params in zip(means, stds,clf_GBC_CV.cv_results_['params']):\n",
    "    print(f\"{mean:0.3f} (+/-{std*2:0.03f}) for {params}\")\n",
    "    \n",
    "\"\"\""
   ]
  },
  {
   "cell_type": "code",
   "execution_count": 82,
   "id": "707db4a4",
   "metadata": {
    "execution": {
     "iopub.execute_input": "2022-12-18T22:28:54.873740Z",
     "iopub.status.busy": "2022-12-18T22:28:54.873413Z",
     "iopub.status.idle": "2022-12-18T22:28:54.878397Z",
     "shell.execute_reply": "2022-12-18T22:28:54.877553Z"
    },
    "papermill": {
     "duration": 0.040853,
     "end_time": "2022-12-18T22:28:54.879970",
     "exception": false,
     "start_time": "2022-12-18T22:28:54.839117",
     "status": "completed"
    },
    "tags": []
   },
   "outputs": [
    {
     "data": {
      "text/plain": [
       "'\\ntuned_parameters = [{\\n    \"kernel\": [\\'rbf\\'],\\n    \"C\":[50, 10, 1.0, 0.1, 0.01]\\n}]\\n\\nclf_GBC_CV = GridSearchCV(\\n    SVC(), tuned_parameters,\\n)\\nclf_GBC_CV.fit(X_train_std, y_train)\\n\\nprint(\"Best parameters:\")\\nprint()\\nprint(clf_GBC_CV.best_params_)\\nprint()\\nprint(\"Grid scores:\")\\nmeans = clf_GBC_CV.cv_results_[\"mean_test_score\"]\\nstds = clf_GBC_CV.cv_results_[\"std_test_score\"]\\nfor mean, std, params in zip(means, stds,clf_GBC_CV.cv_results_[\\'params\\']):\\n    print(f\"{mean:0.3f} (+/-{std*2:0.03f}) for {params}\")\\n    \\n'"
      ]
     },
     "execution_count": 82,
     "metadata": {},
     "output_type": "execute_result"
    }
   ],
   "source": [
    "\"\"\"\n",
    "tuned_parameters = [{\n",
    "    \"kernel\": ['rbf'],\n",
    "    \"C\":[50, 10, 1.0, 0.1, 0.01]\n",
    "}]\n",
    "\n",
    "clf_GBC_CV = GridSearchCV(\n",
    "    SVC(), tuned_parameters,\n",
    ")\n",
    "clf_GBC_CV.fit(X_train_std, y_train)\n",
    "\n",
    "print(\"Best parameters:\")\n",
    "print()\n",
    "print(clf_GBC_CV.best_params_)\n",
    "print()\n",
    "print(\"Grid scores:\")\n",
    "means = clf_GBC_CV.cv_results_[\"mean_test_score\"]\n",
    "stds = clf_GBC_CV.cv_results_[\"std_test_score\"]\n",
    "for mean, std, params in zip(means, stds,clf_GBC_CV.cv_results_['params']):\n",
    "    print(f\"{mean:0.3f} (+/-{std*2:0.03f}) for {params}\")\n",
    "    \n",
    "\"\"\""
   ]
  },
  {
   "cell_type": "code",
   "execution_count": 83,
   "id": "2d770c96",
   "metadata": {
    "execution": {
     "iopub.execute_input": "2022-12-18T22:28:54.945475Z",
     "iopub.status.busy": "2022-12-18T22:28:54.944825Z",
     "iopub.status.idle": "2022-12-18T22:28:54.950785Z",
     "shell.execute_reply": "2022-12-18T22:28:54.949690Z"
    },
    "papermill": {
     "duration": 0.041528,
     "end_time": "2022-12-18T22:28:54.953452",
     "exception": false,
     "start_time": "2022-12-18T22:28:54.911924",
     "status": "completed"
    },
    "scrolled": true,
    "tags": []
   },
   "outputs": [
    {
     "data": {
      "text/plain": [
       "'\\ntuned_parameters = [{\\n    \"learning_rate\": [ 0.1, 0.15, 0.2,0.25,0.3],\\n    \"max_depth\":[3,4,5,6,8],\\n    \"n_estimators\":[10,50,75,100,125,150]\\n}]\\n\\nclf_GBC_CV = GridSearchCV(\\n    GradientBoostingClassifier(), tuned_parameters,\\n)\\nclf_GBC_CV.fit(X_train, y_train)\\n\\nprint(\"Best parameters:\")\\nprint()\\nprint(clf_GBC_CV.best_params_)\\nprint()\\nprint(\"Grid scores:\")\\nmeans = clf_GBC_CV.cv_results_[\"mean_test_score\"]\\nstds = clf_GBC_CV.cv_results_[\"std_test_score\"]\\nfor mean, std, params in zip(means, stds,clf_GBC_CV.cv_results_[\\'params\\']):\\n    print(f\"{mean:0.3f} (+/-{std*2:0.03f}) for {params}\")\\n\\n'"
      ]
     },
     "execution_count": 83,
     "metadata": {},
     "output_type": "execute_result"
    }
   ],
   "source": [
    "\"\"\"\n",
    "tuned_parameters = [{\n",
    "    \"learning_rate\": [ 0.1, 0.15, 0.2,0.25,0.3],\n",
    "    \"max_depth\":[3,4,5,6,8],\n",
    "    \"n_estimators\":[10,50,75,100,125,150]\n",
    "}]\n",
    "\n",
    "clf_GBC_CV = GridSearchCV(\n",
    "    GradientBoostingClassifier(), tuned_parameters,\n",
    ")\n",
    "clf_GBC_CV.fit(X_train, y_train)\n",
    "\n",
    "print(\"Best parameters:\")\n",
    "print()\n",
    "print(clf_GBC_CV.best_params_)\n",
    "print()\n",
    "print(\"Grid scores:\")\n",
    "means = clf_GBC_CV.cv_results_[\"mean_test_score\"]\n",
    "stds = clf_GBC_CV.cv_results_[\"std_test_score\"]\n",
    "for mean, std, params in zip(means, stds,clf_GBC_CV.cv_results_['params']):\n",
    "    print(f\"{mean:0.3f} (+/-{std*2:0.03f}) for {params}\")\n",
    "\n",
    "\"\"\""
   ]
  },
  {
   "cell_type": "code",
   "execution_count": 84,
   "id": "b68a16a9",
   "metadata": {
    "execution": {
     "iopub.execute_input": "2022-12-18T22:28:55.021263Z",
     "iopub.status.busy": "2022-12-18T22:28:55.020884Z",
     "iopub.status.idle": "2022-12-18T22:28:55.027568Z",
     "shell.execute_reply": "2022-12-18T22:28:55.026577Z"
    },
    "papermill": {
     "duration": 0.042552,
     "end_time": "2022-12-18T22:28:55.029396",
     "exception": false,
     "start_time": "2022-12-18T22:28:54.986844",
     "status": "completed"
    },
    "tags": []
   },
   "outputs": [
    {
     "data": {
      "text/plain": [
       "'\\ntuned_parameters = [{\\n    \"learning_rate\": [0.001, 0.01, 0.1],\\n    \"max_depth\":[3, 7, 9],\\n    \"n_estimators\":[10, 100, 500,750],\\n    \"subsample\":[0.5, 0.7, 1.0]\\n}]\\n\\nclf_GBC_CV = GridSearchCV(\\n    GradientBoostingClassifier(), tuned_parameters,\\n)\\nclf_GBC_CV.fit(X_train, y_train)\\n\\nprint(\"Best parameters:\")\\nprint()\\nprint(clf_GBC_CV.best_params_)\\nprint()\\nprint(\"Grid scores:\")\\nmeans = clf_GBC_CV.cv_results_[\"mean_test_score\"]\\nstds = clf_GBC_CV.cv_results_[\"std_test_score\"]\\nfor mean, std, params in zip(means, stds,clf_GBC_CV.cv_results_[\\'params\\']):\\n    print(f\"{mean:0.3f} (+/-{std*2:0.03f}) for {params}\")\\n    \\n'"
      ]
     },
     "execution_count": 84,
     "metadata": {},
     "output_type": "execute_result"
    }
   ],
   "source": [
    "\"\"\"\n",
    "tuned_parameters = [{\n",
    "    \"learning_rate\": [0.001, 0.01, 0.1],\n",
    "    \"max_depth\":[3, 7, 9],\n",
    "    \"n_estimators\":[10, 100, 500,750],\n",
    "    \"subsample\":[0.5, 0.7, 1.0]\n",
    "}]\n",
    "\n",
    "clf_GBC_CV = GridSearchCV(\n",
    "    GradientBoostingClassifier(), tuned_parameters,\n",
    ")\n",
    "clf_GBC_CV.fit(X_train, y_train)\n",
    "\n",
    "print(\"Best parameters:\")\n",
    "print()\n",
    "print(clf_GBC_CV.best_params_)\n",
    "print()\n",
    "print(\"Grid scores:\")\n",
    "means = clf_GBC_CV.cv_results_[\"mean_test_score\"]\n",
    "stds = clf_GBC_CV.cv_results_[\"std_test_score\"]\n",
    "for mean, std, params in zip(means, stds,clf_GBC_CV.cv_results_['params']):\n",
    "    print(f\"{mean:0.3f} (+/-{std*2:0.03f}) for {params}\")\n",
    "    \n",
    "\"\"\""
   ]
  },
  {
   "cell_type": "code",
   "execution_count": 85,
   "id": "53247198",
   "metadata": {
    "execution": {
     "iopub.execute_input": "2022-12-18T22:28:55.095893Z",
     "iopub.status.busy": "2022-12-18T22:28:55.095523Z",
     "iopub.status.idle": "2022-12-18T22:29:07.927205Z",
     "shell.execute_reply": "2022-12-18T22:29:07.925282Z"
    },
    "papermill": {
     "duration": 12.868492,
     "end_time": "2022-12-18T22:29:07.930091",
     "exception": false,
     "start_time": "2022-12-18T22:28:55.061599",
     "status": "completed"
    },
    "tags": []
   },
   "outputs": [
    {
     "name": "stdout",
     "output_type": "stream",
     "text": [
      "LogisticRegression(C=0.01, solver='liblinear')\n",
      "training score: 0.612\n",
      "test score: 0.605\n",
      "[[ 438  619]\n",
      " [ 260 1159]]\n",
      "              precision    recall  f1-score   support\n",
      "\n",
      "           0       0.63      0.41      0.50      1057\n",
      "           1       0.65      0.82      0.73      1419\n",
      "\n",
      "    accuracy                           0.64      2476\n",
      "   macro avg       0.64      0.62      0.61      2476\n",
      "weighted avg       0.64      0.64      0.63      2476\n",
      "\n",
      "\n",
      "SVC()\n",
      "training score: 0.747\n",
      "test score: 0.642\n",
      "[[ 438  619]\n",
      " [ 260 1159]]\n",
      "              precision    recall  f1-score   support\n",
      "\n",
      "           0       0.63      0.41      0.50      1057\n",
      "           1       0.65      0.82      0.73      1419\n",
      "\n",
      "    accuracy                           0.64      2476\n",
      "   macro avg       0.64      0.62      0.61      2476\n",
      "weighted avg       0.64      0.64      0.63      2476\n",
      "\n",
      "\n"
     ]
    }
   ],
   "source": [
    "lr=LogisticRegression(C = 0.01, penalty= 'l2', solver= 'liblinear')\n",
    "svm=SVC(C = 1.0, kernel= 'rbf')\n",
    "models=[lr,svm]\n",
    "\n",
    "for model in models:\n",
    "    print(model)\n",
    "    model.fit(X_train_std, y_train)\n",
    "    print(\"training score: %.3f\" % model.score(X_train_std, y_train))\n",
    "    print(\"test score: %.3f\" % model.score(X_test_std, y_test))\n",
    "    y_pred=i.predict(X_test)\n",
    "    print(confusion_matrix(y_test, y_pred))\n",
    "    print(classification_report(y_test, y_pred))\n",
    "    print()"
   ]
  },
  {
   "cell_type": "code",
   "execution_count": 86,
   "id": "f7f04f84",
   "metadata": {
    "execution": {
     "iopub.execute_input": "2022-12-18T22:29:07.997894Z",
     "iopub.status.busy": "2022-12-18T22:29:07.997318Z",
     "iopub.status.idle": "2022-12-18T22:29:35.052856Z",
     "shell.execute_reply": "2022-12-18T22:29:35.051890Z"
    },
    "papermill": {
     "duration": 27.091678,
     "end_time": "2022-12-18T22:29:35.054895",
     "exception": false,
     "start_time": "2022-12-18T22:29:07.963217",
     "status": "completed"
    },
    "tags": []
   },
   "outputs": [
    {
     "name": "stdout",
     "output_type": "stream",
     "text": [
      "GradientBoostingClassifier(learning_rate=0.25, n_estimators=150)\n",
      "training score: 0.704\n",
      "test score: 0.637\n",
      "[[ 438  619]\n",
      " [ 260 1159]]\n",
      "              precision    recall  f1-score   support\n",
      "\n",
      "           0       0.63      0.41      0.50      1057\n",
      "           1       0.65      0.82      0.73      1419\n",
      "\n",
      "    accuracy                           0.64      2476\n",
      "   macro avg       0.64      0.62      0.61      2476\n",
      "weighted avg       0.64      0.64      0.63      2476\n",
      "\n",
      "\n",
      "GradientBoostingClassifier(learning_rate=0.01, max_depth=7, n_estimators=750,\n",
      "                           subsample=0.7)\n",
      "training score: 0.898\n",
      "test score: 0.657\n",
      "[[ 438  619]\n",
      " [ 260 1159]]\n",
      "              precision    recall  f1-score   support\n",
      "\n",
      "           0       0.63      0.41      0.50      1057\n",
      "           1       0.65      0.82      0.73      1419\n",
      "\n",
      "    accuracy                           0.64      2476\n",
      "   macro avg       0.64      0.62      0.61      2476\n",
      "weighted avg       0.64      0.64      0.63      2476\n",
      "\n",
      "\n"
     ]
    }
   ],
   "source": [
    "gb1=GradientBoostingClassifier(learning_rate= 0.25, max_depth= 3, n_estimators= 150)\n",
    "gb2=GradientBoostingClassifier(learning_rate= 0.01, max_depth= 7, n_estimators= 750, subsample= 0.7)\n",
    "models=[gb1,gb2]\n",
    "\n",
    "for model in models:\n",
    "    print(model)\n",
    "    model.fit(X_train, y_train)\n",
    "    print(\"training score: %.3f\" % model.score(X_train, y_train))\n",
    "    print(\"test score: %.3f\" % model.score(X_test, y_test))\n",
    "    y_pred=i.predict(X_test)\n",
    "    print(confusion_matrix(y_test, y_pred))\n",
    "    print(classification_report(y_test, y_pred))\n",
    "    print()"
   ]
  },
  {
   "cell_type": "code",
   "execution_count": 87,
   "id": "2fb783d8",
   "metadata": {
    "execution": {
     "iopub.execute_input": "2022-12-18T22:29:35.122742Z",
     "iopub.status.busy": "2022-12-18T22:29:35.122226Z",
     "iopub.status.idle": "2022-12-18T22:29:35.210228Z",
     "shell.execute_reply": "2022-12-18T22:29:35.209168Z"
    },
    "papermill": {
     "duration": 0.124856,
     "end_time": "2022-12-18T22:29:35.212541",
     "exception": false,
     "start_time": "2022-12-18T22:29:35.087685",
     "status": "completed"
    },
    "tags": []
   },
   "outputs": [],
   "source": [
    "pred=gb2.predict(X_test)"
   ]
  },
  {
   "cell_type": "code",
   "execution_count": 88,
   "id": "d84dd82a",
   "metadata": {
    "execution": {
     "iopub.execute_input": "2022-12-18T22:29:35.280911Z",
     "iopub.status.busy": "2022-12-18T22:29:35.280593Z",
     "iopub.status.idle": "2022-12-18T22:29:35.287951Z",
     "shell.execute_reply": "2022-12-18T22:29:35.286837Z"
    },
    "papermill": {
     "duration": 0.043951,
     "end_time": "2022-12-18T22:29:35.290238",
     "exception": false,
     "start_time": "2022-12-18T22:29:35.246287",
     "status": "completed"
    },
    "tags": []
   },
   "outputs": [
    {
     "data": {
      "text/plain": [
       "array([[ 501,  556],\n",
       "       [ 293, 1126]])"
      ]
     },
     "execution_count": 88,
     "metadata": {},
     "output_type": "execute_result"
    }
   ],
   "source": [
    "confusion_matrix(y_test, pred)"
   ]
  },
  {
   "cell_type": "code",
   "execution_count": 89,
   "id": "7f262aaa",
   "metadata": {
    "execution": {
     "iopub.execute_input": "2022-12-18T22:29:35.358490Z",
     "iopub.status.busy": "2022-12-18T22:29:35.357655Z",
     "iopub.status.idle": "2022-12-18T22:29:35.368514Z",
     "shell.execute_reply": "2022-12-18T22:29:35.366554Z"
    },
    "papermill": {
     "duration": 0.047019,
     "end_time": "2022-12-18T22:29:35.370691",
     "exception": false,
     "start_time": "2022-12-18T22:29:35.323672",
     "status": "completed"
    },
    "tags": []
   },
   "outputs": [
    {
     "name": "stdout",
     "output_type": "stream",
     "text": [
      "              precision    recall  f1-score   support\n",
      "\n",
      "           0       0.63      0.47      0.54      1057\n",
      "           1       0.67      0.79      0.73      1419\n",
      "\n",
      "    accuracy                           0.66      2476\n",
      "   macro avg       0.65      0.63      0.63      2476\n",
      "weighted avg       0.65      0.66      0.65      2476\n",
      "\n"
     ]
    }
   ],
   "source": [
    "print(classification_report(y_test, pred))"
   ]
  },
  {
   "cell_type": "code",
   "execution_count": 90,
   "id": "9ea28ffd",
   "metadata": {
    "execution": {
     "iopub.execute_input": "2022-12-18T22:29:35.439160Z",
     "iopub.status.busy": "2022-12-18T22:29:35.438776Z",
     "iopub.status.idle": "2022-12-18T22:30:05.826522Z",
     "shell.execute_reply": "2022-12-18T22:30:05.825090Z"
    },
    "papermill": {
     "duration": 30.455007,
     "end_time": "2022-12-18T22:30:05.859242",
     "exception": false,
     "start_time": "2022-12-18T22:29:35.404235",
     "status": "completed"
    },
    "tags": []
   },
   "outputs": [
    {
     "data": {
      "text/plain": [
       "GradientBoostingClassifier(learning_rate=0.01, max_depth=7, n_estimators=750,\n",
       "                           subsample=0.7)"
      ]
     },
     "execution_count": 90,
     "metadata": {},
     "output_type": "execute_result"
    }
   ],
   "source": [
    "gbc=GradientBoostingClassifier(learning_rate= 0.01, max_depth= 7, n_estimators= 750, subsample= 0.7)\n",
    "gbc.fit(X, y)"
   ]
  },
  {
   "cell_type": "code",
   "execution_count": 91,
   "id": "1658f57d",
   "metadata": {
    "execution": {
     "iopub.execute_input": "2022-12-18T22:30:05.926449Z",
     "iopub.status.busy": "2022-12-18T22:30:05.926075Z",
     "iopub.status.idle": "2022-12-18T22:30:06.034257Z",
     "shell.execute_reply": "2022-12-18T22:30:06.032791Z"
    },
    "papermill": {
     "duration": 0.145413,
     "end_time": "2022-12-18T22:30:06.037208",
     "exception": false,
     "start_time": "2022-12-18T22:30:05.891795",
     "status": "completed"
    },
    "tags": []
   },
   "outputs": [],
   "source": [
    "import xgboost as xgb"
   ]
  },
  {
   "cell_type": "code",
   "execution_count": 92,
   "id": "dc377232",
   "metadata": {
    "execution": {
     "iopub.execute_input": "2022-12-18T22:30:06.107505Z",
     "iopub.status.busy": "2022-12-18T22:30:06.106862Z",
     "iopub.status.idle": "2022-12-18T22:30:06.111232Z",
     "shell.execute_reply": "2022-12-18T22:30:06.110556Z"
    },
    "papermill": {
     "duration": 0.042357,
     "end_time": "2022-12-18T22:30:06.113660",
     "exception": false,
     "start_time": "2022-12-18T22:30:06.071303",
     "status": "completed"
    },
    "tags": []
   },
   "outputs": [],
   "source": [
    "regressor_0 = xgb.XGBClassifier()"
   ]
  },
  {
   "cell_type": "code",
   "execution_count": 93,
   "id": "dfa2f5da",
   "metadata": {
    "execution": {
     "iopub.execute_input": "2022-12-18T22:30:06.186856Z",
     "iopub.status.busy": "2022-12-18T22:30:06.185655Z",
     "iopub.status.idle": "2022-12-18T22:30:07.684683Z",
     "shell.execute_reply": "2022-12-18T22:30:07.684006Z"
    },
    "papermill": {
     "duration": 1.537857,
     "end_time": "2022-12-18T22:30:07.686898",
     "exception": false,
     "start_time": "2022-12-18T22:30:06.149041",
     "status": "completed"
    },
    "tags": []
   },
   "outputs": [
    {
     "name": "stdout",
     "output_type": "stream",
     "text": [
      "training score: 0.919\n",
      "test score: 0.642\n"
     ]
    }
   ],
   "source": [
    "regressor_0.fit(X_train, y_train)\n",
    "print(\"training score: %.3f\" % regressor_0.score(X_train, y_train))\n",
    "print(\"test score: %.3f\" % regressor_0.score(X_test, y_test))"
   ]
  },
  {
   "cell_type": "code",
   "execution_count": 94,
   "id": "534dbfba",
   "metadata": {
    "execution": {
     "iopub.execute_input": "2022-12-18T22:30:07.758361Z",
     "iopub.status.busy": "2022-12-18T22:30:07.757771Z",
     "iopub.status.idle": "2022-12-18T22:30:07.762088Z",
     "shell.execute_reply": "2022-12-18T22:30:07.761231Z"
    },
    "papermill": {
     "duration": 0.042667,
     "end_time": "2022-12-18T22:30:07.764397",
     "exception": false,
     "start_time": "2022-12-18T22:30:07.721730",
     "status": "completed"
    },
    "tags": []
   },
   "outputs": [],
   "source": [
    "regressor = xgb.XGBClassifier(\n",
    "    n_estimators=100,\n",
    "    reg_lambda=1,\n",
    "    gamma=0,\n",
    "    max_depth=3\n",
    ")"
   ]
  },
  {
   "cell_type": "code",
   "execution_count": 95,
   "id": "90f5aff6",
   "metadata": {
    "execution": {
     "iopub.execute_input": "2022-12-18T22:30:07.834889Z",
     "iopub.status.busy": "2022-12-18T22:30:07.834523Z",
     "iopub.status.idle": "2022-12-18T22:30:08.715929Z",
     "shell.execute_reply": "2022-12-18T22:30:08.714271Z"
    },
    "papermill": {
     "duration": 0.923537,
     "end_time": "2022-12-18T22:30:08.722246",
     "exception": false,
     "start_time": "2022-12-18T22:30:07.798709",
     "status": "completed"
    },
    "tags": []
   },
   "outputs": [
    {
     "name": "stdout",
     "output_type": "stream",
     "text": [
      "training score: 0.691\n",
      "test score: 0.645\n"
     ]
    }
   ],
   "source": [
    "regressor.fit(X_train, y_train)\n",
    "print(\"training score: %.3f\" % regressor.score(X_train, y_train))\n",
    "print(\"test score: %.3f\" % regressor.score(X_test, y_test))"
   ]
  },
  {
   "cell_type": "code",
   "execution_count": 96,
   "id": "5ccd06dc",
   "metadata": {
    "execution": {
     "iopub.execute_input": "2022-12-18T22:30:08.805018Z",
     "iopub.status.busy": "2022-12-18T22:30:08.804675Z",
     "iopub.status.idle": "2022-12-18T22:30:09.796142Z",
     "shell.execute_reply": "2022-12-18T22:30:09.794424Z"
    },
    "papermill": {
     "duration": 1.029851,
     "end_time": "2022-12-18T22:30:09.798246",
     "exception": false,
     "start_time": "2022-12-18T22:30:08.768395",
     "status": "completed"
    },
    "tags": []
   },
   "outputs": [
    {
     "data": {
      "text/plain": [
       "XGBClassifier(base_score=0.5, booster='gbtree', callbacks=None,\n",
       "              colsample_bylevel=1, colsample_bynode=1, colsample_bytree=1,\n",
       "              early_stopping_rounds=None, enable_categorical=False,\n",
       "              eval_metric=None, gamma=0, gpu_id=-1, grow_policy='depthwise',\n",
       "              importance_type=None, interaction_constraints='',\n",
       "              learning_rate=0.300000012, max_bin=256, max_cat_to_onehot=4,\n",
       "              max_delta_step=0, max_depth=3, max_leaves=0, min_child_weight=1,\n",
       "              missing=nan, monotone_constraints='()', n_estimators=100,\n",
       "              n_jobs=0, num_parallel_tree=1, predictor='auto', random_state=0,\n",
       "              reg_alpha=0, reg_lambda=1, ...)"
      ]
     },
     "execution_count": 96,
     "metadata": {},
     "output_type": "execute_result"
    }
   ],
   "source": [
    "regressor.fit(X, y)"
   ]
  },
  {
   "cell_type": "code",
   "execution_count": 97,
   "id": "00418580",
   "metadata": {
    "execution": {
     "iopub.execute_input": "2022-12-18T22:30:09.866794Z",
     "iopub.status.busy": "2022-12-18T22:30:09.866465Z",
     "iopub.status.idle": "2022-12-18T22:30:11.615551Z",
     "shell.execute_reply": "2022-12-18T22:30:11.614929Z"
    },
    "papermill": {
     "duration": 1.785429,
     "end_time": "2022-12-18T22:30:11.617395",
     "exception": false,
     "start_time": "2022-12-18T22:30:09.831966",
     "status": "completed"
    },
    "tags": []
   },
   "outputs": [
    {
     "data": {
      "text/plain": [
       "XGBClassifier(base_score=0.5, booster='gbtree', callbacks=None,\n",
       "              colsample_bylevel=1, colsample_bynode=1, colsample_bytree=1,\n",
       "              early_stopping_rounds=None, enable_categorical=False,\n",
       "              eval_metric=None, gamma=0, gpu_id=-1, grow_policy='depthwise',\n",
       "              importance_type=None, interaction_constraints='',\n",
       "              learning_rate=0.300000012, max_bin=256, max_cat_to_onehot=4,\n",
       "              max_delta_step=0, max_depth=6, max_leaves=0, min_child_weight=1,\n",
       "              missing=nan, monotone_constraints='()', n_estimators=100,\n",
       "              n_jobs=0, num_parallel_tree=1, predictor='auto', random_state=0,\n",
       "              reg_alpha=0, reg_lambda=1, ...)"
      ]
     },
     "execution_count": 97,
     "metadata": {},
     "output_type": "execute_result"
    }
   ],
   "source": [
    "regressor_0.fit(X, y)"
   ]
  },
  {
   "cell_type": "code",
   "execution_count": 98,
   "id": "7d67df9e",
   "metadata": {
    "execution": {
     "iopub.execute_input": "2022-12-18T22:30:11.686259Z",
     "iopub.status.busy": "2022-12-18T22:30:11.685686Z",
     "iopub.status.idle": "2022-12-18T22:30:11.863833Z",
     "shell.execute_reply": "2022-12-18T22:30:11.862577Z"
    },
    "papermill": {
     "duration": 0.215415,
     "end_time": "2022-12-18T22:30:11.866492",
     "exception": false,
     "start_time": "2022-12-18T22:30:11.651077",
     "status": "completed"
    },
    "tags": []
   },
   "outputs": [],
   "source": [
    "y_pred=gbc.predict(df2)\n",
    "y_sub=pd.Series(y_pred)\n",
    "y_sub=y_sub.replace([1,0],['Yes','No'])"
   ]
  },
  {
   "cell_type": "code",
   "execution_count": 99,
   "id": "9ea7b7cc",
   "metadata": {
    "execution": {
     "iopub.execute_input": "2022-12-18T22:30:11.936517Z",
     "iopub.status.busy": "2022-12-18T22:30:11.936187Z",
     "iopub.status.idle": "2022-12-18T22:30:11.947261Z",
     "shell.execute_reply": "2022-12-18T22:30:11.946185Z"
    },
    "papermill": {
     "duration": 0.048813,
     "end_time": "2022-12-18T22:30:11.949591",
     "exception": false,
     "start_time": "2022-12-18T22:30:11.900778",
     "status": "completed"
    },
    "tags": []
   },
   "outputs": [],
   "source": [
    "submission=pd.DataFrame(columns=['id','Offer Accepted'])\n",
    "submission['id']=[i for i in range(len(y_pred))]\n",
    "submission['Offer Accepted']=y_sub"
   ]
  },
  {
   "cell_type": "code",
   "execution_count": 100,
   "id": "a7bcac28",
   "metadata": {
    "execution": {
     "iopub.execute_input": "2022-12-18T22:30:12.018717Z",
     "iopub.status.busy": "2022-12-18T22:30:12.018384Z",
     "iopub.status.idle": "2022-12-18T22:30:12.030731Z",
     "shell.execute_reply": "2022-12-18T22:30:12.029639Z"
    },
    "papermill": {
     "duration": 0.049698,
     "end_time": "2022-12-18T22:30:12.033088",
     "exception": false,
     "start_time": "2022-12-18T22:30:11.983390",
     "status": "completed"
    },
    "tags": []
   },
   "outputs": [],
   "source": [
    "submission.to_csv('submission.csv',index=False)"
   ]
  },
  {
   "cell_type": "code",
   "execution_count": null,
   "id": "7f6cc46b",
   "metadata": {
    "papermill": {
     "duration": 0.034581,
     "end_time": "2022-12-18T22:30:12.101844",
     "exception": false,
     "start_time": "2022-12-18T22:30:12.067263",
     "status": "completed"
    },
    "tags": []
   },
   "outputs": [],
   "source": []
  }
 ],
 "metadata": {
  "kernelspec": {
   "display_name": "Python 3",
   "language": "python",
   "name": "python3"
  },
  "language_info": {
   "codemirror_mode": {
    "name": "ipython",
    "version": 3
   },
   "file_extension": ".py",
   "mimetype": "text/x-python",
   "name": "python",
   "nbconvert_exporter": "python",
   "pygments_lexer": "ipython3",
   "version": "3.7.12"
  },
  "papermill": {
   "default_parameters": {},
   "duration": 115.375153,
   "end_time": "2022-12-18T22:30:12.956681",
   "environment_variables": {},
   "exception": null,
   "input_path": "__notebook__.ipynb",
   "output_path": "__notebook__.ipynb",
   "parameters": {},
   "start_time": "2022-12-18T22:28:17.581528",
   "version": "2.3.4"
  }
 },
 "nbformat": 4,
 "nbformat_minor": 5
}
